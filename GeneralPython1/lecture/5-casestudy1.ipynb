{
 "cells": [
  {
   "cell_type": "code",
   "execution_count": 2,
   "metadata": {},
   "outputs": [
    {
     "name": "stdout",
     "output_type": "stream",
     "text": [
      "COVID-19 Vaccination Booking\n",
      "Available Vaccines:\n",
      "(0) Pfizer - 3000 Bath/person\n",
      "(1) Moderna - 3300 Bath/person\n",
      "(2) Sinopharm - 3400 Bath/person\n",
      "(3) Sinovac - 0 Bath/person\n",
      "Invalid input. Please enter a valid number.\n",
      "Invalid input. Please enter a valid number.\n",
      "Invalid input. Please enter a valid number.\n",
      "Invalid choice. Please choose 1, 2, 3, or 4.\n",
      "\n",
      "Booking Summary:\n",
      "Total number of vaccinations booked: 1\n",
      "Total price of vaccine(s): 3000 Bath\n",
      "Total customer name list(s): ['Gun']\n"
     ]
    }
   ],
   "source": [
    "class VaccinationBooking:\n",
    "    def __init__(self):\n",
    "        self.vaccine_prices = {1: 3000, 2: 3300, 3: 3400, 4: 0}\n",
    "        self.vaccine_name = ['Pfizer','Moderna','Sinopharm','Sinovac']\n",
    "        self.customers = []\n",
    "\n",
    "    def run(self):\n",
    "        print(\"COVID-19 Vaccination Booking\")\n",
    "        print(\"Available Vaccines:\")\n",
    "        for idx, vn in enumerate(self.vaccine_name):\n",
    "            print(f\"({idx}) {vn} - {self.vaccine_prices[idx+1]} Bath/person\")\n",
    "\n",
    "        vaccine_choice = self.get_choice(\"vaccine\")\n",
    "        num_customers = self.get_choice(\"number of customers\")\n",
    "\n",
    "        self.customers = [self.get_customer_name(i + 1) for i in range(num_customers)]\n",
    "\n",
    "        total_vaccinations = len(self.customers)\n",
    "        total_price = total_vaccinations * self.vaccine_prices[vaccine_choice]\n",
    "\n",
    "        print(\"\\nBooking Summary:\")\n",
    "        print(\"Total number of vaccinations booked:\", total_vaccinations)\n",
    "        print(\"Total price of vaccine(s):\", total_price, \"Bath\")\n",
    "        print(\"Total customer name list(s):\", self.customers)\n",
    "\n",
    "    def get_choice(self, label):\n",
    "        while True:\n",
    "            try:\n",
    "                choice = int(input(f\"Enter your {label} choice: \"))\n",
    "                if choice in self.vaccine_prices:\n",
    "                    return choice\n",
    "                print(\"Invalid choice. Please choose 1, 2, 3, or 4.\")\n",
    "            except ValueError:\n",
    "                print(\"Invalid input. Please enter a valid number.\")\n",
    "\n",
    "    def get_customer_name(self, customer_number):\n",
    "        while True:\n",
    "            customer_name = input(f\"Enter name of customer {customer_number}: \")\n",
    "            if customer_name.isalpha():\n",
    "                return customer_name\n",
    "            print(\"Invalid input. Please enter alphabet characters only.\")\n",
    "\n",
    "\n",
    "# Create an instance of VaccinationBooking and run the program\n",
    "booking = VaccinationBooking()\n",
    "booking.run()\n"
   ]
  }
 ],
 "metadata": {
  "kernelspec": {
   "display_name": "Python 3",
   "language": "python",
   "name": "python3"
  },
  "language_info": {
   "codemirror_mode": {
    "name": "ipython",
    "version": 3
   },
   "file_extension": ".py",
   "mimetype": "text/x-python",
   "name": "python",
   "nbconvert_exporter": "python",
   "pygments_lexer": "ipython3",
   "version": "3.9.6"
  },
  "orig_nbformat": 4
 },
 "nbformat": 4,
 "nbformat_minor": 2
}
