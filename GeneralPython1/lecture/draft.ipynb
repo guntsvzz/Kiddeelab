{
 "cells": [
  {
   "attachments": {},
   "cell_type": "markdown",
   "metadata": {},
   "source": [
    "The __init__() Function assign values to object properties, or other operations that are necessary to do when the object is being created:"
   ]
  },
  {
   "cell_type": "code",
   "execution_count": 3,
   "metadata": {},
   "outputs": [
    {
     "name": "stdout",
     "output_type": "stream",
     "text": [
      "John\n",
      "36\n"
     ]
    }
   ],
   "source": [
    "class Person:\n",
    "  def __init__(self, name, age):\n",
    "    self.name = name\n",
    "    self.age = age\n",
    "\n",
    "p1 = Person(\"John\", 36)\n",
    "\n",
    "print(p1.name)\n",
    "print(p1.age)"
   ]
  },
  {
   "cell_type": "code",
   "execution_count": 4,
   "metadata": {},
   "outputs": [
    {
     "name": "stdout",
     "output_type": "stream",
     "text": [
      "<__main__.Person object at 0x1071cdfd0>\n"
     ]
    }
   ],
   "source": [
    "print(p1)"
   ]
  },
  {
   "attachments": {},
   "cell_type": "markdown",
   "metadata": {},
   "source": [
    "The __str__() Function controls what should be returned when the class object is represented as a string."
   ]
  },
  {
   "cell_type": "code",
   "execution_count": 5,
   "metadata": {},
   "outputs": [
    {
     "name": "stdout",
     "output_type": "stream",
     "text": [
      "John(36)\n"
     ]
    }
   ],
   "source": [
    "class Person:\n",
    "  def __init__(self, name, age):\n",
    "    self.name = name\n",
    "    self.age = age\n",
    "\n",
    "  def __str__(self):\n",
    "    return f\"{self.name}({self.age})\"\n",
    "\n",
    "p1 = Person(\"John\", 36)\n",
    "\n",
    "print(p1)"
   ]
  },
  {
   "cell_type": "code",
   "execution_count": null,
   "metadata": {},
   "outputs": [],
   "source": [
    "class Person:\n",
    "  def __init__(mysillyobject, name, age):\n",
    "    mysillyobject.name = name\n",
    "    mysillyobject.age = age\n",
    "\n",
    "  def myfunc(abc):\n",
    "    print(\"Hello my name is \" + abc.name)\n",
    "\n",
    "p1 = Person(\"John\", 36)\n",
    "p1.myfunc()"
   ]
  },
  {
   "cell_type": "code",
   "execution_count": 6,
   "metadata": {},
   "outputs": [
    {
     "name": "stdout",
     "output_type": "stream",
     "text": [
      "Hi, I'm Alice and I'm 25 years old.\n",
      "Person: Alice, Age: 25\n",
      "Name length: 5\n"
     ]
    }
   ],
   "source": [
    "class Person:\n",
    "    def __init__(self, name, age):\n",
    "        self.name = name\n",
    "        self.age = age\n",
    "    \n",
    "    def introduce(self):\n",
    "        print(f\"Hi, I'm {self.name} and I'm {self.age} years old.\")\n",
    "    \n",
    "    def __str__(self):\n",
    "        return f\"Person: {self.name}, Age: {self.age}\"\n",
    "    \n",
    "    def __len__(self):\n",
    "        return len(self.name)\n",
    "\n",
    "# Create an instance of the class\n",
    "person1 = Person(\"Alice\", 25)\n",
    "person1.introduce()\n",
    "print(str(person1))\n",
    "print(\"Name length:\", len(person1))  # Output: Name length: 5\n"
   ]
  },
  {
   "cell_type": "code",
   "execution_count": 7,
   "metadata": {},
   "outputs": [
    {
     "name": "stdout",
     "output_type": "stream",
     "text": [
      "Hi, I'm Bob and I'm 18 years old.\n",
      "My student ID is 123456.\n",
      "Student: Bob, Age: 18, ID: 123456\n",
      "Name length: 3\n"
     ]
    }
   ],
   "source": [
    "class Student(Person):\n",
    "    def __init__(self, name, age, student_id):\n",
    "        super().__init__(name, age)\n",
    "        self.student_id = student_id\n",
    "    \n",
    "    def introduce(self):\n",
    "        super().introduce()\n",
    "        print(f\"My student ID is {self.student_id}.\")\n",
    "    \n",
    "    def __str__(self):\n",
    "        return f\"Student: {self.name}, Age: {self.age}, ID: {self.student_id}\"\n",
    "    \n",
    "    def __len__(self):\n",
    "        return len(self.name)\n",
    "\n",
    "# Create an instance of the subclass\n",
    "student1 = Student(\"Bob\", 18, \"123456\")\n",
    "student1.introduce()\n",
    "print(str(student1))\n",
    "print(\"Name length:\", len(student1))  # Output: Name length: 3\n"
   ]
  },
  {
   "cell_type": "code",
   "execution_count": 8,
   "metadata": {},
   "outputs": [
    {
     "name": "stdout",
     "output_type": "stream",
     "text": [
      "Apple Inc. (AAPL): $150.23\n",
      "Alphabet Inc. (GOOGL): $2780.55\n",
      "Apple Inc. (AAPL): $155.78\n",
      "Length of company name: 13\n"
     ]
    }
   ],
   "source": [
    "class Stock:\n",
    "    def __init__(self, symbol, company_name, current_price):\n",
    "        self.symbol = symbol\n",
    "        self.company_name = company_name\n",
    "        self.current_price = current_price\n",
    "    \n",
    "    def update_price(self, new_price):\n",
    "        self.current_price = new_price\n",
    "    \n",
    "    def __str__(self):\n",
    "        return f\"{self.company_name} ({self.symbol}): ${self.current_price}\"\n",
    "    \n",
    "    def __len__(self):\n",
    "        return len(self.company_name)\n",
    "\n",
    "# Create instances of the Stock class\n",
    "stock1 = Stock(\"AAPL\", \"Apple Inc.\", 150.23)\n",
    "stock2 = Stock(\"GOOGL\", \"Alphabet Inc.\", 2780.55)\n",
    "\n",
    "# Display stock information\n",
    "print(stock1)  # Output: Apple Inc. (AAPL): $150.23\n",
    "print(stock2)  # Output: Alphabet Inc. (GOOGL): $2780.55\n",
    "\n",
    "# Update stock price and display again\n",
    "stock1.update_price(155.78)\n",
    "print(stock1)  # Output: Apple Inc. (AAPL): $155.78\n",
    "\n",
    "# Get length of company name\n",
    "print(\"Length of company name:\", len(stock2))  # Output: Length of company name: 13\n"
   ]
  }
 ],
 "metadata": {
  "kernelspec": {
   "display_name": "Python 3",
   "language": "python",
   "name": "python3"
  },
  "language_info": {
   "codemirror_mode": {
    "name": "ipython",
    "version": 3
   },
   "file_extension": ".py",
   "mimetype": "text/x-python",
   "name": "python",
   "nbconvert_exporter": "python",
   "pygments_lexer": "ipython3",
   "version": "3.9.6"
  },
  "orig_nbformat": 4
 },
 "nbformat": 4,
 "nbformat_minor": 2
}
