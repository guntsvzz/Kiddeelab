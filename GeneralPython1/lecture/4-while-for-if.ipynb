{
 "cells": [
  {
   "attachments": {},
   "cell_type": "markdown",
   "metadata": {},
   "source": [
    "# Method"
   ]
  },
  {
   "attachments": {},
   "cell_type": "markdown",
   "metadata": {},
   "source": [
    "## 1. String Methods\n",
    "\n",
    "- `upper()`, lower(): Convert strings to uppercase or lowercase.\n",
    "- `strip()`: Remove leading and trailing whitespace.\n",
    "- `split()`: Split a string into a list of substrings.\n",
    "- `join()`: Join a list of strings into one string."
   ]
  },
  {
   "cell_type": "code",
   "execution_count": 9,
   "metadata": {},
   "outputs": [
    {
     "name": "stdout",
     "output_type": "stream",
     "text": [
      "hello  world!\n"
     ]
    }
   ],
   "source": [
    "text = \"   Hello, World!   \"\n",
    "cleaned_text = text.strip().lower() #make it lower\n",
    "words = cleaned_text.split(',') #seperate string to be list\n",
    "joined_text = ' '.join(words) #join list to be a string\n",
    "print(joined_text)"
   ]
  },
  {
   "attachments": {},
   "cell_type": "markdown",
   "metadata": {},
   "source": [
    "- `isalpha()` : checks if all characters in a string are alphabetic (letters).\n",
    "- `isalnum()` : checks if all characters in a string are alphanumeric (letters and numbers).\n",
    "- `isdigit()` : checks if all characters in a string are digits.\n",
    "- `format()`  : method is used to format strings by replacing placeholders with values."
   ]
  },
  {
   "cell_type": "code",
   "execution_count": 25,
   "metadata": {},
   "outputs": [
    {
     "name": "stdout",
     "output_type": "stream",
     "text": [
      "The string contains only alphabetic characters.\n",
      "The string contains non-alphabetic characters.\n",
      "The string contains only alphanumeric characters.\n",
      "The string contains non-alphanumeric characters.\n"
     ]
    }
   ],
   "source": [
    "text = \"HelloWorld\"\n",
    "if text.isalpha():\n",
    "    print(\"The string contains only alphabetic characters.\")\n",
    "else:\n",
    "    print(\"The string contains non-alphabetic characters.\")\n",
    "\n",
    "text = \"Hello123\"\n",
    "if text.isalpha():\n",
    "    print(\"The string contains only alphabetic characters.\")\n",
    "else:\n",
    "    print(\"The string contains non-alphabetic characters.\")\n",
    "\n",
    "text = \"HelloWorld123\"\n",
    "if text.isalnum():\n",
    "    print(\"The string contains only alphanumeric characters.\")\n",
    "else:\n",
    "    print(\"The string contains non-alphanumeric characters.\")\n",
    "\n",
    "text = \"Hello World\"\n",
    "if text.isalnum():\n",
    "    print(\"The string contains only alphanumeric characters.\")\n",
    "else:\n",
    "    print(\"The string contains non-alphanumeric characters.\")"
   ]
  },
  {
   "attachments": {},
   "cell_type": "markdown",
   "metadata": {},
   "source": [
    "- `%s`: This is a placeholder for strings. It is used to insert string values into a formatted string\n",
    "- `%d`: This is a placeholder for integers. It is used to insert integer values into a formatted string. \n",
    "- `%f`: This is a placeholder for floating-point numbers (decimals). It is used to insert floating-point values into a formatted string."
   ]
  },
  {
   "cell_type": "code",
   "execution_count": 30,
   "metadata": {},
   "outputs": [
    {
     "name": "stdout",
     "output_type": "stream",
     "text": [
      "My name is Alice, I am 30 years old, and I am 1.8 meters tall.\n",
      "My name is Alice, I am 30 years old, and I am 1.75 meters tall.\n",
      "My name is Alice, I am 30 years old, and I am 1.75 meters tall.\n"
     ]
    }
   ],
   "source": [
    "name = \"Alice\"\n",
    "age = 30\n",
    "height = 1.75\n",
    "\n",
    "# Using format method with placeholders\n",
    "message = \"My name is {}, I am {} years old, and I am {:.1f} meters tall.\".format(name, age, height)\n",
    "print(message)\n",
    "\n",
    "# Using format method with %s, %d, and %f\n",
    "message = \"My name is %s, I am %d years old, and I am %.2f meters tall.\" % (name, age, height)\n",
    "print(message)\n",
    "\n",
    "# Alternatively, you can use f-strings (formatted string literals) in Python 3.6+\n",
    "message = f\"My name is {name}, I am {age} years old, and I am {height:.2f} meters tall.\"\n",
    "print(message)\n"
   ]
  },
  {
   "attachments": {},
   "cell_type": "markdown",
   "metadata": {},
   "source": [
    "## 2. List Methods\n",
    "\n",
    "- `append()`: Add an element to the end of the list.\n",
    "- `remove()`: Remove the first occurrence of an element.\n",
    "- `sort()`: Sort the list in ascending order.\n",
    "- `reverse()`: Reverse the order of elements in the list.\n",
    "python\n"
   ]
  },
  {
   "cell_type": "code",
   "execution_count": 10,
   "metadata": {},
   "outputs": [
    {
     "name": "stdout",
     "output_type": "stream",
     "text": [
      "[9, 6, 5, 4, 3, 2, 1]\n"
     ]
    }
   ],
   "source": [
    "numbers = [3, 1, 4, 1, 5, 9, 2]\n",
    "numbers.append(6)\n",
    "numbers.remove(1)\n",
    "numbers.sort()\n",
    "numbers.reverse()\n",
    "print(numbers)"
   ]
  },
  {
   "attachments": {},
   "cell_type": "markdown",
   "metadata": {},
   "source": [
    "## 3. Tuple Methods\n",
    "Tuples are immutable, so they have fewer methods compared to lists.\n",
    "\n",
    "You can use `count()` and `index()` to count occurrences and find the index of an element, respectively.\n"
   ]
  },
  {
   "cell_type": "code",
   "execution_count": 11,
   "metadata": {},
   "outputs": [
    {
     "name": "stdout",
     "output_type": "stream",
     "text": [
      "2 1\n"
     ]
    }
   ],
   "source": [
    "fruits = (\"apple\", \"banana\", \"cherry\", \"apple\")\n",
    "count_apple = fruits.count(\"apple\")\n",
    "index_banana = fruits.index(\"banana\")\n",
    "print(count_apple, index_banana)"
   ]
  },
  {
   "attachments": {},
   "cell_type": "markdown",
   "metadata": {},
   "source": [
    "## 4. Set Methods\n",
    "\n",
    "- `add()`: Add an element to the set.\n",
    "- `remove()`: Remove an element from the set (raises an error if the element is not present).\n",
    "- `union(),` intersection(), difference(): Perform set operations.\n",
    "python\n"
   ]
  },
  {
   "cell_type": "code",
   "execution_count": 12,
   "metadata": {},
   "outputs": [
    {
     "name": "stdout",
     "output_type": "stream",
     "text": [
      "{1, 3, 4, 5} {3, 4} {1}\n"
     ]
    }
   ],
   "source": [
    "my_set = {1, 2, 3}\n",
    "my_set.add(4)\n",
    "my_set.remove(2)\n",
    "other_set = {3, 4, 5}\n",
    "union_set = my_set.union(other_set)\n",
    "intersection_set = my_set.intersection(other_set)\n",
    "difference_set = my_set.difference(other_set)\n",
    "print(union_set, intersection_set, difference_set)\n"
   ]
  },
  {
   "attachments": {},
   "cell_type": "markdown",
   "metadata": {},
   "source": [
    "## 5. Dictionary Methods\n",
    "\n",
    "- `keys()`, values(), items(): Get keys, values, and key-value pairs, respectively.\n",
    "- `get()`: Retrieve a value by key, with a default value if the key is not present.\n",
    "- `pop()`: Remove a key-value pair by key."
   ]
  },
  {
   "cell_type": "code",
   "execution_count": 13,
   "metadata": {},
   "outputs": [
    {
     "name": "stdout",
     "output_type": "stream",
     "text": [
      "dict_keys(['Alice', 'Bob']) dict_values([95, 88]) dict_items([('Alice', 95), ('Bob', 88)]) 88 73\n"
     ]
    }
   ],
   "source": [
    "student_scores = {\"Alice\": 95, \"Bob\": 88, \"Charlie\": 73}\n",
    "keys = student_scores.keys()\n",
    "values = student_scores.values()\n",
    "items = student_scores.items()\n",
    "bob_score = student_scores.get(\"Bob\", \"N/A\")\n",
    "removed_item = student_scores.pop(\"Charlie\")\n",
    "print(keys, values, items, bob_score, removed_item)\n"
   ]
  },
  {
   "attachments": {},
   "cell_type": "markdown",
   "metadata": {},
   "source": [
    "# Conditions and If statements\n",
    "- Equals: `a == b`\n",
    "- Not Equals: `a != b`\n",
    "- Less than: `a < b`\n",
    "- Less than or equal to: `a <= b`\n",
    "- Greater than: `a > b`\n",
    "- Greater than or equal to: `a >= b`"
   ]
  },
  {
   "cell_type": "code",
   "execution_count": 3,
   "metadata": {},
   "outputs": [
    {
     "name": "stdout",
     "output_type": "stream",
     "text": [
      "You are not yet an adult.\n"
     ]
    }
   ],
   "source": [
    "age = 17\n",
    "\n",
    "if age >= 18:\n",
    "    print(\"You are an adult.\")\n",
    "else:\n",
    "    print(\"You are not yet an adult.\")"
   ]
  },
  {
   "cell_type": "code",
   "execution_count": 7,
   "metadata": {},
   "outputs": [
    {
     "name": "stdout",
     "output_type": "stream",
     "text": [
      "B\n"
     ]
    }
   ],
   "source": [
    "score = 85\n",
    "\n",
    "if score >= 90:\n",
    "    print(\"A\")\n",
    "elif score >= 80:\n",
    "    print(\"B\")\n",
    "elif score >= 70:\n",
    "    print(\"C\")\n",
    "else:\n",
    "    print(\"F\")\n"
   ]
  },
  {
   "attachments": {},
   "cell_type": "markdown",
   "metadata": {},
   "source": [
    "# Looping (While & For)"
   ]
  },
  {
   "attachments": {},
   "cell_type": "markdown",
   "metadata": {},
   "source": [
    "## While Loop"
   ]
  },
  {
   "cell_type": "code",
   "execution_count": 4,
   "metadata": {},
   "outputs": [
    {
     "name": "stdout",
     "output_type": "stream",
     "text": [
      "Count: 1\n",
      "Count: 2\n",
      "Count: 3\n",
      "Count: 4\n",
      "Count: 5\n"
     ]
    }
   ],
   "source": [
    "count = 1\n",
    "\n",
    "while count <= 5:\n",
    "    print(f\"Count: {count}\")\n",
    "    count += 1"
   ]
  },
  {
   "cell_type": "code",
   "execution_count": 8,
   "metadata": {},
   "outputs": [
    {
     "name": "stdout",
     "output_type": "stream",
     "text": [
      "Access granted!\n"
     ]
    }
   ],
   "source": [
    "password = \"\"\n",
    "while password != \"secret\":\n",
    "    password = input(\"Enter the password: \")\n",
    "    if password == \"quit\":\n",
    "        break\n",
    "    elif password != \"secret\":\n",
    "        print(\"Access denied. Try again.\")\n",
    "    else:\n",
    "        print(\"Access granted!\")\n"
   ]
  },
  {
   "attachments": {},
   "cell_type": "markdown",
   "metadata": {},
   "source": [
    "## For Loop"
   ]
  },
  {
   "cell_type": "code",
   "execution_count": 6,
   "metadata": {},
   "outputs": [
    {
     "name": "stdout",
     "output_type": "stream",
     "text": [
      "1\n",
      "2\n",
      "3\n",
      "4\n",
      "5\n"
     ]
    }
   ],
   "source": [
    "numbers = [1, 2, 3, 4, 5]\n",
    "\n",
    "for num in numbers:\n",
    "    print(num)"
   ]
  },
  {
   "cell_type": "code",
   "execution_count": 2,
   "metadata": {},
   "outputs": [
    {
     "name": "stdout",
     "output_type": "stream",
     "text": [
      "Key: name, Value: John\n",
      "Key: age, Value: 30\n",
      "Key: city, Value: New York\n"
     ]
    }
   ],
   "source": [
    "# Create a dictionary\n",
    "my_dict = {\n",
    "    \"name\": \"John\",\n",
    "    \"age\": 30,\n",
    "    \"city\": \"New York\"\n",
    "}\n",
    "\n",
    "# Use a for loop to iterate through keys and values\n",
    "for key, value in my_dict.items():\n",
    "    print(f\"Key: {key}, Value: {value}\")"
   ]
  },
  {
   "cell_type": "code",
   "execution_count": 14,
   "metadata": {},
   "outputs": [
    {
     "name": "stdout",
     "output_type": "stream",
     "text": [
      "The factorial is: 120\n"
     ]
    }
   ],
   "source": [
    "# Calculate the factorial of a number using a while loop\n",
    "num = 5\n",
    "factorial = 1\n",
    "\n",
    "while num > 1:\n",
    "    factorial *= num\n",
    "    num -= 1\n",
    "\n",
    "print(f\"The factorial is: {factorial}\")"
   ]
  },
  {
   "cell_type": "code",
   "execution_count": 15,
   "metadata": {},
   "outputs": [
    {
     "name": "stdout",
     "output_type": "stream",
     "text": [
      "Try a higher number.\n",
      "Try a higher number.\n",
      "Try a higher number.\n",
      "Try a higher number.\n",
      "Try a lower number\n",
      "Try a lower number\n",
      "Try a higher number.\n",
      "Try a higher number.\n",
      "Try a higher number.\n",
      "Try a higher number.\n",
      "Try a higher number.\n",
      "Try a lower number\n",
      "Try a lower number\n",
      "Try a higher number.\n",
      "Congratulations! You guessed the number 97 in 15 attempts.\n"
     ]
    }
   ],
   "source": [
    "# Simulate a game where the player has to guess a number\n",
    "import random\n",
    "\n",
    "secret_number = random.randint(1, 100)\n",
    "attempts = 0\n",
    "\n",
    "while True:\n",
    "    guess = int(input(\"Guess the number (1-100): \"))\n",
    "    attempts += 1\n",
    "\n",
    "    if guess == secret_number:\n",
    "        print(f\"Congratulations! You guessed the number {secret_number} in {attempts} attempts.\")\n",
    "        break\n",
    "    elif guess < secret_number:\n",
    "        print(\"Try a higher number.\")\n",
    "    else:\n",
    "        print(\"Try a lower number\")"
   ]
  },
  {
   "cell_type": "code",
   "execution_count": 16,
   "metadata": {},
   "outputs": [
    {
     "name": "stdout",
     "output_type": "stream",
     "text": [
      "apple is affordable.\n",
      "banana is affordable.\n",
      "cherry is expensive!\n",
      "Total price: $1.5\n"
     ]
    }
   ],
   "source": [
    "# Iterate through a list of dictionaries and filter items\n",
    "items = [\n",
    "    {\"name\": \"apple\", \"price\": 0.5},\n",
    "    {\"name\": \"banana\", \"price\": 0.25},\n",
    "    {\"name\": \"cherry\", \"price\": 0.75}\n",
    "]\n",
    "\n",
    "total_price = 0\n",
    "\n",
    "for item in items:\n",
    "    if item[\"price\"] > 0.5:\n",
    "        print(f\"{item['name']} is expensive!\")\n",
    "    else:\n",
    "        print(f\"{item['name']} is affordable.\")\n",
    "    total_price += item[\"price\"]\n",
    "\n",
    "print(f\"Total price: ${total_price}\")"
   ]
  },
  {
   "cell_type": "code",
   "execution_count": 18,
   "metadata": {},
   "outputs": [
    {
     "name": "stdout",
     "output_type": "stream",
     "text": [
      "1 2 3 \n",
      "4 5 6 \n",
      "7 8 9 \n"
     ]
    }
   ],
   "source": [
    "# Iterate through a nested list (list of lists)\n",
    "matrix = [\n",
    "    [1, 2, 3],\n",
    "    [4, 5, 6],\n",
    "    [7, 8, 9]\n",
    "]\n",
    "\n",
    "for row in matrix:\n",
    "    for value in row:\n",
    "        print(value, end=\" \")\n",
    "    print()"
   ]
  },
  {
   "cell_type": "code",
   "execution_count": 19,
   "metadata": {},
   "outputs": [
    {
     "name": "stdout",
     "output_type": "stream",
     "text": [
      "'h': 1 times\n",
      "'e': 1 times\n",
      "'l': 3 times\n",
      "'o': 2 times\n",
      "'w': 1 times\n",
      "'r': 1 times\n",
      "'d': 1 times\n"
     ]
    }
   ],
   "source": [
    "# Iterate through a string and count the occurrence of each character\n",
    "text = \"hello, world\"\n",
    "char_count = {}\n",
    "\n",
    "for char in text:\n",
    "    if char.isalpha():\n",
    "        char = char.lower()\n",
    "        if char in char_count:\n",
    "            char_count[char] += 1\n",
    "        else:\n",
    "            char_count[char] = 1\n",
    "\n",
    "for char, count in char_count.items():\n",
    "    print(f\"'{char}': {count} times\")"
   ]
  },
  {
   "cell_type": "code",
   "execution_count": 22,
   "metadata": {},
   "outputs": [
    {
     "name": "stdout",
     "output_type": "stream",
     "text": [
      "  |   |   | \n",
      "-----------\n",
      "  |   |   | \n",
      "-----------\n",
      "  |   |   | \n",
      "-----------\n"
     ]
    }
   ],
   "source": [
    "# Simulate a tic-tac-toe game board\n",
    "board_size = 3\n",
    "board = [[\" \" for _ in range(board_size)] for _ in range(board_size)]\n",
    "\n",
    "for row in board:\n",
    "    for cell in row:\n",
    "        print(cell, end=\" | \")\n",
    "    print(\"\\n\" + \"-\" * 11)"
   ]
  }
 ],
 "metadata": {
  "kernelspec": {
   "display_name": "Python 3",
   "language": "python",
   "name": "python3"
  },
  "language_info": {
   "codemirror_mode": {
    "name": "ipython",
    "version": 3
   },
   "file_extension": ".py",
   "mimetype": "text/x-python",
   "name": "python",
   "nbconvert_exporter": "python",
   "pygments_lexer": "ipython3",
   "version": "3.9.6"
  },
  "orig_nbformat": 4
 },
 "nbformat": 4,
 "nbformat_minor": 2
}
