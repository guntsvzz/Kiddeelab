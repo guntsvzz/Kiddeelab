{
 "cells": [
  {
   "attachments": {},
   "cell_type": "markdown",
   "metadata": {},
   "source": [
    "# Softmax Function"
   ]
  },
  {
   "cell_type": "code",
   "execution_count": 10,
   "metadata": {},
   "outputs": [
    {
     "name": "stdout",
     "output_type": "stream",
     "text": [
      "x: [5.0, 2.5, 0.5]\n",
      "Softmax: [0.9, 0.1, 0.0]\n"
     ]
    }
   ],
   "source": [
    "import numpy as np\n",
    "\n",
    "def softmax(x):\n",
    "    \"\"\"\n",
    "    Compute softmax values for the x.\n",
    "    Arguments:\n",
    "    x -- A list or numpy array of scores.\n",
    "    Returns:\n",
    "    final_softmax -- Softmax values of the x.\n",
    "    \"\"\"\n",
    "    numerator = np.exp(x)\n",
    "    denominator = np.sum(np.exp(x))\n",
    "    softmax_outputs = numerator / denominator\n",
    "    final_softmax = [round(output, 1) for output in softmax_outputs]\n",
    "    return final_softmax\n",
    "\n",
    "# Example usage:\n",
    "x = [5.0, 2.5, 0.5]\n",
    "print(\"x:\", x)\n",
    "print(\"Softmax:\", softmax(x))"
   ]
  },
  {
   "attachments": {},
   "cell_type": "markdown",
   "metadata": {},
   "source": [
    "# Sigmoid Function"
   ]
  },
  {
   "cell_type": "code",
   "execution_count": 7,
   "metadata": {},
   "outputs": [
    {
     "name": "stdout",
     "output_type": "stream",
     "text": [
      "Input: [2.  1.  0.5]\n",
      "Sigmoid: [0.88079708 0.73105858 0.62245933]\n"
     ]
    }
   ],
   "source": [
    "import numpy as np\n",
    "\n",
    "def sigmoid(x):\n",
    "    \"\"\"\n",
    "    Compute sigmoid function for the x x.\n",
    "    Arguments:\n",
    "    x -- A numpy array or scalar.\n",
    "    Returns:\n",
    "    s -- Sigmoid of x.\n",
    "    \"\"\"\n",
    "    return 1 / (1 + np.exp(-x))\n",
    "\n",
    "# Example usage:\n",
    "x = np.array([2.0, 1.0, 0.5])\n",
    "print(\"x:\", x)\n",
    "print(\"Sigmoid:\", sigmoid(x))"
   ]
  },
  {
   "cell_type": "markdown",
   "metadata": {},
   "source": [
    "# ReLU Function"
   ]
  },
  {
   "cell_type": "code",
   "execution_count": 2,
   "metadata": {},
   "outputs": [
    {
     "name": "stdout",
     "output_type": "stream",
     "text": [
      "x: [5.0, -2.5, 0.5]\n",
      "ReLU: [5.  0.  0.5]\n"
     ]
    }
   ],
   "source": [
    "import numpy as np\n",
    "\n",
    "def relu(x):\n",
    "    \"\"\"\n",
    "    Compute Rectified Linear Unit (ReLU) values for x.\n",
    "    Arguments:\n",
    "    x -- A list or numpy array of values.\n",
    "    Returns:\n",
    "    relu_outputs -- ReLU values of x.\n",
    "    \"\"\"\n",
    "    relu_outputs = np.maximum(0, x)\n",
    "    return relu_outputs\n",
    "\n",
    "# Example usage:\n",
    "x = [5.0, -2.5, 0.5]\n",
    "print(\"x:\", x)\n",
    "print(\"ReLU:\", relu(x))"
   ]
  },
  {
   "cell_type": "markdown",
   "metadata": {},
   "source": [
    "## Tanh Function"
   ]
  },
  {
   "cell_type": "code",
   "execution_count": 3,
   "metadata": {},
   "outputs": [
    {
     "name": "stdout",
     "output_type": "stream",
     "text": [
      "x: [5.0, 2.5, 0.5]\n",
      "tanh: [0.9999092  0.9866143  0.46211716]\n"
     ]
    }
   ],
   "source": [
    "import numpy as np\n",
    "\n",
    "def tanh(x):\n",
    "    \"\"\"\n",
    "    Compute hyperbolic tangent (tanh) values for x.\n",
    "    Arguments:\n",
    "    x -- A list or numpy array of values.\n",
    "    Returns:\n",
    "    tanh_outputs -- tanh values of x.\n",
    "    \"\"\"\n",
    "    tanh_outputs = np.tanh(x)\n",
    "    return tanh_outputs\n",
    "\n",
    "# Example usage:\n",
    "x = [5.0, 2.5, 0.5]\n",
    "print(\"x:\", x)\n",
    "print(\"tanh:\", tanh(x))\n"
   ]
  },
  {
   "cell_type": "code",
   "execution_count": null,
   "metadata": {},
   "outputs": [],
   "source": []
  }
 ],
 "metadata": {
  "kernelspec": {
   "display_name": "Python 3",
   "language": "python",
   "name": "python3"
  },
  "language_info": {
   "codemirror_mode": {
    "name": "ipython",
    "version": 3
   },
   "file_extension": ".py",
   "mimetype": "text/x-python",
   "name": "python",
   "nbconvert_exporter": "python",
   "pygments_lexer": "ipython3",
   "version": "3.9.6"
  },
  "orig_nbformat": 4
 },
 "nbformat": 4,
 "nbformat_minor": 2
}
