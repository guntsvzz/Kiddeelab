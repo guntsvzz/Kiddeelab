{
 "cells": [
  {
   "attachments": {},
   "cell_type": "markdown",
   "metadata": {},
   "source": [
    "# MNIST with ANN\n",
    "\n",
    "Let's model the <a href='https://en.wikipedia.org/wiki/MNIST_database'>MNIST dataset</a> using only linear layers.\n",
    "\n",
    "We'll reshape the MNIST data from a 28x28 image to a flattened 1x784 vector to mimic a single row of 784 features."
   ]
  },
  {
   "cell_type": "code",
   "execution_count": 2,
   "metadata": {},
   "outputs": [
    {
     "name": "stderr",
     "output_type": "stream",
     "text": [
      "/Users/guntsv/Library/Python/3.9/lib/python/site-packages/urllib3/__init__.py:34: NotOpenSSLWarning: urllib3 v2.0 only supports OpenSSL 1.1.1+, currently the 'ssl' module is compiled with 'LibreSSL 2.8.3'. See: https://github.com/urllib3/urllib3/issues/3020\n",
      "  warnings.warn(\n"
     ]
    }
   ],
   "source": [
    "import torch\n",
    "import torch.nn as nn\n",
    "import torch.nn.functional as F          # adds some efficiency\n",
    "from torch.utils.data import DataLoader  # lets us load data in batches\n",
    "from torchvision import datasets, transforms\n",
    "\n",
    "import numpy as np\n",
    "import pandas as pd\n",
    "from sklearn.metrics import confusion_matrix  # for evaluating results\n",
    "import matplotlib.pyplot as plt\n",
    "%matplotlib inline"
   ]
  },
  {
   "cell_type": "markdown",
   "metadata": {},
   "source": [
    "## 1. ETL: Load the MNIST dataset\n",
    "PyTorch makes the MNIST dataset available through <a href='https://pytorch.org/docs/stable/torchvision/index.html'><tt><strong>torchvision</strong></tt></a>. \n",
    "\n",
    "The first time it's called, the dataset will be downloaded onto your computer to the path specified. From that point, torchvision will always look for a local copy before attempting another download.\n",
    "\n",
    "### Define transform\n",
    "As part of the loading process, we can apply multiple transformations (reshape, convert to tensor, normalize, etc.) to the incoming data.\n",
    "\n",
    "For this exercise we only need to convert images to tensors. "
   ]
  },
  {
   "cell_type": "code",
   "execution_count": 3,
   "metadata": {},
   "outputs": [],
   "source": [
    "transform = transforms.ToTensor()"
   ]
  },
  {
   "cell_type": "markdown",
   "metadata": {},
   "source": [
    "### Load the training set"
   ]
  },
  {
   "cell_type": "code",
   "execution_count": 4,
   "metadata": {},
   "outputs": [
    {
     "data": {
      "text/plain": [
       "Dataset MNIST\n",
       "    Number of datapoints: 60000\n",
       "    Root location: ./dataset\n",
       "    Split: Train\n",
       "    StandardTransform\n",
       "Transform: ToTensor()"
      ]
     },
     "execution_count": 4,
     "metadata": {},
     "output_type": "execute_result"
    }
   ],
   "source": [
    "train_data = datasets.MNIST(root='./dataset', train=True, download=True, transform=transform)\n",
    "train_data"
   ]
  },
  {
   "cell_type": "markdown",
   "metadata": {},
   "source": [
    "### Load the test set\n",
    "There's a companion set of MNIST data containing 10,000 records accessible by setting train=False. As before, torchvision will only download this once, and in the future will look for the local copy."
   ]
  },
  {
   "cell_type": "code",
   "execution_count": 5,
   "metadata": {},
   "outputs": [
    {
     "data": {
      "text/plain": [
       "Dataset MNIST\n",
       "    Number of datapoints: 10000\n",
       "    Root location: ./dataset\n",
       "    Split: Test\n",
       "    StandardTransform\n",
       "Transform: ToTensor()"
      ]
     },
     "execution_count": 5,
     "metadata": {},
     "output_type": "execute_result"
    }
   ],
   "source": [
    "test_data = datasets.MNIST(root='./dataset', train=False, download=True, transform=transform)\n",
    "test_data"
   ]
  },
  {
   "cell_type": "code",
   "execution_count": 7,
   "metadata": {
    "scrolled": true
   },
   "outputs": [
    {
     "data": {
      "text/plain": [
       "torchvision.datasets.mnist.MNIST"
      ]
     },
     "execution_count": 7,
     "metadata": {},
     "output_type": "execute_result"
    }
   ],
   "source": [
    "type(test_data)"
   ]
  },
  {
   "cell_type": "markdown",
   "metadata": {},
   "source": [
    "### Examine a training record"
   ]
  },
  {
   "cell_type": "code",
   "execution_count": 8,
   "metadata": {
    "scrolled": false
   },
   "outputs": [
    {
     "data": {
      "text/plain": [
       "tuple"
      ]
     },
     "execution_count": 8,
     "metadata": {},
     "output_type": "execute_result"
    }
   ],
   "source": [
    "type(train_data[0])"
   ]
  },
  {
   "cell_type": "code",
   "execution_count": 9,
   "metadata": {},
   "outputs": [
    {
     "data": {
      "text/plain": [
       "2"
      ]
     },
     "execution_count": 9,
     "metadata": {},
     "output_type": "execute_result"
    }
   ],
   "source": [
    "len(train_data[0])"
   ]
  },
  {
   "cell_type": "code",
   "execution_count": 9,
   "metadata": {},
   "outputs": [
    {
     "data": {
      "text/plain": [
       "(tensor([[[0.0000, 0.0000, 0.0000, 0.0000, 0.0000, 0.0000, 0.0000, 0.0000,\n",
       "           0.0000, 0.0000, 0.0000, 0.0000, 0.0000, 0.0000, 0.0000, 0.0000,\n",
       "           0.0000, 0.0000, 0.0000, 0.0000, 0.0000, 0.0000, 0.0000, 0.0000,\n",
       "           0.0000, 0.0000, 0.0000, 0.0000],\n",
       "          [0.0000, 0.0000, 0.0000, 0.0000, 0.0000, 0.0000, 0.0000, 0.0000,\n",
       "           0.0000, 0.0000, 0.0000, 0.0000, 0.0000, 0.0000, 0.0000, 0.0000,\n",
       "           0.0000, 0.0000, 0.0000, 0.0000, 0.0000, 0.0000, 0.0000, 0.0000,\n",
       "           0.0000, 0.0000, 0.0000, 0.0000],\n",
       "          [0.0000, 0.0000, 0.0000, 0.0000, 0.0000, 0.0000, 0.0000, 0.0000,\n",
       "           0.0000, 0.0000, 0.0000, 0.0000, 0.0000, 0.0000, 0.0000, 0.0000,\n",
       "           0.0000, 0.0000, 0.0000, 0.0000, 0.0000, 0.0000, 0.0000, 0.0000,\n",
       "           0.0000, 0.0000, 0.0000, 0.0000],\n",
       "          [0.0000, 0.0000, 0.0000, 0.0000, 0.0000, 0.0000, 0.0000, 0.0000,\n",
       "           0.0000, 0.0000, 0.0000, 0.0000, 0.0000, 0.0000, 0.0000, 0.0000,\n",
       "           0.0000, 0.0000, 0.0000, 0.0000, 0.0000, 0.0000, 0.0000, 0.0000,\n",
       "           0.0000, 0.0000, 0.0000, 0.0000],\n",
       "          [0.0000, 0.0000, 0.0000, 0.0000, 0.0000, 0.0000, 0.0000, 0.0000,\n",
       "           0.0000, 0.0000, 0.0000, 0.0000, 0.0000, 0.0000, 0.0000, 0.0000,\n",
       "           0.0000, 0.0000, 0.0000, 0.0000, 0.0000, 0.0000, 0.0000, 0.0000,\n",
       "           0.0000, 0.0000, 0.0000, 0.0000],\n",
       "          [0.0000, 0.0000, 0.0000, 0.0000, 0.0000, 0.0000, 0.0000, 0.0000,\n",
       "           0.0000, 0.0000, 0.0000, 0.0000, 0.0118, 0.0706, 0.0706, 0.0706,\n",
       "           0.4941, 0.5333, 0.6863, 0.1020, 0.6510, 1.0000, 0.9686, 0.4980,\n",
       "           0.0000, 0.0000, 0.0000, 0.0000],\n",
       "          [0.0000, 0.0000, 0.0000, 0.0000, 0.0000, 0.0000, 0.0000, 0.0000,\n",
       "           0.1176, 0.1412, 0.3686, 0.6039, 0.6667, 0.9922, 0.9922, 0.9922,\n",
       "           0.9922, 0.9922, 0.8824, 0.6745, 0.9922, 0.9490, 0.7647, 0.2510,\n",
       "           0.0000, 0.0000, 0.0000, 0.0000],\n",
       "          [0.0000, 0.0000, 0.0000, 0.0000, 0.0000, 0.0000, 0.0000, 0.1922,\n",
       "           0.9333, 0.9922, 0.9922, 0.9922, 0.9922, 0.9922, 0.9922, 0.9922,\n",
       "           0.9922, 0.9843, 0.3647, 0.3216, 0.3216, 0.2196, 0.1529, 0.0000,\n",
       "           0.0000, 0.0000, 0.0000, 0.0000],\n",
       "          [0.0000, 0.0000, 0.0000, 0.0000, 0.0000, 0.0000, 0.0000, 0.0706,\n",
       "           0.8588, 0.9922, 0.9922, 0.9922, 0.9922, 0.9922, 0.7765, 0.7137,\n",
       "           0.9686, 0.9451, 0.0000, 0.0000, 0.0000, 0.0000, 0.0000, 0.0000,\n",
       "           0.0000, 0.0000, 0.0000, 0.0000],\n",
       "          [0.0000, 0.0000, 0.0000, 0.0000, 0.0000, 0.0000, 0.0000, 0.0000,\n",
       "           0.3137, 0.6118, 0.4196, 0.9922, 0.9922, 0.8039, 0.0431, 0.0000,\n",
       "           0.1686, 0.6039, 0.0000, 0.0000, 0.0000, 0.0000, 0.0000, 0.0000,\n",
       "           0.0000, 0.0000, 0.0000, 0.0000],\n",
       "          [0.0000, 0.0000, 0.0000, 0.0000, 0.0000, 0.0000, 0.0000, 0.0000,\n",
       "           0.0000, 0.0549, 0.0039, 0.6039, 0.9922, 0.3529, 0.0000, 0.0000,\n",
       "           0.0000, 0.0000, 0.0000, 0.0000, 0.0000, 0.0000, 0.0000, 0.0000,\n",
       "           0.0000, 0.0000, 0.0000, 0.0000],\n",
       "          [0.0000, 0.0000, 0.0000, 0.0000, 0.0000, 0.0000, 0.0000, 0.0000,\n",
       "           0.0000, 0.0000, 0.0000, 0.5451, 0.9922, 0.7451, 0.0078, 0.0000,\n",
       "           0.0000, 0.0000, 0.0000, 0.0000, 0.0000, 0.0000, 0.0000, 0.0000,\n",
       "           0.0000, 0.0000, 0.0000, 0.0000],\n",
       "          [0.0000, 0.0000, 0.0000, 0.0000, 0.0000, 0.0000, 0.0000, 0.0000,\n",
       "           0.0000, 0.0000, 0.0000, 0.0431, 0.7451, 0.9922, 0.2745, 0.0000,\n",
       "           0.0000, 0.0000, 0.0000, 0.0000, 0.0000, 0.0000, 0.0000, 0.0000,\n",
       "           0.0000, 0.0000, 0.0000, 0.0000],\n",
       "          [0.0000, 0.0000, 0.0000, 0.0000, 0.0000, 0.0000, 0.0000, 0.0000,\n",
       "           0.0000, 0.0000, 0.0000, 0.0000, 0.1373, 0.9451, 0.8824, 0.6275,\n",
       "           0.4235, 0.0039, 0.0000, 0.0000, 0.0000, 0.0000, 0.0000, 0.0000,\n",
       "           0.0000, 0.0000, 0.0000, 0.0000],\n",
       "          [0.0000, 0.0000, 0.0000, 0.0000, 0.0000, 0.0000, 0.0000, 0.0000,\n",
       "           0.0000, 0.0000, 0.0000, 0.0000, 0.0000, 0.3176, 0.9412, 0.9922,\n",
       "           0.9922, 0.4667, 0.0980, 0.0000, 0.0000, 0.0000, 0.0000, 0.0000,\n",
       "           0.0000, 0.0000, 0.0000, 0.0000],\n",
       "          [0.0000, 0.0000, 0.0000, 0.0000, 0.0000, 0.0000, 0.0000, 0.0000,\n",
       "           0.0000, 0.0000, 0.0000, 0.0000, 0.0000, 0.0000, 0.1765, 0.7294,\n",
       "           0.9922, 0.9922, 0.5882, 0.1059, 0.0000, 0.0000, 0.0000, 0.0000,\n",
       "           0.0000, 0.0000, 0.0000, 0.0000],\n",
       "          [0.0000, 0.0000, 0.0000, 0.0000, 0.0000, 0.0000, 0.0000, 0.0000,\n",
       "           0.0000, 0.0000, 0.0000, 0.0000, 0.0000, 0.0000, 0.0000, 0.0627,\n",
       "           0.3647, 0.9882, 0.9922, 0.7333, 0.0000, 0.0000, 0.0000, 0.0000,\n",
       "           0.0000, 0.0000, 0.0000, 0.0000],\n",
       "          [0.0000, 0.0000, 0.0000, 0.0000, 0.0000, 0.0000, 0.0000, 0.0000,\n",
       "           0.0000, 0.0000, 0.0000, 0.0000, 0.0000, 0.0000, 0.0000, 0.0000,\n",
       "           0.0000, 0.9765, 0.9922, 0.9765, 0.2510, 0.0000, 0.0000, 0.0000,\n",
       "           0.0000, 0.0000, 0.0000, 0.0000],\n",
       "          [0.0000, 0.0000, 0.0000, 0.0000, 0.0000, 0.0000, 0.0000, 0.0000,\n",
       "           0.0000, 0.0000, 0.0000, 0.0000, 0.0000, 0.0000, 0.1804, 0.5098,\n",
       "           0.7176, 0.9922, 0.9922, 0.8118, 0.0078, 0.0000, 0.0000, 0.0000,\n",
       "           0.0000, 0.0000, 0.0000, 0.0000],\n",
       "          [0.0000, 0.0000, 0.0000, 0.0000, 0.0000, 0.0000, 0.0000, 0.0000,\n",
       "           0.0000, 0.0000, 0.0000, 0.0000, 0.1529, 0.5804, 0.8980, 0.9922,\n",
       "           0.9922, 0.9922, 0.9804, 0.7137, 0.0000, 0.0000, 0.0000, 0.0000,\n",
       "           0.0000, 0.0000, 0.0000, 0.0000],\n",
       "          [0.0000, 0.0000, 0.0000, 0.0000, 0.0000, 0.0000, 0.0000, 0.0000,\n",
       "           0.0000, 0.0000, 0.0941, 0.4471, 0.8667, 0.9922, 0.9922, 0.9922,\n",
       "           0.9922, 0.7882, 0.3059, 0.0000, 0.0000, 0.0000, 0.0000, 0.0000,\n",
       "           0.0000, 0.0000, 0.0000, 0.0000],\n",
       "          [0.0000, 0.0000, 0.0000, 0.0000, 0.0000, 0.0000, 0.0000, 0.0000,\n",
       "           0.0902, 0.2588, 0.8353, 0.9922, 0.9922, 0.9922, 0.9922, 0.7765,\n",
       "           0.3176, 0.0078, 0.0000, 0.0000, 0.0000, 0.0000, 0.0000, 0.0000,\n",
       "           0.0000, 0.0000, 0.0000, 0.0000],\n",
       "          [0.0000, 0.0000, 0.0000, 0.0000, 0.0000, 0.0000, 0.0706, 0.6706,\n",
       "           0.8588, 0.9922, 0.9922, 0.9922, 0.9922, 0.7647, 0.3137, 0.0353,\n",
       "           0.0000, 0.0000, 0.0000, 0.0000, 0.0000, 0.0000, 0.0000, 0.0000,\n",
       "           0.0000, 0.0000, 0.0000, 0.0000],\n",
       "          [0.0000, 0.0000, 0.0000, 0.0000, 0.2157, 0.6745, 0.8863, 0.9922,\n",
       "           0.9922, 0.9922, 0.9922, 0.9569, 0.5216, 0.0431, 0.0000, 0.0000,\n",
       "           0.0000, 0.0000, 0.0000, 0.0000, 0.0000, 0.0000, 0.0000, 0.0000,\n",
       "           0.0000, 0.0000, 0.0000, 0.0000],\n",
       "          [0.0000, 0.0000, 0.0000, 0.0000, 0.5333, 0.9922, 0.9922, 0.9922,\n",
       "           0.8314, 0.5294, 0.5176, 0.0627, 0.0000, 0.0000, 0.0000, 0.0000,\n",
       "           0.0000, 0.0000, 0.0000, 0.0000, 0.0000, 0.0000, 0.0000, 0.0000,\n",
       "           0.0000, 0.0000, 0.0000, 0.0000],\n",
       "          [0.0000, 0.0000, 0.0000, 0.0000, 0.0000, 0.0000, 0.0000, 0.0000,\n",
       "           0.0000, 0.0000, 0.0000, 0.0000, 0.0000, 0.0000, 0.0000, 0.0000,\n",
       "           0.0000, 0.0000, 0.0000, 0.0000, 0.0000, 0.0000, 0.0000, 0.0000,\n",
       "           0.0000, 0.0000, 0.0000, 0.0000],\n",
       "          [0.0000, 0.0000, 0.0000, 0.0000, 0.0000, 0.0000, 0.0000, 0.0000,\n",
       "           0.0000, 0.0000, 0.0000, 0.0000, 0.0000, 0.0000, 0.0000, 0.0000,\n",
       "           0.0000, 0.0000, 0.0000, 0.0000, 0.0000, 0.0000, 0.0000, 0.0000,\n",
       "           0.0000, 0.0000, 0.0000, 0.0000],\n",
       "          [0.0000, 0.0000, 0.0000, 0.0000, 0.0000, 0.0000, 0.0000, 0.0000,\n",
       "           0.0000, 0.0000, 0.0000, 0.0000, 0.0000, 0.0000, 0.0000, 0.0000,\n",
       "           0.0000, 0.0000, 0.0000, 0.0000, 0.0000, 0.0000, 0.0000, 0.0000,\n",
       "           0.0000, 0.0000, 0.0000, 0.0000]]]),\n",
       " 5)"
      ]
     },
     "execution_count": 9,
     "metadata": {},
     "output_type": "execute_result"
    }
   ],
   "source": [
    "train_data[0]"
   ]
  },
  {
   "cell_type": "code",
   "execution_count": 10,
   "metadata": {},
   "outputs": [
    {
     "data": {
      "text/plain": [
       "torch.Tensor"
      ]
     },
     "execution_count": 10,
     "metadata": {},
     "output_type": "execute_result"
    }
   ],
   "source": [
    "type(train_data[0][0])"
   ]
  },
  {
   "cell_type": "code",
   "execution_count": 11,
   "metadata": {},
   "outputs": [
    {
     "data": {
      "text/plain": [
       "torch.Size([1, 28, 28])"
      ]
     },
     "execution_count": 11,
     "metadata": {},
     "output_type": "execute_result"
    }
   ],
   "source": [
    "train_data[0][0].size()"
   ]
  },
  {
   "cell_type": "markdown",
   "metadata": {},
   "source": [
    "Calling the first record from <tt>train_data</tt> returns a two-item tuple. The first item is our 28x28 tensor representing the image. The second is a label, in this case the number \"5\"."
   ]
  },
  {
   "cell_type": "code",
   "execution_count": 12,
   "metadata": {},
   "outputs": [
    {
     "name": "stdout",
     "output_type": "stream",
     "text": [
      "Shape: torch.Size([1, 28, 28]) \n",
      "Label: 5\n"
     ]
    }
   ],
   "source": [
    "image, label = train_data[0]\n",
    "print('Shape:', image.shape, '\\nLabel:', label)"
   ]
  },
  {
   "cell_type": "markdown",
   "metadata": {},
   "source": [
    "### View the image\n",
    "\n",
    "Matplotlib can interpret pixel values through a variety of <a href='https://matplotlib.org/tutorials/colors/colormaps.html'>colormaps</a>."
   ]
  },
  {
   "cell_type": "code",
   "execution_count": 16,
   "metadata": {},
   "outputs": [
    {
     "data": {
      "image/png": "[encoded data removed]",
      "text/plain": [
       "<Figure size 640x480 with 1 Axes>"
      ]
     },
     "metadata": {},
     "output_type": "display_data"
    }
   ],
   "source": [
    "plt.imshow(train_data[0][0].reshape((28,28)), cmap=\"gray\");"
   ]
  },
  {
   "cell_type": "code",
   "execution_count": 15,
   "metadata": {},
   "outputs": [
    {
     "data": {
      "image/png": "[encoded data removed]",
      "text/plain": [
       "<Figure size 640x480 with 1 Axes>"
      ]
     },
     "metadata": {},
     "output_type": "display_data"
    }
   ],
   "source": [
    "plt.imshow(train_data[0][0].reshape((28,28)), cmap=\"gist_yarg\");"
   ]
  },
  {
   "cell_type": "code",
   "execution_count": 15,
   "metadata": {},
   "outputs": [
    {
     "data": {
      "image/png": "[encoded data removed]",
      "text/plain": [
       "<Figure size 640x480 with 1 Axes>"
      ]
     },
     "metadata": {
      "needs_background": "light"
     },
     "output_type": "display_data"
    }
   ],
   "source": [
    "plt.imshow(train_data[0][0].reshape((28,28)));"
   ]
  },
  {
   "cell_type": "markdown",
   "metadata": {},
   "source": [
    "## 2. Feature Extraction\n",
    "\n",
    "### Batch loading with DataLoader\n",
    "Our training set contains 60,000 records. If we look ahead to our model we have 784 incoming features, hidden layers of 120 and 84 neurons, and 10 output features. Including the bias terms for each layer, the total number of parameters being trained is:<br>\n",
    "\n",
    "$\\begin{align}\\quad(784\\times120)+120+(120\\times84)+84+(84\\times10)+10 &=\\\\\n",
    "94080+120+10080+84+840+10 &= 105,214\\end{align}$<br>\n",
    "\n",
    "For this reason it makes sense to load training data in batches using <a href='https://pytorch.org/docs/stable/data.html#torch.utils.data.DataLoader'><tt><strong>DataLoader</strong></tt></a>."
   ]
  },
  {
   "cell_type": "code",
   "execution_count": 23,
   "metadata": {},
   "outputs": [],
   "source": [
    "torch.manual_seed(101)  # for consistent results\n",
    "\n",
    "train_loader = DataLoader(train_data, batch_size=100, shuffle=True)\n",
    "test_loader  = DataLoader(test_data, batch_size=500, shuffle=False)"
   ]
  },
  {
   "cell_type": "markdown",
   "metadata": {},
   "source": [
    "In the cell above, <tt><strong>train_data</strong></tt> is a PyTorch <a href='https://pytorch.org/docs/stable/data.html#torch.utils.data.Dataset'><em>Dataset</em></a> object (an object that supports data loading and sampling).<br>\n",
    "The <tt><strong>batch_size</strong></tt> is the number of records to be processed at a time. If it's not evenly divisible into the dataset, then the final batch contains the remainder.<br>\n",
    "Setting <tt><strong>shuffle</strong></tt> to True means that the dataset will be shuffled after each epoch.\n",
    "\n",
    "<div class=\"alert alert-info\"><strong>NOTE:</strong> DataLoader takes an optional <tt><strong>num_workers</strong></tt> parameter that sets up how many subprocesses to use for data loading. This behaves differently with different operating systems so we've omitted it here. See <a href='https://pytorch.org/docs/stable/data.html#torch.utils.data.DataLoader'>the docs</a> for more information.</div>"
   ]
  },
  {
   "cell_type": "code",
   "execution_count": 24,
   "metadata": {},
   "outputs": [
    {
     "data": {
      "text/plain": [
       "torch.utils.data.dataloader.DataLoader"
      ]
     },
     "execution_count": 24,
     "metadata": {},
     "output_type": "execute_result"
    }
   ],
   "source": [
    "type(train_loader)"
   ]
  },
  {
   "cell_type": "code",
   "execution_count": 25,
   "metadata": {},
   "outputs": [
    {
     "data": {
      "text/plain": [
       "600"
      ]
     },
     "execution_count": 25,
     "metadata": {},
     "output_type": "execute_result"
    }
   ],
   "source": [
    "len(train_loader)"
   ]
  },
  {
   "cell_type": "code",
   "execution_count": 26,
   "metadata": {},
   "outputs": [
    {
     "data": {
      "text/plain": [
       "torchvision.datasets.mnist.MNIST"
      ]
     },
     "execution_count": 26,
     "metadata": {},
     "output_type": "execute_result"
    }
   ],
   "source": [
    "type(train_data)"
   ]
  },
  {
   "cell_type": "code",
   "execution_count": 27,
   "metadata": {},
   "outputs": [
    {
     "data": {
      "text/plain": [
       "Dataset MNIST\n",
       "    Number of datapoints: 60000\n",
       "    Root location: ./dataset\n",
       "    Split: Train\n",
       "    StandardTransform\n",
       "Transform: ToTensor()"
      ]
     },
     "execution_count": 27,
     "metadata": {},
     "output_type": "execute_result"
    }
   ],
   "source": [
    "train_data"
   ]
  },
  {
   "cell_type": "markdown",
   "metadata": {},
   "source": [
    "### View a batch of images\n",
    "Once we've defined a DataLoader, we can create a grid of images using <a href='https://pytorch.org/docs/stable/torchvision/utils.html#torchvision.utils.make_grid'><tt><strong>torchvision.utils.make_grid</strong></tt></a>"
   ]
  },
  {
   "cell_type": "code",
   "execution_count": 28,
   "metadata": {},
   "outputs": [
    {
     "name": "stdout",
     "output_type": "stream",
     "text": [
      "Labels:  [   7    2    3    5    8    5    3    6    9    9    1    3]\n"
     ]
    },
    {
     "data": {
      "image/png": "[encoded data removed]",
      "text/plain": [
       "<Figure size 1600x800 with 1 Axes>"
      ]
     },
     "metadata": {},
     "output_type": "display_data"
    }
   ],
   "source": [
    "from torchvision.utils import make_grid\n",
    "np.set_printoptions(formatter=dict(int=lambda x: f'{x:4}')) # to widen the printed array\n",
    "\n",
    "# Grab the first batch of images\n",
    "for images,labels in train_loader: \n",
    "    break\n",
    "\n",
    "# Print the first 12 labels\n",
    "print('Labels: ', labels[:12].numpy())\n",
    "\n",
    "# Print the first 12 images\n",
    "im = make_grid(images[:12], nrow=12)  # the default nrow is 8\n",
    "plt.figure(figsize=(16,8))\n",
    "# We need to transpose the images from CWH to WHC\n",
    "# C - color chanel\n",
    "# W - width\n",
    "# H - height\n",
    "plt.imshow(np.transpose(im.numpy(), (1, 2, 0)));"
   ]
  },
  {
   "cell_type": "code",
   "execution_count": 29,
   "metadata": {},
   "outputs": [
    {
     "data": {
      "text/plain": [
       "tensor([7, 2, 3, 5, 8, 5, 3, 6, 9, 9, 1, 3, 5, 5, 4, 5, 4, 1, 0, 4, 5, 4, 5, 4,\n",
       "        0, 5, 8, 2, 2, 3, 3, 7, 2, 8, 1, 2, 3, 1, 7, 9, 0, 4, 9, 1, 7, 9, 7, 2,\n",
       "        6, 5, 5, 8, 5, 0, 4, 0, 0, 4, 9, 2, 6, 0, 8, 4, 1, 8, 5, 2, 0, 3, 3, 4,\n",
       "        6, 1, 5, 3, 5, 9, 0, 7, 4, 5, 3, 6, 6, 4, 5, 3, 9, 7, 1, 7, 6, 7, 9, 3,\n",
       "        5, 9, 9, 6])"
      ]
     },
     "execution_count": 29,
     "metadata": {},
     "output_type": "execute_result"
    }
   ],
   "source": [
    "labels"
   ]
  },
  {
   "cell_type": "code",
   "execution_count": 30,
   "metadata": {},
   "outputs": [
    {
     "data": {
      "text/plain": [
       "torch.Tensor"
      ]
     },
     "execution_count": 30,
     "metadata": {},
     "output_type": "execute_result"
    }
   ],
   "source": [
    "type(images)"
   ]
  },
  {
   "cell_type": "markdown",
   "metadata": {},
   "source": [
    "## 4. Training / Modeling\n",
    "\n",
    "Our input size is 784 once we flatten the incoming 28x28 tensors.\n",
    "\n",
    "Our output size represents the 10 possible digits.\n",
    "\n",
    "We'll set our hidden layers to [120, 84] for now.  You can try any number...."
   ]
  },
  {
   "cell_type": "code",
   "execution_count": 31,
   "metadata": {},
   "outputs": [],
   "source": [
    "class MultilayerPerceptron(nn.Module):\n",
    "    def __init__(self, in_sz=784, out_sz=10, layers=[120,84]):\n",
    "        super().__init__()\n",
    "        self.fc1 = nn.Linear(in_sz,layers[0])\n",
    "        self.fc2 = nn.Linear(layers[0],layers[1])\n",
    "        self.fc3 = nn.Linear(layers[1],out_sz)\n",
    "    \n",
    "    def forward(self,X):\n",
    "        X = F.relu(self.fc1(X))\n",
    "        X = F.relu(self.fc2(X))\n",
    "        X = self.fc3(X)\n",
    "        return F.log_softmax(X, dim=1) #multi class classification\n",
    "    # dim (int) – A dimension along which Softmax will be computed (so every slice along dim will sum to 1)."
   ]
  },
  {
   "cell_type": "code",
   "execution_count": 32,
   "metadata": {},
   "outputs": [
    {
     "data": {
      "text/plain": [
       "MultilayerPerceptron(\n",
       "  (fc1): Linear(in_features=784, out_features=120, bias=True)\n",
       "  (fc2): Linear(in_features=120, out_features=84, bias=True)\n",
       "  (fc3): Linear(in_features=84, out_features=10, bias=True)\n",
       ")"
      ]
     },
     "execution_count": 32,
     "metadata": {},
     "output_type": "execute_result"
    }
   ],
   "source": [
    "torch.manual_seed(101)\n",
    "model = MultilayerPerceptron()\n",
    "model"
   ]
  },
  {
   "cell_type": "code",
   "execution_count": 33,
   "metadata": {},
   "outputs": [
    {
     "data": {
      "text/plain": [
       "__main__.MultilayerPerceptron"
      ]
     },
     "execution_count": 33,
     "metadata": {},
     "output_type": "execute_result"
    }
   ],
   "source": [
    "type(model)"
   ]
  },
  {
   "cell_type": "markdown",
   "metadata": {},
   "source": [
    "<div class=\"alert alert-info\"><strong>NOTE:</strong> You may have noticed our shortcut for adding ReLU to the linear layer. In the last section this was done under the <tt>__init__</tt> section as\n",
    "<pre style='background-color:rgb(217,237,247)'>\n",
    "layerlist = []\n",
    "for i in layers:\n",
    "    layerlist.append(nn.Linear(n_in,i)) \n",
    "    layerlist.append(nn.ReLU(inplace=True))\n",
    "self.layers = nn.Sequential(*layerlist)</pre>\n",
    "    \n",
    "Here we're calling <tt>F.relu()</tt> as a functional wrapper on the linear layer directly:\n",
    "<pre style='background-color:rgb(217,237,247)'>\n",
    "def forward(self,X):\n",
    "    X = F.relu(self.fc1(X))</pre></div>"
   ]
  },
  {
   "cell_type": "markdown",
   "metadata": {},
   "source": [
    "### Count the model parameters\n",
    "This optional step shows that the number of trainable parameters in our model matches the equation above."
   ]
  },
  {
   "cell_type": "code",
   "execution_count": 34,
   "metadata": {},
   "outputs": [],
   "source": [
    "def count_parameters(model):\n",
    "    params = [p.numel() for p in model.parameters() if p.requires_grad]\n",
    "    for item in params:\n",
    "        print(f'{item:>6}')\n",
    "    print(f'______\\n{sum(params):>6}')"
   ]
  },
  {
   "cell_type": "code",
   "execution_count": 35,
   "metadata": {},
   "outputs": [
    {
     "name": "stdout",
     "output_type": "stream",
     "text": [
      " 94080\n",
      "   120\n",
      " 10080\n",
      "    84\n",
      "   840\n",
      "    10\n",
      "______\n",
      "105214\n"
     ]
    }
   ],
   "source": [
    "count_parameters(model)"
   ]
  },
  {
   "cell_type": "code",
   "execution_count": 36,
   "metadata": {},
   "outputs": [
    {
     "name": "stdout",
     "output_type": "stream",
     "text": [
      "94080\n",
      "120\n",
      "10080\n",
      "84\n",
      "840\n",
      "10\n"
     ]
    }
   ],
   "source": [
    "for param in model.parameters():\n",
    "    print(param.numel())"
   ]
  },
  {
   "cell_type": "markdown",
   "metadata": {},
   "source": [
    "### Define loss function & optimizer"
   ]
  },
  {
   "cell_type": "code",
   "execution_count": 37,
   "metadata": {},
   "outputs": [],
   "source": [
    "criterion = nn.CrossEntropyLoss()\n",
    "optimizer = torch.optim.Adam(model.parameters(), lr=0.001)"
   ]
  },
  {
   "cell_type": "markdown",
   "metadata": {},
   "source": [
    "### Flatten the training data\n",
    "The batch tensors fed in by DataLoader have a shape of [100, 1, 28, 28]:"
   ]
  },
  {
   "cell_type": "code",
   "execution_count": 38,
   "metadata": {},
   "outputs": [
    {
     "name": "stdout",
     "output_type": "stream",
     "text": [
      "Batch shape: torch.Size([100, 1, 28, 28])\n"
     ]
    }
   ],
   "source": [
    "# Load the first batch, print its shape\n",
    "for images, labels in train_loader:\n",
    "    print('Batch shape:', images.size())\n",
    "    break\n",
    "    \n",
    "# EQUIVALENT TO:\n",
    "# dataiter = iter(train_loader)\n",
    "# images, labels = dataiter.next()\n",
    "# print('Batch shape:', images.size())"
   ]
  },
  {
   "cell_type": "markdown",
   "metadata": {},
   "source": [
    "We can flatten them using <tt>.view()</tt>"
   ]
  },
  {
   "cell_type": "code",
   "execution_count": 39,
   "metadata": {},
   "outputs": [
    {
     "data": {
      "text/plain": [
       "torch.Size([100, 784])"
      ]
     },
     "execution_count": 39,
     "metadata": {},
     "output_type": "execute_result"
    }
   ],
   "source": [
    "images.view(100,-1).size()"
   ]
  },
  {
   "cell_type": "markdown",
   "metadata": {},
   "source": [
    "We'll do this just before applying the model to our data."
   ]
  },
  {
   "cell_type": "markdown",
   "metadata": {},
   "source": [
    "## Train the model\n",
    "This time we'll run the test data through the model during each epoch, so that we can compare loss & accuracy on the same plot.\n",
    "\n",
    "<div class=\"alert alert-info\"><strong>A QUICK NOTE: </strong>In the section below marked &nbsp;<tt><em>#Tally the number of correct predictions</em></tt> &nbsp;we include the code\n",
    "<pre style='background-color:rgb(217,237,247)'>\n",
    "predicted = torch.max(y_pred.data, 1)[1]</pre>\n",
    "This uses the <a href='https://pytorch.org/docs/stable/torch.html#torch.max'><tt><strong>torch.max()</strong></tt></a> function. <tt>torch.max()</tt> returns a tensor of maximum values, and a tensor of the indices where the max values were found. In our code we're asking for the index positions of the maximum values along dimension 1. In this way we can match predictions up to image labels.</div>"
   ]
  },
  {
   "cell_type": "code",
   "execution_count": 40,
   "metadata": {},
   "outputs": [
    {
     "name": "stdout",
     "output_type": "stream",
     "text": [
      "epoch:  0  batch:  200 [ 20000/60000]  loss: 0.29955000  accuracy:  82.655%\n",
      "epoch:  0  batch:  400 [ 40000/60000]  loss: 0.27259144  accuracy:  87.248%\n",
      "epoch:  0  batch:  600 [ 60000/60000]  loss: 0.18177120  accuracy:  89.315%\n",
      "epoch:  1  batch:  200 [ 20000/60000]  loss: 0.16961814  accuracy:  94.635%\n",
      "epoch:  1  batch:  400 [ 40000/60000]  loss: 0.05306604  accuracy:  95.032%\n",
      "epoch:  1  batch:  600 [ 60000/60000]  loss: 0.14311403  accuracy:  95.253%\n",
      "epoch:  2  batch:  200 [ 20000/60000]  loss: 0.16644241  accuracy:  96.510%\n",
      "epoch:  2  batch:  400 [ 40000/60000]  loss: 0.17245369  accuracy:  96.530%\n",
      "epoch:  2  batch:  600 [ 60000/60000]  loss: 0.11095766  accuracy:  96.598%\n",
      "epoch:  3  batch:  200 [ 20000/60000]  loss: 0.14711185  accuracy:  97.370%\n",
      "epoch:  3  batch:  400 [ 40000/60000]  loss: 0.01181481  accuracy:  97.453%\n",
      "epoch:  3  batch:  600 [ 60000/60000]  loss: 0.08994547  accuracy:  97.400%\n",
      "epoch:  4  batch:  200 [ 20000/60000]  loss: 0.05772527  accuracy:  98.035%\n",
      "epoch:  4  batch:  400 [ 40000/60000]  loss: 0.09941385  accuracy:  97.950%\n",
      "epoch:  4  batch:  600 [ 60000/60000]  loss: 0.09422186  accuracy:  97.975%\n",
      "epoch:  5  batch:  200 [ 20000/60000]  loss: 0.08687459  accuracy:  98.485%\n",
      "epoch:  5  batch:  400 [ 40000/60000]  loss: 0.02159473  accuracy:  98.405%\n",
      "epoch:  5  batch:  600 [ 60000/60000]  loss: 0.04426110  accuracy:  98.318%\n",
      "epoch:  6  batch:  200 [ 20000/60000]  loss: 0.03253545  accuracy:  98.845%\n",
      "epoch:  6  batch:  400 [ 40000/60000]  loss: 0.02945157  accuracy:  98.700%\n",
      "epoch:  6  batch:  600 [ 60000/60000]  loss: 0.02926740  accuracy:  98.677%\n",
      "epoch:  7  batch:  200 [ 20000/60000]  loss: 0.00287198  accuracy:  99.020%\n",
      "epoch:  7  batch:  400 [ 40000/60000]  loss: 0.01096704  accuracy:  98.915%\n",
      "epoch:  7  batch:  600 [ 60000/60000]  loss: 0.02528768  accuracy:  98.832%\n",
      "epoch:  8  batch:  200 [ 20000/60000]  loss: 0.01017789  accuracy:  99.160%\n",
      "epoch:  8  batch:  400 [ 40000/60000]  loss: 0.09089574  accuracy:  99.147%\n",
      "epoch:  8  batch:  600 [ 60000/60000]  loss: 0.05349481  accuracy:  99.107%\n",
      "epoch:  9  batch:  200 [ 20000/60000]  loss: 0.03290027  accuracy:  99.395%\n",
      "epoch:  9  batch:  400 [ 40000/60000]  loss: 0.02241736  accuracy:  99.385%\n",
      "epoch:  9  batch:  600 [ 60000/60000]  loss: 0.02583390  accuracy:  99.277%\n",
      "\n",
      "Duration: 26 seconds\n"
     ]
    }
   ],
   "source": [
    "import time\n",
    "start_time = time.time()\n",
    "\n",
    "epochs = 10\n",
    "train_losses = []\n",
    "test_losses = []\n",
    "train_correct = []\n",
    "test_correct = []\n",
    "\n",
    "for i in range(epochs):\n",
    "    trn_corr = 0\n",
    "    tst_corr = 0\n",
    "    \n",
    "    # Run the training batches\n",
    "    for b, (X_train, y_train) in enumerate(train_loader):\n",
    "        b+=1\n",
    "        \n",
    "        # Apply the model\n",
    "        y_pred = model(X_train.view(100, -1))  # Here we flatten X_train\n",
    "        loss = criterion(y_pred, y_train)\n",
    " \n",
    "        #y_pred - one hot encoding softmax values [0.1,0.0,0.8, ...]\n",
    "\n",
    "        # Tally the number of correct predictions\n",
    "        predicted = torch.max(y_pred.data, 1)[1]\n",
    "        batch_corr = (predicted == y_train).sum()\n",
    "        trn_corr += batch_corr\n",
    "        \n",
    "        # Update parameters\n",
    "        optimizer.zero_grad()\n",
    "        loss.backward()\n",
    "        optimizer.step()\n",
    "        \n",
    "        # Print interim results\n",
    "        if b%200 == 0:\n",
    "            print(f'epoch: {i:2}  batch: {b:4} [{100*b:6}/60000]  loss: {loss.item():10.8f}  \\ accuracy: {trn_corr.item()*100/(100*b):7.3f}%')\n",
    "    \n",
    "    # Update train loss & accuracy for the epoch\n",
    "    train_losses.append(loss)\n",
    "    train_correct.append(trn_corr)\n",
    "        \n",
    "    # Run the testing batches\n",
    "    with torch.no_grad():\n",
    "        for b, (X_test, y_test) in enumerate(test_loader):\n",
    "\n",
    "            # Apply the model\n",
    "            y_val = model(X_test.view(500, -1))  # Here we flatten X_test to 500 samples - size of the batch\n",
    "\n",
    "            # Tally the number of correct predictions\n",
    "            predicted = torch.max(y_val.data, 1)[1] \n",
    "            tst_corr += (predicted == y_test).sum()\n",
    "    \n",
    "    # Update test loss & accuracy for the epoch\n",
    "    loss = criterion(y_val, y_test)\n",
    "    test_losses.append(loss)\n",
    "    test_correct.append(tst_corr)\n",
    "        \n",
    "print(f'\\nDuration: {time.time() - start_time:.0f} seconds') # print the time elapsed            "
   ]
  },
  {
   "cell_type": "code",
   "execution_count": 41,
   "metadata": {},
   "outputs": [
    {
     "name": "stdout",
     "output_type": "stream",
     "text": [
      "tensor([2, 3, 4, 5, 6, 7, 8, 9, 0, 1, 2, 3, 4, 5, 6, 7, 8, 9, 1, 0, 1, 2, 7, 5,\n",
      "        3, 4, 4, 0, 0, 6, 9, 6, 6, 5, 7, 2, 3, 4, 9, 9, 1, 4, 0, 7, 9, 5, 7, 2,\n",
      "        3, 1, 4, 4, 0, 9, 9, 6, 1, 8, 3, 3, 7, 3, 9, 8, 8, 4, 7, 7, 6, 2, 1, 9,\n",
      "        8, 7, 8, 8, 7, 2, 2, 3, 9, 3, 3, 5, 5, 0, 7, 4, 5, 6, 5, 1, 4, 1, 1, 2,\n",
      "        8, 2, 6, 1, 5, 0, 1, 2, 3, 4, 5, 6, 7, 8, 9, 0, 1, 2, 3, 4, 5, 6, 7, 8,\n",
      "        9, 0, 1, 2, 3, 4, 5, 6, 7, 8, 8, 0, 6, 0, 2, 2, 3, 7, 9, 4, 7, 1, 9, 1,\n",
      "        7, 1, 4, 0, 0, 1, 7, 5, 7, 1, 3, 3, 3, 1, 6, 9, 7, 1, 3, 0, 7, 6, 0, 8,\n",
      "        9, 7, 3, 5, 4, 8, 1, 5, 9, 0, 6, 3, 3, 8, 1, 4, 7, 5, 2, 0, 0, 1, 7, 8,\n",
      "        9, 6, 8, 8, 2, 3, 6, 1, 1, 9, 5, 2, 0, 1, 2, 3, 4, 5, 6, 7, 8, 9, 0, 1,\n",
      "        2, 3, 4, 5, 6, 7, 8, 9, 0, 1, 2, 3, 4, 6, 6, 7, 8, 9, 7, 4, 6, 1, 4, 0,\n",
      "        9, 9, 3, 7, 8, 2, 7, 5, 8, 6, 3, 2, 2, 0, 5, 8, 6, 0, 3, 8, 1, 0, 3, 0,\n",
      "        4, 7, 4, 9, 0, 9, 0, 7, 1, 7, 1, 6, 6, 5, 6, 2, 8, 7, 6, 4, 9, 9, 5, 3,\n",
      "        7, 4, 3, 0, 7, 6, 6, 1, 1, 3, 2, 1, 0, 0, 1, 2, 3, 4, 7, 8, 9, 0, 1, 2,\n",
      "        3, 4, 5, 6, 7, 8, 0, 1, 2, 3, 4, 7, 8, 9, 0, 8, 3, 9, 5, 5, 2, 6, 8, 4,\n",
      "        1, 7, 1, 3, 3, 5, 6, 9, 1, 1, 1, 2, 1, 2, 0, 7, 7, 5, 8, 2, 9, 8, 6, 7,\n",
      "        3, 4, 6, 8, 7, 0, 4, 2, 7, 7, 5, 4, 3, 4, 2, 8, 1, 5, 1, 0, 2, 3, 3, 5,\n",
      "        7, 0, 6, 8, 6, 3, 9, 9, 8, 2, 7, 7, 1, 0, 1, 7, 8, 9, 0, 1, 2, 3, 4, 5,\n",
      "        6, 7, 8, 0, 1, 2, 3, 4, 7, 8, 9, 7, 8, 6, 4, 1, 9, 8, 8, 4, 4, 7, 0, 1,\n",
      "        9, 2, 8, 7, 8, 2, 6, 0, 6, 5, 3, 3, 8, 9, 1, 4, 0, 6, 1, 0, 0, 6, 2, 1,\n",
      "        1, 7, 7, 8, 4, 6, 0, 7, 0, 3, 6, 8, 7, 1, 5, 2, 4, 9, 4, 8, 6, 4, 1, 7,\n",
      "        2, 6, 5, 0, 1, 2, 3, 4, 5, 6, 7, 8, 9, 0, 1, 2, 3, 4, 5, 6])\n"
     ]
    }
   ],
   "source": [
    "print(predicted)"
   ]
  },
  {
   "cell_type": "code",
   "execution_count": 42,
   "metadata": {},
   "outputs": [
    {
     "name": "stdout",
     "output_type": "stream",
     "text": [
      "1\n",
      "tensor([[[[0., 0., 0.,  ..., 0., 0., 0.],\n",
      "          [0., 0., 0.,  ..., 0., 0., 0.],\n",
      "          [0., 0., 0.,  ..., 0., 0., 0.],\n",
      "          ...,\n",
      "          [0., 0., 0.,  ..., 0., 0., 0.],\n",
      "          [0., 0., 0.,  ..., 0., 0., 0.],\n",
      "          [0., 0., 0.,  ..., 0., 0., 0.]]],\n",
      "\n",
      "\n",
      "        [[[0., 0., 0.,  ..., 0., 0., 0.],\n",
      "          [0., 0., 0.,  ..., 0., 0., 0.],\n",
      "          [0., 0., 0.,  ..., 0., 0., 0.],\n",
      "          ...,\n",
      "          [0., 0., 0.,  ..., 0., 0., 0.],\n",
      "          [0., 0., 0.,  ..., 0., 0., 0.],\n",
      "          [0., 0., 0.,  ..., 0., 0., 0.]]],\n",
      "\n",
      "\n",
      "        [[[0., 0., 0.,  ..., 0., 0., 0.],\n",
      "          [0., 0., 0.,  ..., 0., 0., 0.],\n",
      "          [0., 0., 0.,  ..., 0., 0., 0.],\n",
      "          ...,\n",
      "          [0., 0., 0.,  ..., 0., 0., 0.],\n",
      "          [0., 0., 0.,  ..., 0., 0., 0.],\n",
      "          [0., 0., 0.,  ..., 0., 0., 0.]]],\n",
      "\n",
      "\n",
      "        ...,\n",
      "\n",
      "\n",
      "        [[[0., 0., 0.,  ..., 0., 0., 0.],\n",
      "          [0., 0., 0.,  ..., 0., 0., 0.],\n",
      "          [0., 0., 0.,  ..., 0., 0., 0.],\n",
      "          ...,\n",
      "          [0., 0., 0.,  ..., 0., 0., 0.],\n",
      "          [0., 0., 0.,  ..., 0., 0., 0.],\n",
      "          [0., 0., 0.,  ..., 0., 0., 0.]]],\n",
      "\n",
      "\n",
      "        [[[0., 0., 0.,  ..., 0., 0., 0.],\n",
      "          [0., 0., 0.,  ..., 0., 0., 0.],\n",
      "          [0., 0., 0.,  ..., 0., 0., 0.],\n",
      "          ...,\n",
      "          [0., 0., 0.,  ..., 0., 0., 0.],\n",
      "          [0., 0., 0.,  ..., 0., 0., 0.],\n",
      "          [0., 0., 0.,  ..., 0., 0., 0.]]],\n",
      "\n",
      "\n",
      "        [[[0., 0., 0.,  ..., 0., 0., 0.],\n",
      "          [0., 0., 0.,  ..., 0., 0., 0.],\n",
      "          [0., 0., 0.,  ..., 0., 0., 0.],\n",
      "          ...,\n",
      "          [0., 0., 0.,  ..., 0., 0., 0.],\n",
      "          [0., 0., 0.,  ..., 0., 0., 0.],\n",
      "          [0., 0., 0.,  ..., 0., 0., 0.]]]])\n",
      "tensor([9, 4, 1, 9, 6, 4, 3, 3, 2, 8, 6, 6, 3, 4, 8, 3, 7, 9, 7, 9, 5, 4, 1, 8,\n",
      "        3, 4, 7, 1, 4, 3, 0, 7, 3, 8, 3, 9, 2, 9, 8, 9, 0, 5, 3, 4, 8, 9, 8, 7,\n",
      "        5, 0, 5, 8, 1, 2, 6, 8, 1, 9, 1, 1, 2, 8, 0, 8, 4, 8, 8, 4, 6, 9, 7, 3,\n",
      "        0, 9, 3, 5, 4, 4, 9, 8, 5, 6, 6, 1, 5, 3, 4, 2, 5, 9, 3, 3, 2, 0, 8, 8,\n",
      "        4, 6, 6, 3])\n"
     ]
    }
   ],
   "source": [
    "for b, (X_train, y_train) in enumerate(train_loader):\n",
    "     b+=1\n",
    "     break\n",
    "    \n",
    "print(b)\n",
    "print(X_train)\n",
    "print(y_train)"
   ]
  },
  {
   "cell_type": "code",
   "execution_count": 43,
   "metadata": {},
   "outputs": [
    {
     "name": "stdout",
     "output_type": "stream",
     "text": [
      "tensor([[-2.0187e+01, -2.4859e+01, -2.4201e+01, -9.5416e+00, -3.2248e+01,\n",
      "         -9.2741e-05, -1.9808e+01, -2.6242e+01, -1.9665e+01, -1.0773e+01],\n",
      "        [-1.5045e+01, -4.8506e-04, -8.7663e+00, -1.2393e+01, -1.4439e+01,\n",
      "         -1.7182e+01, -1.1840e+01, -1.1875e+01, -8.0788e+00, -1.8972e+01],\n",
      "        [-1.5214e+01, -1.6712e+01, -1.3649e+01, -9.5798e+00, -2.0977e+01,\n",
      "         -1.4271e+01, -2.0175e+01, -1.7216e+01, -1.2635e-04, -9.8068e+00],\n",
      "        [-4.0785e-04, -2.3088e+01, -7.8288e+00, -1.2346e+01, -2.9150e+01,\n",
      "         -1.4334e+01, -1.2869e+01, -2.1193e+01, -1.4533e+01, -1.3336e+01],\n",
      "        [-1.5498e+01, -2.0635e+01, -8.8506e+00, -2.4089e-04, -3.1119e+01,\n",
      "         -1.3936e+01, -2.5109e+01, -1.7569e+01, -9.2450e+00, -1.8554e+01],\n",
      "        [-2.2090e+01, -1.4239e+01, -1.2323e+01, -1.3397e+01, -1.9057e+01,\n",
      "         -1.7489e+01, -2.3809e+01, -1.6790e+01, -6.5565e-06, -2.5740e+01],\n",
      "        [-4.2878e+01, -2.2726e+01,  0.0000e+00, -2.0019e+01, -3.3255e+01,\n",
      "         -3.2687e+01, -3.6033e+01, -1.9642e+01, -2.4092e+01, -4.7551e+01],\n",
      "        [-3.0447e+01, -1.7515e+01, -2.1690e+01, -2.4131e+01, -1.2994e-05,\n",
      "         -1.7341e+01, -2.2250e+01, -1.2976e+01, -1.5907e+01, -1.1461e+01],\n",
      "        [-2.5086e+01, -3.3622e+01, -2.2677e+01, -3.1337e+01, -2.8249e+01,\n",
      "         -2.1274e+01,  0.0000e+00, -3.3526e+01, -2.2981e+01, -3.3929e+01],\n",
      "        [-2.3061e+01, -2.0125e+01, -2.1753e+01, -1.5711e+01, -1.1915e+01,\n",
      "         -1.9966e+01, -2.5740e+01, -1.3628e+01, -1.1971e+01, -1.4305e-05],\n",
      "        [-2.8531e+01, -2.3028e+01, -2.2753e+01, -2.2368e+01, -1.8631e-04,\n",
      "         -2.4615e+01, -2.8840e+01, -1.1694e+01, -2.2352e+01, -8.6341e+00],\n",
      "        [-3.1068e+01, -4.3203e+01, -2.8120e+01, -2.0471e+01, -2.9487e+01,\n",
      "         -1.4010e+01, -3.8174e+01, -2.9882e+01, -8.3446e-07, -1.8237e+01],\n",
      "        [-1.2529e+01, -2.4555e+00, -6.4744e+00, -1.7497e+01, -1.7422e-01,\n",
      "         -8.6878e+00, -2.6288e+00, -8.6395e+00, -1.3110e+01, -1.4003e+01],\n",
      "        [-7.5116e+00, -1.7663e+01, -7.5828e+00, -9.3544e+00, -1.7478e+01,\n",
      "         -1.0166e+01, -6.5980e+00, -1.8784e+01, -2.5500e-03, -1.2791e+01],\n",
      "        [-4.2136e+01, -1.5813e+01, -1.1921e-07, -2.0261e+01, -3.9675e+01,\n",
      "         -3.4174e+01, -3.8639e+01, -2.0065e+01, -2.1724e+01, -5.0298e+01],\n",
      "        [-1.5632e+01, -1.9643e+01, -1.5735e+01, -2.1003e+01, -1.7523e+01,\n",
      "         -1.5892e+01, -5.9605e-07, -1.6059e+01, -1.8626e+01, -2.4567e+01],\n",
      "        [-2.5761e+01, -1.4186e-05, -1.7512e+01, -1.5261e+01, -1.2976e+01,\n",
      "         -1.7297e+01, -1.6464e+01, -1.3112e+01, -1.1561e+01, -1.8313e+01],\n",
      "        [-1.7189e+01, -1.3027e+01, -9.5628e+00, -8.2348e+00, -2.0131e+01,\n",
      "         -1.7320e+01, -2.4426e+01, -3.4148e-04, -1.5142e+01, -1.2613e+01],\n",
      "        [-4.4945e+01, -1.9662e+01,  0.0000e+00, -2.1855e+01, -3.9296e+01,\n",
      "         -3.2891e+01, -3.1455e+01, -2.5651e+01, -2.2092e+01, -5.5012e+01],\n",
      "        [-1.2443e+01, -2.9179e+01, -1.6972e+01, -2.4455e+01, -6.0651e+00,\n",
      "         -1.4137e+01, -2.3384e-03, -1.9197e+01, -1.1750e+01, -1.4654e+01],\n",
      "        [-2.4191e+01, -1.1147e+01, -1.4675e+01, -1.2601e+01, -2.1226e+01,\n",
      "         -2.4125e+01, -3.2697e+01, -2.0742e-05, -1.8131e+01, -1.2894e+01],\n",
      "        [-2.3792e+01, -1.8755e+01, -1.3608e+01, -1.7762e-05, -2.1079e+01,\n",
      "         -1.5289e+01, -2.7297e+01, -1.8561e+01, -1.1235e+01, -1.2675e+01],\n",
      "        [-2.1285e+01, -2.0506e+01, -1.6778e+01, -2.7002e+01, -1.5497e-05,\n",
      "         -1.4945e+01, -1.5081e+01, -1.1120e+01, -2.4733e+01, -1.6325e+01],\n",
      "        [-2.1464e+01, -2.1035e+01, -1.7244e+01, -1.5183e+01, -2.4907e+01,\n",
      "         -1.8505e+01, -3.7849e+01, -1.6689e-06, -2.1006e+01, -1.3459e+01],\n",
      "        [-1.4545e+01, -1.3759e+01, -9.5127e+00, -1.4894e+01, -2.2556e+01,\n",
      "         -1.0131e+01, -1.3241e+01, -1.8853e+01, -1.1765e-04, -1.5042e+01],\n",
      "        [-2.3653e+01, -2.0323e+01, -1.5397e+01, -3.6955e-06, -2.5217e+01,\n",
      "         -1.2956e+01, -2.5125e+01, -2.2469e+01, -1.3687e+01, -2.0309e+01],\n",
      "        [-1.6787e+01, -1.8634e+01, -1.2940e+01, -2.0140e+01, -1.4496e+01,\n",
      "         -1.6137e+01, -4.1723e-06, -2.4257e+01, -1.3707e+01, -2.7472e+01],\n",
      "        [-1.9599e+01, -1.9627e+01, -1.4059e+01, -1.0430e+01, -1.6020e+01,\n",
      "         -8.0918e+00, -1.2523e+01, -2.0240e+01, -3.4207e-04, -1.3269e+01],\n",
      "        [-2.3760e+01, -3.3048e+01, -2.3579e+01, -3.1875e+01, -2.8402e+01,\n",
      "         -1.9152e+01,  0.0000e+00, -3.6709e+01, -2.5843e+01, -3.4081e+01],\n",
      "        [-8.4277e-05, -2.3032e+01, -9.3964e+00, -1.5407e+01, -3.0791e+01,\n",
      "         -1.3945e+01, -1.5600e+01, -1.8078e+01, -2.0776e+01, -1.6154e+01],\n",
      "        [-1.9862e+01, -1.4446e+01, -1.3282e+01, -9.4807e+00, -2.6598e+01,\n",
      "         -2.1476e+01, -3.5032e+01, -8.4635e-05, -1.7791e+01, -1.2015e+01],\n",
      "        [-9.2892e+00, -1.2823e+01, -2.7924e-03, -6.0859e+00, -1.8447e+01,\n",
      "         -9.4476e+00, -1.4221e+01, -8.3270e+00, -9.2416e+00, -1.5327e+01],\n",
      "        [-2.2380e+01, -1.6424e+01, -1.5054e+01, -1.6219e+01, -2.0107e+01,\n",
      "         -1.1721e+01, -1.0252e-05, -2.1755e+01, -1.3269e+01, -2.4592e+01],\n",
      "        [-4.0839e+01, -2.1050e+01,  0.0000e+00, -2.1501e+01, -6.1314e+01,\n",
      "         -3.3834e+01, -4.6674e+01, -2.2668e+01, -2.9687e+01, -5.9259e+01],\n",
      "        [-1.8097e+01, -1.3996e+01, -1.6779e+01, -2.1353e+00, -2.7192e+01,\n",
      "         -1.2582e-01, -1.9937e+01, -1.7903e+01, -1.1295e+01, -1.3016e+01],\n",
      "        [-2.9792e+01, -1.8555e+01, -2.0179e+01, -1.1921e-07, -2.6487e+01,\n",
      "         -1.8513e+01, -3.8267e+01, -1.7703e+01, -1.7731e+01, -1.6928e+01],\n",
      "        [-2.3833e+01, -1.5854e+01, -1.9906e+01, -2.3655e+01, -4.9828e-05,\n",
      "         -1.8301e+01, -1.3628e+01, -9.9542e+00, -1.6615e+01, -1.3963e+01],\n",
      "        [-1.5495e+01, -2.2492e+01, -1.9368e+01, -2.1723e+01, -1.7233e+01,\n",
      "         -1.4918e+01, -1.5497e-06, -2.8220e+01, -1.3870e+01, -2.0873e+01],\n",
      "        [-4.1186e-02, -2.3524e+01, -2.0043e+01, -1.5442e+01, -2.4463e+01,\n",
      "         -9.4733e+00, -3.2121e+00, -2.0726e+01, -1.4389e+01, -1.4250e+01],\n",
      "        [-1.9556e+01, -1.2510e-03, -1.2242e+01, -9.9554e+00, -9.6764e+00,\n",
      "         -1.3302e+01, -1.4515e+01, -7.9857e+00, -7.1406e+00, -1.4493e+01],\n",
      "        [-2.3570e+01, -1.6614e+01, -1.3865e+01, -7.6999e+00, -2.1570e+01,\n",
      "         -5.3677e-04, -1.2820e+01, -2.1682e+01, -9.4332e+00, -2.0237e+01],\n",
      "        [-2.5333e+01, -4.0888e-05, -1.6784e+01, -1.5002e+01, -1.0972e+01,\n",
      "         -1.7829e+01, -1.7026e+01, -1.0969e+01, -1.2018e+01, -1.6064e+01],\n",
      "        [-1.3303e+01, -2.1392e+01, -1.2356e+01, -1.3334e+01, -3.0940e+01,\n",
      "         -1.8808e+01, -2.3341e+01, -2.2572e+01, -7.6294e-06, -1.9062e+01],\n",
      "        [-1.0437e+01, -2.4452e+01, -1.4103e+01, -1.6037e+01, -1.7065e+01,\n",
      "         -1.3571e+01, -3.9701e-04, -2.1214e+01, -7.9144e+00, -1.9887e+01],\n",
      "        [-2.4283e+01, -4.4464e-05, -1.4643e+01, -1.6199e+01, -1.3661e+01,\n",
      "         -2.0108e+01, -1.8648e+01, -1.0068e+01, -1.5265e+01, -1.7382e+01],\n",
      "        [-1.6724e+01, -1.7167e+01, -1.9348e+01, -1.2320e+01, -9.2369e+00,\n",
      "         -1.0418e+01, -1.9102e+01, -1.4754e+01, -1.4883e+01, -1.3243e-04],\n",
      "        [-3.8504e-05, -2.6937e+01, -1.0537e+01, -1.8325e+01, -2.7727e+01,\n",
      "         -1.8981e+01, -1.5962e+01, -1.7269e+01, -1.8140e+01, -1.1352e+01],\n",
      "        [-2.5610e+01, -2.6890e+01, -1.8220e+01, -3.2513e+01, -8.3446e-07,\n",
      "         -2.2629e+01, -1.4018e+01, -2.0523e+01, -2.5292e+01, -2.3045e+01],\n",
      "        [-1.5580e-03, -1.5322e+01, -1.0717e+01, -9.8360e+00, -1.9529e+01,\n",
      "         -6.8005e+00, -7.9124e+00, -1.3654e+01, -1.6002e+01, -1.4905e+01],\n",
      "        [-2.3638e+01, -1.7247e+01, -1.2224e+01, -2.2280e+01, -1.7692e+01,\n",
      "         -1.5232e+01, -5.2452e-06, -2.1140e+01, -1.6697e+01, -3.3637e+01],\n",
      "        [-2.8987e+01, -1.9907e+01, -2.6935e+01, -3.1600e+01, -3.5763e-06,\n",
      "         -2.4514e+01, -2.0398e+01, -1.2534e+01, -2.3891e+01, -1.8120e+01],\n",
      "        [-2.9253e+01, -8.4033e+00, -1.0020e+01, -6.2652e+00, -1.2640e+01,\n",
      "         -8.7630e+00, -1.7786e+01, -1.5418e+01, -2.3583e-03, -1.0573e+01],\n",
      "        [-1.2938e+01, -2.1287e+01, -9.1791e-06, -1.4138e+01, -2.4960e+01,\n",
      "         -2.0809e+01, -1.2225e+01, -1.4802e+01, -1.4046e+01, -3.1299e+01],\n",
      "        [-2.1919e+01, -1.9137e+01, -1.8810e+01, -1.2304e+01, -9.1892e+00,\n",
      "         -1.2641e+01, -2.9443e+01, -1.0433e+01, -1.0682e+01, -1.6235e-04],\n",
      "        [-2.5404e+01, -1.8239e-05, -1.5026e+01, -1.6582e+01, -1.4167e+01,\n",
      "         -1.9806e+01, -1.7424e+01, -1.1006e+01, -1.4650e+01, -1.8651e+01],\n",
      "        [-1.4912e-04, -2.2422e+01, -8.8347e+00, -1.8353e+01, -2.3359e+01,\n",
      "         -2.0906e+01, -1.2657e+01, -1.9754e+01, -1.8494e+01, -1.4897e+01],\n",
      "        [-7.1526e-07, -3.1539e+01, -2.3573e+01, -2.5274e+01, -3.2933e+01,\n",
      "         -2.0205e+01, -1.4186e+01, -2.4432e+01, -2.8135e+01, -2.3102e+01],\n",
      "        [-2.1528e+01, -1.8112e+01, -1.6353e+01, -1.7818e+01, -2.1529e+01,\n",
      "         -1.4593e+01, -1.6970e+01, -2.2791e+01, -5.9605e-07, -1.8365e+01],\n",
      "        [-2.9409e+01, -3.2685e+01, -2.3199e+01,  0.0000e+00, -4.4826e+01,\n",
      "         -1.6739e+01, -4.2723e+01, -2.9485e+01, -2.0695e+01, -2.3146e+01],\n",
      "        [-1.9582e+01, -1.6997e+01, -1.6367e+01, -2.3428e+01, -1.8649e+01,\n",
      "         -1.4540e+01, -3.4571e-06, -2.8551e+01, -1.2753e+01, -2.7263e+01],\n",
      "        [-3.5118e+01, -3.3975e+01, -2.5906e+01,  0.0000e+00, -4.8761e+01,\n",
      "         -1.7404e+01, -4.7695e+01, -3.3274e+01, -2.0574e+01, -2.3662e+01],\n",
      "        [-1.9878e+01, -4.2692e-04, -1.3077e+01, -1.7250e+01, -9.7697e+00,\n",
      "         -1.6009e+01, -1.3362e+01, -7.9197e+00, -1.3057e+01, -1.5854e+01],\n",
      "        [-2.3842e-07, -3.7404e+01, -1.9265e+01, -2.6697e+01, -3.2110e+01,\n",
      "         -2.2636e+01, -1.7635e+01, -2.3052e+01, -2.7623e+01, -1.5243e+01],\n",
      "        [-4.0011e+01, -1.6432e-01, -3.8244e+00, -2.8349e+00, -1.1812e+01,\n",
      "         -9.6165e+00, -1.8446e+01, -1.4506e+01, -2.6465e+00, -2.0094e+01],\n",
      "        [-2.6005e+01, -1.9718e+01, -1.7457e+01, -2.5786e+01, -1.7524e-05,\n",
      "         -2.0346e+01, -1.9212e+01, -1.0959e+01, -2.2694e+01, -1.6407e+01],\n",
      "        [-2.1861e+01, -9.4830e+00, -1.5666e-03, -1.6341e+01, -1.8987e+01,\n",
      "         -2.0917e+01, -1.9279e+01, -6.5096e+00, -1.9870e+01, -2.8858e+01],\n",
      "        [-2.3084e+01, -1.7858e+01, -1.2348e+01, -1.8355e+01, -1.5791e+01,\n",
      "         -1.2477e+01, -8.8214e-06, -1.9292e+01, -1.4481e+01, -2.8693e+01],\n",
      "        [-2.4780e+01, -2.7347e+01, -2.8987e+01, -1.3451e+01, -1.9687e+01,\n",
      "         -2.3376e+01, -3.6294e+01, -1.4745e+01, -1.6325e+01, -1.9073e-06],\n",
      "        [-3.1730e+01, -2.5983e+01, -2.0062e+01, -2.5034e-06, -3.1239e+01,\n",
      "         -1.6431e+01, -3.9257e+01, -2.1099e+01, -1.2970e+01, -1.9969e+01],\n",
      "        [-2.1234e+01, -2.2071e+01, -2.0591e+01, -2.3342e+01, -3.7908e-05,\n",
      "         -1.8062e+01, -1.7961e+01, -1.2844e+01, -1.7167e+01, -1.0254e+01],\n",
      "        [-2.5516e+01, -3.7583e+01, -2.5110e+01, -1.0346e+01, -2.1116e+01,\n",
      "         -1.8195e+01, -3.8411e+01, -2.4911e+01, -1.6703e+01, -3.2067e-05],\n",
      "        [-1.8933e+01, -1.4470e+01, -1.4058e+01, -1.3358e+01, -1.2528e-04,\n",
      "         -1.0569e+01, -1.1371e+01, -1.1692e+01, -1.1871e+01, -9.5709e+00],\n",
      "        [-9.8578e+00, -2.1425e+01, -1.8014e+01, -1.8971e+01, -1.8995e+01,\n",
      "         -1.0579e+01, -7.7841e-05, -2.4246e+01, -1.7411e+01, -2.2143e+01],\n",
      "        [-3.5013e+01, -2.4342e+01, -2.1348e+01, -1.1921e-07, -3.3460e+01,\n",
      "         -1.7363e+01, -3.8304e+01, -2.3672e+01, -1.5549e+01, -2.4982e+01],\n",
      "        [-1.4876e+01, -1.4908e+01, -1.8575e+01, -1.3012e+01, -8.9828e+00,\n",
      "         -1.2570e+01, -2.3699e+01, -7.8088e+00, -1.4236e+01, -5.3892e-04],\n",
      "        [-3.3253e+01, -3.1267e+01,  0.0000e+00, -2.8778e+01, -3.2618e+01,\n",
      "         -3.4660e+01, -3.0313e+01, -2.5671e+01, -3.0786e+01, -4.5097e+01],\n",
      "        [-3.1466e+01, -1.8756e+01, -2.1740e+01, -2.3753e+01, -9.5367e-07,\n",
      "         -2.0884e+01, -2.5117e+01, -1.6406e+01, -2.1839e+01, -1.3944e+01],\n",
      "        [-1.5239e+01, -1.6371e+01, -1.4279e+01, -1.3132e+01, -2.3070e+01,\n",
      "         -8.2112e+00, -3.2412e+01, -4.6040e-04, -1.1981e+01, -8.6255e+00],\n",
      "        [-2.2687e+01, -2.6811e+01, -2.8337e+01, -1.0236e+01, -2.3867e+01,\n",
      "         -1.2369e+01, -3.5977e+01, -1.6467e+01, -1.4996e+01, -4.0650e-05],\n",
      "        [-2.3859e+01, -2.6866e+01, -3.0874e+01, -1.2893e+01, -2.9477e+01,\n",
      "         -6.1989e-06, -2.2486e+01, -2.5693e+01, -1.5444e+01, -1.2565e+01],\n",
      "        [-2.6215e+01, -2.4600e+01, -2.2301e+01, -2.0095e+01, -3.1304e+01,\n",
      "         -1.7058e+01, -2.7868e+01, -3.2879e+01,  0.0000e+00, -2.2047e+01],\n",
      "        [-1.9594e+01, -2.1885e+01, -1.8569e+01, -9.5781e+00, -8.2740e+00,\n",
      "         -1.6206e+01, -2.7372e+01, -1.2924e+01, -1.5492e+01, -3.2706e-04],\n",
      "        [-2.4648e+01, -1.5733e-03, -9.8611e+00, -7.2965e+00, -1.9331e+01,\n",
      "         -9.0405e+00, -1.1746e+01, -1.9047e+01, -7.2426e+00, -1.9258e+01],\n",
      "        [-3.5408e+01, -2.5698e+01, -2.5744e+01,  0.0000e+00, -3.2059e+01,\n",
      "         -2.2327e+01, -4.1794e+01, -2.0326e+01, -2.1193e+01, -2.6655e+01],\n",
      "        [-2.5697e+01, -1.9604e+01, -2.1792e+01, -8.8214e-06, -2.7507e+01,\n",
      "         -1.1657e+01, -2.8358e+01, -2.3774e+01, -1.6173e+01, -1.7016e+01],\n",
      "        [-1.9607e+01, -1.5592e+01, -4.1722e-05, -1.0129e+01, -1.7192e+01,\n",
      "         -1.5008e+01, -1.5144e+01, -1.4060e+01, -1.5807e+01, -2.2623e+01],\n",
      "        [-3.1453e+01, -3.6507e-03, -1.6314e+01, -1.4243e+01, -6.7138e+00,\n",
      "         -1.5224e+01, -1.7249e+01, -1.4363e+01, -6.0205e+00, -1.7713e+01],\n",
      "        [-3.5763e-07, -2.9645e+01, -1.4975e+01, -2.4378e+01, -3.4455e+01,\n",
      "         -2.2653e+01, -2.0909e+01, -2.6240e+01, -2.4221e+01, -2.1928e+01],\n",
      "        [-9.2020e+00, -9.7464e+00, -3.4673e+00, -6.2057e+00, -1.1332e+01,\n",
      "         -6.5731e+00, -1.3237e+01, -3.5591e-02, -1.0339e+01, -8.8503e+00],\n",
      "        [-2.8337e+01, -2.5909e+01, -1.4412e+01, -9.5367e-07, -4.1975e+01,\n",
      "         -1.7827e+01, -3.9307e+01, -1.8954e+01, -1.4645e+01, -2.3483e+01],\n",
      "        [-1.8412e+01, -1.5774e+01, -1.0848e-05, -1.3429e+01, -3.5538e+01,\n",
      "         -2.1868e+01, -1.9844e+01, -2.3935e+01, -1.1590e+01, -3.6798e+01],\n",
      "        [-2.5267e+01, -1.5377e+01, -2.2454e+01, -4.1355e-03, -3.2957e+01,\n",
      "         -5.4906e+00, -2.6448e+01, -2.1749e+01, -1.7331e+01, -1.3532e+01],\n",
      "        [-3.2188e+01, -2.8200e+01, -2.3211e+01,  0.0000e+00, -4.0516e+01,\n",
      "         -1.9960e+01, -4.0484e+01, -3.0842e+01, -1.6930e+01, -2.0512e+01],\n",
      "        [-1.9305e+01, -2.1618e+01, -1.3191e+01, -1.4196e+01, -2.3897e+01,\n",
      "         -1.6521e+01, -2.0203e+01, -2.1654e+01, -3.2186e-06, -1.4514e+01],\n",
      "        [-1.5040e+01, -3.2861e-04, -1.2416e+01, -1.5863e+01, -1.0307e+01,\n",
      "         -1.1886e+01, -9.2076e+00, -8.8732e+00, -1.0052e+01, -1.4699e+01],\n",
      "        [-2.3524e+01, -2.2533e+01, -2.0007e+01, -3.0326e+01, -1.0729e-06,\n",
      "         -1.9164e+01, -1.3822e+01, -2.3561e+01, -1.6768e+01, -1.6467e+01],\n",
      "        [-2.1412e+01, -2.1689e+01, -6.8022e+00, -1.1247e+01, -2.8392e+01,\n",
      "         -2.2554e+01, -2.3190e+01, -2.3042e+01, -1.1251e-03, -2.5588e+01],\n",
      "        [-1.8995e+01, -1.9993e+01, -1.5376e+01, -1.8276e+01, -3.1566e+01,\n",
      "         -2.1142e+01, -2.3061e+01, -2.4918e+01, -2.3842e-07, -2.1909e+01],\n",
      "        [-2.4038e+01, -1.5262e+01, -6.1749e-05, -1.0236e+01, -2.3544e+01,\n",
      "         -2.3723e+01, -2.7651e+01, -1.5148e+01, -1.0579e+01, -2.1677e+01],\n",
      "        [-2.0357e+01, -1.8225e+01, -1.4276e+01, -1.6175e+01, -1.1027e-03,\n",
      "         -9.5307e+00, -1.5249e+01, -8.4340e+00, -1.0608e+01, -7.1480e+00]])\n"
     ]
    }
   ],
   "source": [
    "print(y_pred.data)"
   ]
  },
  {
   "cell_type": "code",
   "execution_count": 44,
   "metadata": {},
   "outputs": [
    {
     "name": "stdout",
     "output_type": "stream",
     "text": [
      "1\n"
     ]
    }
   ],
   "source": [
    "print(b)"
   ]
  },
  {
   "cell_type": "code",
   "execution_count": 45,
   "metadata": {},
   "outputs": [
    {
     "name": "stdout",
     "output_type": "stream",
     "text": [
      "tensor([[-2.0187e+01, -2.4859e+01, -2.4201e+01, -9.5416e+00, -3.2248e+01,\n",
      "         -9.2741e-05, -1.9808e+01, -2.6242e+01, -1.9665e+01, -1.0773e+01],\n",
      "        [-1.5045e+01, -4.8506e-04, -8.7663e+00, -1.2393e+01, -1.4439e+01,\n",
      "         -1.7182e+01, -1.1840e+01, -1.1875e+01, -8.0788e+00, -1.8972e+01],\n",
      "        [-1.5214e+01, -1.6712e+01, -1.3649e+01, -9.5798e+00, -2.0977e+01,\n",
      "         -1.4271e+01, -2.0175e+01, -1.7216e+01, -1.2635e-04, -9.8068e+00],\n",
      "        [-4.0785e-04, -2.3088e+01, -7.8288e+00, -1.2346e+01, -2.9150e+01,\n",
      "         -1.4334e+01, -1.2869e+01, -2.1193e+01, -1.4533e+01, -1.3336e+01],\n",
      "        [-1.5498e+01, -2.0635e+01, -8.8506e+00, -2.4089e-04, -3.1119e+01,\n",
      "         -1.3936e+01, -2.5109e+01, -1.7569e+01, -9.2450e+00, -1.8554e+01],\n",
      "        [-2.2090e+01, -1.4239e+01, -1.2323e+01, -1.3397e+01, -1.9057e+01,\n",
      "         -1.7489e+01, -2.3809e+01, -1.6790e+01, -6.5565e-06, -2.5740e+01],\n",
      "        [-4.2878e+01, -2.2726e+01,  0.0000e+00, -2.0019e+01, -3.3255e+01,\n",
      "         -3.2687e+01, -3.6033e+01, -1.9642e+01, -2.4092e+01, -4.7551e+01],\n",
      "        [-3.0447e+01, -1.7515e+01, -2.1690e+01, -2.4131e+01, -1.2994e-05,\n",
      "         -1.7341e+01, -2.2250e+01, -1.2976e+01, -1.5907e+01, -1.1461e+01],\n",
      "        [-2.5086e+01, -3.3622e+01, -2.2677e+01, -3.1337e+01, -2.8249e+01,\n",
      "         -2.1274e+01,  0.0000e+00, -3.3526e+01, -2.2981e+01, -3.3929e+01],\n",
      "        [-2.3061e+01, -2.0125e+01, -2.1753e+01, -1.5711e+01, -1.1915e+01,\n",
      "         -1.9966e+01, -2.5740e+01, -1.3628e+01, -1.1971e+01, -1.4305e-05],\n",
      "        [-2.8531e+01, -2.3028e+01, -2.2753e+01, -2.2368e+01, -1.8631e-04,\n",
      "         -2.4615e+01, -2.8840e+01, -1.1694e+01, -2.2352e+01, -8.6341e+00],\n",
      "        [-3.1068e+01, -4.3203e+01, -2.8120e+01, -2.0471e+01, -2.9487e+01,\n",
      "         -1.4010e+01, -3.8174e+01, -2.9882e+01, -8.3446e-07, -1.8237e+01],\n",
      "        [-1.2529e+01, -2.4555e+00, -6.4744e+00, -1.7497e+01, -1.7422e-01,\n",
      "         -8.6878e+00, -2.6288e+00, -8.6395e+00, -1.3110e+01, -1.4003e+01],\n",
      "        [-7.5116e+00, -1.7663e+01, -7.5828e+00, -9.3544e+00, -1.7478e+01,\n",
      "         -1.0166e+01, -6.5980e+00, -1.8784e+01, -2.5500e-03, -1.2791e+01],\n",
      "        [-4.2136e+01, -1.5813e+01, -1.1921e-07, -2.0261e+01, -3.9675e+01,\n",
      "         -3.4174e+01, -3.8639e+01, -2.0065e+01, -2.1724e+01, -5.0298e+01],\n",
      "        [-1.5632e+01, -1.9643e+01, -1.5735e+01, -2.1003e+01, -1.7523e+01,\n",
      "         -1.5892e+01, -5.9605e-07, -1.6059e+01, -1.8626e+01, -2.4567e+01],\n",
      "        [-2.5761e+01, -1.4186e-05, -1.7512e+01, -1.5261e+01, -1.2976e+01,\n",
      "         -1.7297e+01, -1.6464e+01, -1.3112e+01, -1.1561e+01, -1.8313e+01],\n",
      "        [-1.7189e+01, -1.3027e+01, -9.5628e+00, -8.2348e+00, -2.0131e+01,\n",
      "         -1.7320e+01, -2.4426e+01, -3.4148e-04, -1.5142e+01, -1.2613e+01],\n",
      "        [-4.4945e+01, -1.9662e+01,  0.0000e+00, -2.1855e+01, -3.9296e+01,\n",
      "         -3.2891e+01, -3.1455e+01, -2.5651e+01, -2.2092e+01, -5.5012e+01],\n",
      "        [-1.2443e+01, -2.9179e+01, -1.6972e+01, -2.4455e+01, -6.0651e+00,\n",
      "         -1.4137e+01, -2.3384e-03, -1.9197e+01, -1.1750e+01, -1.4654e+01],\n",
      "        [-2.4191e+01, -1.1147e+01, -1.4675e+01, -1.2601e+01, -2.1226e+01,\n",
      "         -2.4125e+01, -3.2697e+01, -2.0742e-05, -1.8131e+01, -1.2894e+01],\n",
      "        [-2.3792e+01, -1.8755e+01, -1.3608e+01, -1.7762e-05, -2.1079e+01,\n",
      "         -1.5289e+01, -2.7297e+01, -1.8561e+01, -1.1235e+01, -1.2675e+01],\n",
      "        [-2.1285e+01, -2.0506e+01, -1.6778e+01, -2.7002e+01, -1.5497e-05,\n",
      "         -1.4945e+01, -1.5081e+01, -1.1120e+01, -2.4733e+01, -1.6325e+01],\n",
      "        [-2.1464e+01, -2.1035e+01, -1.7244e+01, -1.5183e+01, -2.4907e+01,\n",
      "         -1.8505e+01, -3.7849e+01, -1.6689e-06, -2.1006e+01, -1.3459e+01],\n",
      "        [-1.4545e+01, -1.3759e+01, -9.5127e+00, -1.4894e+01, -2.2556e+01,\n",
      "         -1.0131e+01, -1.3241e+01, -1.8853e+01, -1.1765e-04, -1.5042e+01],\n",
      "        [-2.3653e+01, -2.0323e+01, -1.5397e+01, -3.6955e-06, -2.5217e+01,\n",
      "         -1.2956e+01, -2.5125e+01, -2.2469e+01, -1.3687e+01, -2.0309e+01],\n",
      "        [-1.6787e+01, -1.8634e+01, -1.2940e+01, -2.0140e+01, -1.4496e+01,\n",
      "         -1.6137e+01, -4.1723e-06, -2.4257e+01, -1.3707e+01, -2.7472e+01],\n",
      "        [-1.9599e+01, -1.9627e+01, -1.4059e+01, -1.0430e+01, -1.6020e+01,\n",
      "         -8.0918e+00, -1.2523e+01, -2.0240e+01, -3.4207e-04, -1.3269e+01],\n",
      "        [-2.3760e+01, -3.3048e+01, -2.3579e+01, -3.1875e+01, -2.8402e+01,\n",
      "         -1.9152e+01,  0.0000e+00, -3.6709e+01, -2.5843e+01, -3.4081e+01],\n",
      "        [-8.4277e-05, -2.3032e+01, -9.3964e+00, -1.5407e+01, -3.0791e+01,\n",
      "         -1.3945e+01, -1.5600e+01, -1.8078e+01, -2.0776e+01, -1.6154e+01],\n",
      "        [-1.9862e+01, -1.4446e+01, -1.3282e+01, -9.4807e+00, -2.6598e+01,\n",
      "         -2.1476e+01, -3.5032e+01, -8.4635e-05, -1.7791e+01, -1.2015e+01],\n",
      "        [-9.2892e+00, -1.2823e+01, -2.7924e-03, -6.0859e+00, -1.8447e+01,\n",
      "         -9.4476e+00, -1.4221e+01, -8.3270e+00, -9.2416e+00, -1.5327e+01],\n",
      "        [-2.2380e+01, -1.6424e+01, -1.5054e+01, -1.6219e+01, -2.0107e+01,\n",
      "         -1.1721e+01, -1.0252e-05, -2.1755e+01, -1.3269e+01, -2.4592e+01],\n",
      "        [-4.0839e+01, -2.1050e+01,  0.0000e+00, -2.1501e+01, -6.1314e+01,\n",
      "         -3.3834e+01, -4.6674e+01, -2.2668e+01, -2.9687e+01, -5.9259e+01],\n",
      "        [-1.8097e+01, -1.3996e+01, -1.6779e+01, -2.1353e+00, -2.7192e+01,\n",
      "         -1.2582e-01, -1.9937e+01, -1.7903e+01, -1.1295e+01, -1.3016e+01],\n",
      "        [-2.9792e+01, -1.8555e+01, -2.0179e+01, -1.1921e-07, -2.6487e+01,\n",
      "         -1.8513e+01, -3.8267e+01, -1.7703e+01, -1.7731e+01, -1.6928e+01],\n",
      "        [-2.3833e+01, -1.5854e+01, -1.9906e+01, -2.3655e+01, -4.9828e-05,\n",
      "         -1.8301e+01, -1.3628e+01, -9.9542e+00, -1.6615e+01, -1.3963e+01],\n",
      "        [-1.5495e+01, -2.2492e+01, -1.9368e+01, -2.1723e+01, -1.7233e+01,\n",
      "         -1.4918e+01, -1.5497e-06, -2.8220e+01, -1.3870e+01, -2.0873e+01],\n",
      "        [-4.1186e-02, -2.3524e+01, -2.0043e+01, -1.5442e+01, -2.4463e+01,\n",
      "         -9.4733e+00, -3.2121e+00, -2.0726e+01, -1.4389e+01, -1.4250e+01],\n",
      "        [-1.9556e+01, -1.2510e-03, -1.2242e+01, -9.9554e+00, -9.6764e+00,\n",
      "         -1.3302e+01, -1.4515e+01, -7.9857e+00, -7.1406e+00, -1.4493e+01],\n",
      "        [-2.3570e+01, -1.6614e+01, -1.3865e+01, -7.6999e+00, -2.1570e+01,\n",
      "         -5.3677e-04, -1.2820e+01, -2.1682e+01, -9.4332e+00, -2.0237e+01],\n",
      "        [-2.5333e+01, -4.0888e-05, -1.6784e+01, -1.5002e+01, -1.0972e+01,\n",
      "         -1.7829e+01, -1.7026e+01, -1.0969e+01, -1.2018e+01, -1.6064e+01],\n",
      "        [-1.3303e+01, -2.1392e+01, -1.2356e+01, -1.3334e+01, -3.0940e+01,\n",
      "         -1.8808e+01, -2.3341e+01, -2.2572e+01, -7.6294e-06, -1.9062e+01],\n",
      "        [-1.0437e+01, -2.4452e+01, -1.4103e+01, -1.6037e+01, -1.7065e+01,\n",
      "         -1.3571e+01, -3.9701e-04, -2.1214e+01, -7.9144e+00, -1.9887e+01],\n",
      "        [-2.4283e+01, -4.4464e-05, -1.4643e+01, -1.6199e+01, -1.3661e+01,\n",
      "         -2.0108e+01, -1.8648e+01, -1.0068e+01, -1.5265e+01, -1.7382e+01],\n",
      "        [-1.6724e+01, -1.7167e+01, -1.9348e+01, -1.2320e+01, -9.2369e+00,\n",
      "         -1.0418e+01, -1.9102e+01, -1.4754e+01, -1.4883e+01, -1.3243e-04],\n",
      "        [-3.8504e-05, -2.6937e+01, -1.0537e+01, -1.8325e+01, -2.7727e+01,\n",
      "         -1.8981e+01, -1.5962e+01, -1.7269e+01, -1.8140e+01, -1.1352e+01],\n",
      "        [-2.5610e+01, -2.6890e+01, -1.8220e+01, -3.2513e+01, -8.3446e-07,\n",
      "         -2.2629e+01, -1.4018e+01, -2.0523e+01, -2.5292e+01, -2.3045e+01],\n",
      "        [-1.5580e-03, -1.5322e+01, -1.0717e+01, -9.8360e+00, -1.9529e+01,\n",
      "         -6.8005e+00, -7.9124e+00, -1.3654e+01, -1.6002e+01, -1.4905e+01],\n",
      "        [-2.3638e+01, -1.7247e+01, -1.2224e+01, -2.2280e+01, -1.7692e+01,\n",
      "         -1.5232e+01, -5.2452e-06, -2.1140e+01, -1.6697e+01, -3.3637e+01],\n",
      "        [-2.8987e+01, -1.9907e+01, -2.6935e+01, -3.1600e+01, -3.5763e-06,\n",
      "         -2.4514e+01, -2.0398e+01, -1.2534e+01, -2.3891e+01, -1.8120e+01],\n",
      "        [-2.9253e+01, -8.4033e+00, -1.0020e+01, -6.2652e+00, -1.2640e+01,\n",
      "         -8.7630e+00, -1.7786e+01, -1.5418e+01, -2.3583e-03, -1.0573e+01],\n",
      "        [-1.2938e+01, -2.1287e+01, -9.1791e-06, -1.4138e+01, -2.4960e+01,\n",
      "         -2.0809e+01, -1.2225e+01, -1.4802e+01, -1.4046e+01, -3.1299e+01],\n",
      "        [-2.1919e+01, -1.9137e+01, -1.8810e+01, -1.2304e+01, -9.1892e+00,\n",
      "         -1.2641e+01, -2.9443e+01, -1.0433e+01, -1.0682e+01, -1.6235e-04],\n",
      "        [-2.5404e+01, -1.8239e-05, -1.5026e+01, -1.6582e+01, -1.4167e+01,\n",
      "         -1.9806e+01, -1.7424e+01, -1.1006e+01, -1.4650e+01, -1.8651e+01],\n",
      "        [-1.4912e-04, -2.2422e+01, -8.8347e+00, -1.8353e+01, -2.3359e+01,\n",
      "         -2.0906e+01, -1.2657e+01, -1.9754e+01, -1.8494e+01, -1.4897e+01],\n",
      "        [-7.1526e-07, -3.1539e+01, -2.3573e+01, -2.5274e+01, -3.2933e+01,\n",
      "         -2.0205e+01, -1.4186e+01, -2.4432e+01, -2.8135e+01, -2.3102e+01],\n",
      "        [-2.1528e+01, -1.8112e+01, -1.6353e+01, -1.7818e+01, -2.1529e+01,\n",
      "         -1.4593e+01, -1.6970e+01, -2.2791e+01, -5.9605e-07, -1.8365e+01],\n",
      "        [-2.9409e+01, -3.2685e+01, -2.3199e+01,  0.0000e+00, -4.4826e+01,\n",
      "         -1.6739e+01, -4.2723e+01, -2.9485e+01, -2.0695e+01, -2.3146e+01],\n",
      "        [-1.9582e+01, -1.6997e+01, -1.6367e+01, -2.3428e+01, -1.8649e+01,\n",
      "         -1.4540e+01, -3.4571e-06, -2.8551e+01, -1.2753e+01, -2.7263e+01],\n",
      "        [-3.5118e+01, -3.3975e+01, -2.5906e+01,  0.0000e+00, -4.8761e+01,\n",
      "         -1.7404e+01, -4.7695e+01, -3.3274e+01, -2.0574e+01, -2.3662e+01],\n",
      "        [-1.9878e+01, -4.2692e-04, -1.3077e+01, -1.7250e+01, -9.7697e+00,\n",
      "         -1.6009e+01, -1.3362e+01, -7.9197e+00, -1.3057e+01, -1.5854e+01],\n",
      "        [-2.3842e-07, -3.7404e+01, -1.9265e+01, -2.6697e+01, -3.2110e+01,\n",
      "         -2.2636e+01, -1.7635e+01, -2.3052e+01, -2.7623e+01, -1.5243e+01],\n",
      "        [-4.0011e+01, -1.6432e-01, -3.8244e+00, -2.8349e+00, -1.1812e+01,\n",
      "         -9.6165e+00, -1.8446e+01, -1.4506e+01, -2.6465e+00, -2.0094e+01],\n",
      "        [-2.6005e+01, -1.9718e+01, -1.7457e+01, -2.5786e+01, -1.7524e-05,\n",
      "         -2.0346e+01, -1.9212e+01, -1.0959e+01, -2.2694e+01, -1.6407e+01],\n",
      "        [-2.1861e+01, -9.4830e+00, -1.5666e-03, -1.6341e+01, -1.8987e+01,\n",
      "         -2.0917e+01, -1.9279e+01, -6.5096e+00, -1.9870e+01, -2.8858e+01],\n",
      "        [-2.3084e+01, -1.7858e+01, -1.2348e+01, -1.8355e+01, -1.5791e+01,\n",
      "         -1.2477e+01, -8.8214e-06, -1.9292e+01, -1.4481e+01, -2.8693e+01],\n",
      "        [-2.4780e+01, -2.7347e+01, -2.8987e+01, -1.3451e+01, -1.9687e+01,\n",
      "         -2.3376e+01, -3.6294e+01, -1.4745e+01, -1.6325e+01, -1.9073e-06],\n",
      "        [-3.1730e+01, -2.5983e+01, -2.0062e+01, -2.5034e-06, -3.1239e+01,\n",
      "         -1.6431e+01, -3.9257e+01, -2.1099e+01, -1.2970e+01, -1.9969e+01],\n",
      "        [-2.1234e+01, -2.2071e+01, -2.0591e+01, -2.3342e+01, -3.7908e-05,\n",
      "         -1.8062e+01, -1.7961e+01, -1.2844e+01, -1.7167e+01, -1.0254e+01],\n",
      "        [-2.5516e+01, -3.7583e+01, -2.5110e+01, -1.0346e+01, -2.1116e+01,\n",
      "         -1.8195e+01, -3.8411e+01, -2.4911e+01, -1.6703e+01, -3.2067e-05],\n",
      "        [-1.8933e+01, -1.4470e+01, -1.4058e+01, -1.3358e+01, -1.2528e-04,\n",
      "         -1.0569e+01, -1.1371e+01, -1.1692e+01, -1.1871e+01, -9.5709e+00],\n",
      "        [-9.8578e+00, -2.1425e+01, -1.8014e+01, -1.8971e+01, -1.8995e+01,\n",
      "         -1.0579e+01, -7.7841e-05, -2.4246e+01, -1.7411e+01, -2.2143e+01],\n",
      "        [-3.5013e+01, -2.4342e+01, -2.1348e+01, -1.1921e-07, -3.3460e+01,\n",
      "         -1.7363e+01, -3.8304e+01, -2.3672e+01, -1.5549e+01, -2.4982e+01],\n",
      "        [-1.4876e+01, -1.4908e+01, -1.8575e+01, -1.3012e+01, -8.9828e+00,\n",
      "         -1.2570e+01, -2.3699e+01, -7.8088e+00, -1.4236e+01, -5.3892e-04],\n",
      "        [-3.3253e+01, -3.1267e+01,  0.0000e+00, -2.8778e+01, -3.2618e+01,\n",
      "         -3.4660e+01, -3.0313e+01, -2.5671e+01, -3.0786e+01, -4.5097e+01],\n",
      "        [-3.1466e+01, -1.8756e+01, -2.1740e+01, -2.3753e+01, -9.5367e-07,\n",
      "         -2.0884e+01, -2.5117e+01, -1.6406e+01, -2.1839e+01, -1.3944e+01],\n",
      "        [-1.5239e+01, -1.6371e+01, -1.4279e+01, -1.3132e+01, -2.3070e+01,\n",
      "         -8.2112e+00, -3.2412e+01, -4.6040e-04, -1.1981e+01, -8.6255e+00],\n",
      "        [-2.2687e+01, -2.6811e+01, -2.8337e+01, -1.0236e+01, -2.3867e+01,\n",
      "         -1.2369e+01, -3.5977e+01, -1.6467e+01, -1.4996e+01, -4.0650e-05],\n",
      "        [-2.3859e+01, -2.6866e+01, -3.0874e+01, -1.2893e+01, -2.9477e+01,\n",
      "         -6.1989e-06, -2.2486e+01, -2.5693e+01, -1.5444e+01, -1.2565e+01],\n",
      "        [-2.6215e+01, -2.4600e+01, -2.2301e+01, -2.0095e+01, -3.1304e+01,\n",
      "         -1.7058e+01, -2.7868e+01, -3.2879e+01,  0.0000e+00, -2.2047e+01],\n",
      "        [-1.9594e+01, -2.1885e+01, -1.8569e+01, -9.5781e+00, -8.2740e+00,\n",
      "         -1.6206e+01, -2.7372e+01, -1.2924e+01, -1.5492e+01, -3.2706e-04],\n",
      "        [-2.4648e+01, -1.5733e-03, -9.8611e+00, -7.2965e+00, -1.9331e+01,\n",
      "         -9.0405e+00, -1.1746e+01, -1.9047e+01, -7.2426e+00, -1.9258e+01],\n",
      "        [-3.5408e+01, -2.5698e+01, -2.5744e+01,  0.0000e+00, -3.2059e+01,\n",
      "         -2.2327e+01, -4.1794e+01, -2.0326e+01, -2.1193e+01, -2.6655e+01],\n",
      "        [-2.5697e+01, -1.9604e+01, -2.1792e+01, -8.8214e-06, -2.7507e+01,\n",
      "         -1.1657e+01, -2.8358e+01, -2.3774e+01, -1.6173e+01, -1.7016e+01],\n",
      "        [-1.9607e+01, -1.5592e+01, -4.1722e-05, -1.0129e+01, -1.7192e+01,\n",
      "         -1.5008e+01, -1.5144e+01, -1.4060e+01, -1.5807e+01, -2.2623e+01],\n",
      "        [-3.1453e+01, -3.6507e-03, -1.6314e+01, -1.4243e+01, -6.7138e+00,\n",
      "         -1.5224e+01, -1.7249e+01, -1.4363e+01, -6.0205e+00, -1.7713e+01],\n",
      "        [-3.5763e-07, -2.9645e+01, -1.4975e+01, -2.4378e+01, -3.4455e+01,\n",
      "         -2.2653e+01, -2.0909e+01, -2.6240e+01, -2.4221e+01, -2.1928e+01],\n",
      "        [-9.2020e+00, -9.7464e+00, -3.4673e+00, -6.2057e+00, -1.1332e+01,\n",
      "         -6.5731e+00, -1.3237e+01, -3.5591e-02, -1.0339e+01, -8.8503e+00],\n",
      "        [-2.8337e+01, -2.5909e+01, -1.4412e+01, -9.5367e-07, -4.1975e+01,\n",
      "         -1.7827e+01, -3.9307e+01, -1.8954e+01, -1.4645e+01, -2.3483e+01],\n",
      "        [-1.8412e+01, -1.5774e+01, -1.0848e-05, -1.3429e+01, -3.5538e+01,\n",
      "         -2.1868e+01, -1.9844e+01, -2.3935e+01, -1.1590e+01, -3.6798e+01],\n",
      "        [-2.5267e+01, -1.5377e+01, -2.2454e+01, -4.1355e-03, -3.2957e+01,\n",
      "         -5.4906e+00, -2.6448e+01, -2.1749e+01, -1.7331e+01, -1.3532e+01],\n",
      "        [-3.2188e+01, -2.8200e+01, -2.3211e+01,  0.0000e+00, -4.0516e+01,\n",
      "         -1.9960e+01, -4.0484e+01, -3.0842e+01, -1.6930e+01, -2.0512e+01],\n",
      "        [-1.9305e+01, -2.1618e+01, -1.3191e+01, -1.4196e+01, -2.3897e+01,\n",
      "         -1.6521e+01, -2.0203e+01, -2.1654e+01, -3.2186e-06, -1.4514e+01],\n",
      "        [-1.5040e+01, -3.2861e-04, -1.2416e+01, -1.5863e+01, -1.0307e+01,\n",
      "         -1.1886e+01, -9.2076e+00, -8.8732e+00, -1.0052e+01, -1.4699e+01],\n",
      "        [-2.3524e+01, -2.2533e+01, -2.0007e+01, -3.0326e+01, -1.0729e-06,\n",
      "         -1.9164e+01, -1.3822e+01, -2.3561e+01, -1.6768e+01, -1.6467e+01],\n",
      "        [-2.1412e+01, -2.1689e+01, -6.8022e+00, -1.1247e+01, -2.8392e+01,\n",
      "         -2.2554e+01, -2.3190e+01, -2.3042e+01, -1.1251e-03, -2.5588e+01],\n",
      "        [-1.8995e+01, -1.9993e+01, -1.5376e+01, -1.8276e+01, -3.1566e+01,\n",
      "         -2.1142e+01, -2.3061e+01, -2.4918e+01, -2.3842e-07, -2.1909e+01],\n",
      "        [-2.4038e+01, -1.5262e+01, -6.1749e-05, -1.0236e+01, -2.3544e+01,\n",
      "         -2.3723e+01, -2.7651e+01, -1.5148e+01, -1.0579e+01, -2.1677e+01],\n",
      "        [-2.0357e+01, -1.8225e+01, -1.4276e+01, -1.6175e+01, -1.1027e-03,\n",
      "         -9.5307e+00, -1.5249e+01, -8.4340e+00, -1.0608e+01, -7.1480e+00]],\n",
      "       grad_fn=<LogSoftmaxBackward0>)\n"
     ]
    }
   ],
   "source": [
    "print(y_pred)"
   ]
  },
  {
   "cell_type": "markdown",
   "metadata": {},
   "source": [
    "### Plot the loss and accuracy comparisons"
   ]
  },
  {
   "cell_type": "code",
   "execution_count": 46,
   "metadata": {},
   "outputs": [],
   "source": [
    "train_losses = [loss.item() for loss in train_losses]\n",
    "test_losses  = [loss.item() for loss in test_losses]"
   ]
  },
  {
   "cell_type": "code",
   "execution_count": 47,
   "metadata": {},
   "outputs": [
    {
     "data": {
      "image/png": "[encoded data removed]",
      "text/plain": [
       "<Figure size 640x480 with 1 Axes>"
      ]
     },
     "metadata": {},
     "output_type": "display_data"
    }
   ],
   "source": [
    "plt.plot(train_losses, label='training loss')\n",
    "plt.plot(test_losses, label='validation loss')\n",
    "plt.title('Loss at the end of each epoch')\n",
    "plt.legend();"
   ]
  },
  {
   "cell_type": "markdown",
   "metadata": {},
   "source": [
    "This shows some evidence of overfitting the training data."
   ]
  },
  {
   "cell_type": "code",
   "execution_count": 48,
   "metadata": {},
   "outputs": [
    {
     "data": {
      "image/png": "[encoded data removed]",
      "text/plain": [
       "<Figure size 640x480 with 1 Axes>"
      ]
     },
     "metadata": {},
     "output_type": "display_data"
    }
   ],
   "source": [
    "plt.plot([t/600 for t in train_correct], label='training accuracy')\n",
    "plt.plot([t/100 for t in test_correct], label='validation accuracy')\n",
    "plt.title('Accuracy at the end of each epoch')\n",
    "plt.legend();"
   ]
  },
  {
   "cell_type": "code",
   "execution_count": 49,
   "metadata": {},
   "outputs": [
    {
     "data": {
      "text/plain": [
       "[tensor(53589),\n",
       " tensor(57152),\n",
       " tensor(57959),\n",
       " tensor(58440),\n",
       " tensor(58785),\n",
       " tensor(58991),\n",
       " tensor(59206),\n",
       " tensor(59299),\n",
       " tensor(59464),\n",
       " tensor(59566)]"
      ]
     },
     "execution_count": 49,
     "metadata": {},
     "output_type": "execute_result"
    }
   ],
   "source": [
    "train_correct"
   ]
  },
  {
   "cell_type": "code",
   "execution_count": 50,
   "metadata": {},
   "outputs": [
    {
     "data": {
      "text/plain": [
       "[tensor(9454),\n",
       " tensor(9602),\n",
       " tensor(9649),\n",
       " tensor(9717),\n",
       " tensor(9657),\n",
       " tensor(9745),\n",
       " tensor(9736),\n",
       " tensor(9748),\n",
       " tensor(9744),\n",
       " tensor(9772)]"
      ]
     },
     "execution_count": 50,
     "metadata": {},
     "output_type": "execute_result"
    }
   ],
   "source": [
    "test_correct"
   ]
  },
  {
   "cell_type": "markdown",
   "metadata": {},
   "source": [
    "## 5. Inference"
   ]
  },
  {
   "cell_type": "code",
   "execution_count": 51,
   "metadata": {
    "scrolled": true
   },
   "outputs": [
    {
     "name": "stdout",
     "output_type": "stream",
     "text": [
      "[tensor(9454), tensor(9602), tensor(9649), tensor(9717), tensor(9657), tensor(9745), tensor(9736), tensor(9748), tensor(9744), tensor(9772)]\n",
      "\n",
      "Test accuracy: 97.720%\n"
     ]
    }
   ],
   "source": [
    "print(test_correct) # contains the results of all 10 epochs\n",
    "print()\n",
    "print(f'Test accuracy: {test_correct[-1].item()*100/10000:.3f}%') # print the most recent result as a percent"
   ]
  },
  {
   "cell_type": "code",
   "execution_count": 52,
   "metadata": {},
   "outputs": [
    {
     "data": {
      "text/plain": [
       "9772"
      ]
     },
     "execution_count": 52,
     "metadata": {},
     "output_type": "execute_result"
    }
   ],
   "source": [
    "test_correct[-1].item()"
   ]
  },
  {
   "cell_type": "code",
   "execution_count": 53,
   "metadata": {},
   "outputs": [
    {
     "data": {
      "text/plain": [
       "tensor(9772)"
      ]
     },
     "execution_count": 53,
     "metadata": {},
     "output_type": "execute_result"
    }
   ],
   "source": [
    "test_correct[-1]"
   ]
  },
  {
   "cell_type": "markdown",
   "metadata": {},
   "source": [
    "However, we'd like to compare the predicted values to the ground truth (the y_test labels), so we'll run the test set through the trained model all at once."
   ]
  },
  {
   "cell_type": "code",
   "execution_count": 54,
   "metadata": {},
   "outputs": [],
   "source": [
    "# Extract the data all at once, not in batches\n",
    "test_load_all = DataLoader(test_data, batch_size=10000, shuffle=False)"
   ]
  },
  {
   "cell_type": "code",
   "execution_count": 55,
   "metadata": {},
   "outputs": [
    {
     "name": "stdout",
     "output_type": "stream",
     "text": [
      "Test accuracy: 9772/10000 =  97.720%\n"
     ]
    }
   ],
   "source": [
    "with torch.no_grad():\n",
    "    correct = 0\n",
    "    for X_test, y_test in test_load_all:\n",
    "        y_val = model(X_test.view(len(X_test), -1))  # pass in a flattened view of X_test\n",
    "        predicted = torch.max(y_val,1)[1]\n",
    "        correct += (predicted == y_test).sum()\n",
    "print(f'Test accuracy: {correct.item()}/{len(test_data)} = {correct.item()*100/(len(test_data)):7.3f}%')"
   ]
  },
  {
   "cell_type": "markdown",
   "metadata": {},
   "source": [
    "Not bad considering that a random guess gives only 10% accuracy!"
   ]
  },
  {
   "cell_type": "markdown",
   "metadata": {},
   "source": [
    "### Display the confusion matrix\n",
    "This uses scikit-learn, and the predicted values obtained above."
   ]
  },
  {
   "cell_type": "code",
   "execution_count": 56,
   "metadata": {},
   "outputs": [
    {
     "name": "stdout",
     "output_type": "stream",
     "text": [
      "[[   0    1    2    3    4    5    6    7    8    9]]\n",
      "\n",
      "[[ 969    0    3    1    0    2    3    0    3    4]\n",
      " [   0 1121    1    0    0    1    3    7    0    3]\n",
      " [   3    3 1016    9    5    0    3   11    2    0]\n",
      " [   2    2    2  986    0   12    1    2    3    8]\n",
      " [   0    0    1    0  948    1    3    0    0    3]\n",
      " [   1    0    0    2    0  862    2    0    2    8]\n",
      " [   1    3    2    0   10    6  942    0    4    1]\n",
      " [   0    1    3    4    4    0    0 1000    2    1]\n",
      " [   2    5    3    5    3    7    1    4  955    8]\n",
      " [   2    0    1    3   12    1    0    4    3  973]]\n"
     ]
    }
   ],
   "source": [
    "# print a row of values for reference\n",
    "np.set_printoptions(formatter=dict(int=lambda x: f'{x:4}'))\n",
    "print(np.arange(10).reshape(1,10))\n",
    "print()\n",
    "\n",
    "# print the confusion matrix\n",
    "print(confusion_matrix(predicted.view(-1), y_test.view(-1)))"
   ]
  },
  {
   "cell_type": "markdown",
   "metadata": {},
   "source": [
    "This shows that the model had the greatest success with ones, twos and sevens, and the lowest with fives, sixes and eights."
   ]
  },
  {
   "cell_type": "markdown",
   "metadata": {},
   "source": [
    "## 6. Error analysis: Examine the misses\n",
    "We can track the index positions of \"missed\" predictions, and extract the corresponding image and label. We'll do this in batches to save screen space."
   ]
  },
  {
   "cell_type": "code",
   "execution_count": 57,
   "metadata": {},
   "outputs": [
    {
     "data": {
      "text/plain": [
       "228"
      ]
     },
     "execution_count": 57,
     "metadata": {},
     "output_type": "execute_result"
    }
   ],
   "source": [
    "misses = np.array([])\n",
    "for i in range(len(predicted.view(-1))):\n",
    "    if predicted[i] != y_test[i]:\n",
    "        misses = np.append(misses,i).astype('int64')\n",
    "        \n",
    "# Display the number of misses\n",
    "len(misses)"
   ]
  },
  {
   "cell_type": "code",
   "execution_count": 58,
   "metadata": {},
   "outputs": [
    {
     "data": {
      "text/plain": [
       "tensor([7, 2, 1,  ..., 4, 5, 6])"
      ]
     },
     "execution_count": 58,
     "metadata": {},
     "output_type": "execute_result"
    }
   ],
   "source": [
    "predicted.view(-1)"
   ]
  },
  {
   "cell_type": "code",
   "execution_count": 59,
   "metadata": {},
   "outputs": [
    {
     "data": {
      "text/plain": [
       "array([ 104,  115,  149,  151,  241,  247,  259,  274,  321,  340])"
      ]
     },
     "execution_count": 59,
     "metadata": {},
     "output_type": "execute_result"
    }
   ],
   "source": [
    "# Display the first 10 index positions\n",
    "misses[:10]"
   ]
  },
  {
   "cell_type": "code",
   "execution_count": 60,
   "metadata": {},
   "outputs": [
    {
     "data": {
      "text/plain": [
       "array([ 104,  115,  149,  151,  241,  247,  259,  274,  321,  340,  381,\n",
       "        445,  447,  582,  613,  619,  720,  846,  877,  938,  944,  951,\n",
       "        956, 1003, 1014, 1032, 1039, 1107, 1112, 1128, 1178, 1181, 1182,\n",
       "       1226, 1232, 1242, 1247, 1260, 1319, 1328, 1378, 1393, 1500, 1522,\n",
       "       1527, 1530, 1549, 1553, 1609, 1681, 1709, 1717, 1737, 1748, 1751,\n",
       "       1754, 1773, 1790, 1901, 1913, 1938, 1941, 1984, 1987, 2004, 2016,\n",
       "       2035, 2043, 2053, 2070, 2109, 2118, 2130, 2135, 2182, 2237, 2266,\n",
       "       2272, 2293, 2329, 2387, 2395, 2405, 2406, 2414, 2422, 2462, 2488,\n",
       "       2526, 2582, 2597, 2607, 2648, 2654, 2743, 2810, 2877, 2896, 2915,\n",
       "       2921, 2939, 3073, 3114, 3117, 3172, 3173, 3422, 3451, 3503, 3520,\n",
       "       3549, 3558, 3565, 3567, 3597, 3718, 3751, 3776, 3780, 3808, 3811,\n",
       "       3838, 3853, 3893, 3906, 3926, 3941, 3976, 4000, 4065, 4078, 4116,\n",
       "       4163, 4201, 4269, 4271, 4289, 4294, 4360, 4425, 4437, 4497, 4536,\n",
       "       4567, 4751, 4761, 4807, 4808, 4823, 4833, 4860, 4874, 4880, 4915,\n",
       "       4966, 4990, 5331, 5409, 5457, 5600, 5642, 5676, 5734, 5749, 5835,\n",
       "       5842, 5936, 5937, 5955, 5973, 5982, 6023, 6059, 6071, 6166, 6400,\n",
       "       6505, 6555, 6558, 6571, 6574, 6576, 6597, 6608, 6632, 6651, 6755,\n",
       "       6759, 6769, 6783, 7216, 7434, 7451, 7800, 7821, 8020, 8062, 8094,\n",
       "       8183, 8316, 8325, 8408, 8497, 8502, 8522, 8523, 8527, 9009, 9015,\n",
       "       9019, 9024, 9538, 9587, 9634, 9664, 9669, 9679, 9700, 9729, 9745,\n",
       "       9749, 9768, 9770, 9792, 9839, 9925, 9944, 9975])"
      ]
     },
     "execution_count": 60,
     "metadata": {},
     "output_type": "execute_result"
    }
   ],
   "source": [
    "misses"
   ]
  },
  {
   "cell_type": "code",
   "execution_count": 61,
   "metadata": {},
   "outputs": [],
   "source": [
    "# Set up an iterator to feed batched rows\n",
    "r = 12   # row size\n",
    "row = iter(np.array_split(misses,len(misses)//r+1))"
   ]
  },
  {
   "cell_type": "code",
   "execution_count": 62,
   "metadata": {},
   "outputs": [
    {
     "data": {
      "text/plain": [
       "list_iterator"
      ]
     },
     "execution_count": 62,
     "metadata": {},
     "output_type": "execute_result"
    }
   ],
   "source": [
    "type(row)"
   ]
  },
  {
   "cell_type": "markdown",
   "metadata": {},
   "source": [
    "Now that everything is set up, run and re-run the cell below to view all of the missed predictions.<br>\n",
    "Use <kbd>Ctrl+Enter</kbd> to remain on the cell between runs. You'll see a <tt>StopIteration</tt> once all the misses have been seen."
   ]
  },
  {
   "cell_type": "code",
   "execution_count": 63,
   "metadata": {},
   "outputs": [
    {
     "name": "stdout",
     "output_type": "stream",
     "text": [
      "Index: [ 104  115  149  151  241  247  259  274  321  340  381  445]\n",
      "Label: [   9    4    2    9    9    4    6    9    2    5    3    6]\n",
      "Guess: [   5    9    9    8    8    6    0    3    7    3    7    0]\n"
     ]
    },
    {
     "data": {
      "image/png": "[encoded data removed]",
      "text/plain": [
       "<Figure size 1000x400 with 1 Axes>"
      ]
     },
     "metadata": {},
     "output_type": "display_data"
    }
   ],
   "source": [
    "nextrow = next(row)\n",
    "print(\"Index:\", nextrow)\n",
    "print(\"Label:\", y_test.index_select(0,torch.tensor(nextrow)).numpy())\n",
    "print(\"Guess:\", predicted.index_select(0,torch.tensor(nextrow)).numpy())\n",
    "\n",
    "images = X_test.index_select(0,torch.tensor(nextrow))\n",
    "im = make_grid(images, nrow=r)\n",
    "plt.figure(figsize=(10,4))\n",
    "plt.imshow(np.transpose(im.numpy(), (1, 2, 0)));"
   ]
  },
  {
   "cell_type": "code",
   "execution_count": 64,
   "metadata": {},
   "outputs": [
    {
     "data": {
      "text/plain": [
       "array([ 104,  115,  149,  151,  241,  247,  259,  274,  321,  340,  381,\n",
       "        445])"
      ]
     },
     "execution_count": 64,
     "metadata": {},
     "output_type": "execute_result"
    }
   ],
   "source": [
    "nextrow"
   ]
  }
 ],
 "metadata": {
  "kernelspec": {
   "display_name": "Python 3.8.6 ('teaching_env')",
   "language": "python",
   "name": "python3"
  },
  "language_info": {
   "codemirror_mode": {
    "name": "ipython",
    "version": 3
   },
   "file_extension": ".py",
   "mimetype": "text/x-python",
   "name": "python",
   "nbconvert_exporter": "python",
   "pygments_lexer": "ipython3",
   "version": "3.9.6"
  },
  "vscode": {
   "interpreter": {
    "hash": "becc4c8e5ad229b2591d820334d85e3db0111492344629bf57f272470dce75a5"
   }
  }
 },
 "nbformat": 4,
 "nbformat_minor": 2
}
