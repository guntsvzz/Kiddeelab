{
 "cells": [
  {
   "attachments": {},
   "cell_type": "markdown",
   "metadata": {},
   "source": [
    "# Try except\n",
    "\n",
    "<img src = '../figures/try-except.png' width=400>"
   ]
  },
  {
   "cell_type": "code",
   "execution_count": null,
   "metadata": {},
   "outputs": [],
   "source": [
    "try:\n",
    "    num1 = int(input(\"Enter a number: \"))\n",
    "    num2 = int(input(\"Enter another number: \"))\n",
    "    result = num1 / num2\n",
    "except ValueError:\n",
    "    print(\"Error: Please enter valid numbers.\")\n",
    "except ZeroDivisionError:\n",
    "    print(\"Error: Division by zero is not allowed.\")\n",
    "finally:\n",
    "    print(\"Execution completed.\")\n"
   ]
  },
  {
   "attachments": {},
   "cell_type": "markdown",
   "metadata": {},
   "source": [
    "# File Handling\n",
    "\n",
    "mode selection\n",
    "\n",
    "\"r\" - Read - Default value. Opens a file for reading, error if the file does not exist\n",
    "\n",
    "\"a\" - Append - Opens a file for appending, creates the file if it does not exist\n",
    "\n",
    "\"w\" - Write - Opens a file for writing, creates the file if it does not exist\n",
    "\n",
    "\"x\" - Create - Creates the specified file, returns an error if the file exists\n",
    "\n",
    "\"t\" - Text - Default value. Text mode\n",
    "\n",
    "\"b\" - Binary - Binary mode (e.g. images)\n",
    "\n",
    "\n",
    "```\n",
    "with open('file.txt', 'r') as f:\n",
    "    data = f.read()\n",
    "# File is automatically closed when you exit the 'with' block\n",
    "```\n",
    "\n",
    "```\n",
    "f = open('file.txt', 'r')\n",
    "data = f.read()\n",
    "f.close()  # You are responsible for closing the file\n",
    "```"
   ]
  },
  {
   "attachments": {},
   "cell_type": "markdown",
   "metadata": {},
   "source": [
    "## 1. Write & Append\n",
    "\n",
    "Method \n",
    "1. `write()` - write a string to the file \n",
    "2. `writelines()` - write a list of string to the file"
   ]
  },
  {
   "cell_type": "code",
   "execution_count": 3,
   "metadata": {},
   "outputs": [
    {
     "name": "stdout",
     "output_type": "stream",
     "text": [
      "File has been rewrited\n"
     ]
    }
   ],
   "source": [
    "#Write\n",
    "try:\n",
    "    file = open('./file/Example6_1.txt',mode='w')\n",
    "    file.write('One\\n')\n",
    "    file.write('Two\\n')\n",
    "    file.write('Three\\n')\n",
    "    file.write('Four\\n')\n",
    "    file.write('Five\\n')\n",
    "    # file.close()\n",
    "except IOError as e:\n",
    "    print(e)\n",
    "finally:\n",
    "    file.close()\n",
    "    print('File has been rewrited')"
   ]
  },
  {
   "cell_type": "code",
   "execution_count": 4,
   "metadata": {},
   "outputs": [
    {
     "name": "stdout",
     "output_type": "stream",
     "text": [
      "File has been rewrited\n"
     ]
    }
   ],
   "source": [
    "#Writelines\n",
    "try:\n",
    "    file = open('./file/Example6_2.txt',mode='w')\n",
    "    file.writelines(['One\\n','Two\\n','Three\\n','Four\\n','Five\\n'])\n",
    "    file.close()\n",
    "except IOError as e:\n",
    "    print(e)\n",
    "finally:\n",
    "    file.close()\n",
    "    print('File has been rewrited')"
   ]
  },
  {
   "cell_type": "code",
   "execution_count": null,
   "metadata": {},
   "outputs": [],
   "source": [
    "#Append\n",
    "try:\n",
    "    file = open('./file/Example6_1.txt',mode='a')\n",
    "    file.write('1\\n')\n",
    "    file.write('2\\n')\n",
    "    file.write('3\\n')\n",
    "    file.write('4\\n')\n",
    "    file.write('5\\n')\n",
    "    file.close()\n",
    "except IOError as e:\n",
    "    print(e)\n",
    "finally:\n",
    "    file.close()\n",
    "    print('File has been appended')"
   ]
  },
  {
   "attachments": {},
   "cell_type": "markdown",
   "metadata": {},
   "source": [
    "## 2. Read\n",
    "\n",
    "Method\n",
    "1. `read()` - read content of the file \n",
    "2. `readline()` - read the first line of the file \n",
    "3. `readlines()` - read all lines in the list of the file"
   ]
  },
  {
   "cell_type": "code",
   "execution_count": 5,
   "metadata": {},
   "outputs": [
    {
     "name": "stdout",
     "output_type": "stream",
     "text": [
      "One\n",
      "Two\n",
      "Three\n",
      "Four\n",
      "Five\n",
      "\n",
      "File has read\n"
     ]
    }
   ],
   "source": [
    "#Return all\n",
    "try:\n",
    "    file = open('./file/Example6_1.txt', mode = 'r')\n",
    "    print(file.read())\n",
    "except IOError as e:\n",
    "    print(e)\n",
    "finally:\n",
    "    file.close()\n",
    "    print('File has read')"
   ]
  },
  {
   "cell_type": "code",
   "execution_count": 6,
   "metadata": {},
   "outputs": [
    {
     "name": "stdout",
     "output_type": "stream",
     "text": [
      "One\n",
      "\n",
      "File has read\n"
     ]
    }
   ],
   "source": [
    "#Return only one line\n",
    "try:\n",
    "    file = open('./file/Example6_1.txt', mode = 'r')\n",
    "    print(file.readline())\n",
    "except IOError as e:\n",
    "    print(e)\n",
    "finally:\n",
    "    file.close()\n",
    "    print('File has read')"
   ]
  },
  {
   "cell_type": "code",
   "execution_count": 7,
   "metadata": {},
   "outputs": [
    {
     "name": "stdout",
     "output_type": "stream",
     "text": [
      "['One\\n', 'Two\\n', 'Three\\n', 'Four\\n', 'Five\\n']\n",
      "File has read\n"
     ]
    }
   ],
   "source": [
    "#Return as list\n",
    "import re\n",
    "try:\n",
    "    file = open('./file/Example6_1.txt', mode = 'r')\n",
    "    file_list = file.readlines()\n",
    "    print(file_list)\n",
    "except IOError as e:\n",
    "    print(e)\n",
    "finally:\n",
    "    file.close()\n",
    "    print('File has read')"
   ]
  },
  {
   "attachments": {},
   "cell_type": "markdown",
   "metadata": {},
   "source": [
    "## Test 1 : Creating a dictionary then put each data into the textfile\n",
    "\n",
    "`profile = {\n",
    "    'Name': [],\n",
    "    'Gender': list(),\n",
    "    'Age': list()\n",
    "}`\n",
    "\n",
    "```\n",
    "How many Student: 2\n",
    "Please enter your name: Thomas\n",
    "Please enter your gender: male\n",
    "Please enter your age: 24\n",
    "Please enter your name: Micheal\n",
    "Please enter your gender: female\n",
    "Please enter your age: 24\n",
    "Name : ['Thomas', 'micheal']\n",
    "Gender : ['male', 'female']\n",
    "Age : ['24', '24']\n",
    "File has been added\n",
    "Done\n",
    "```"
   ]
  },
  {
   "cell_type": "code",
   "execution_count": 8,
   "metadata": {},
   "outputs": [
    {
     "name": "stdout",
     "output_type": "stream",
     "text": [
      "Name : ['Thomas', 'micheal']\n",
      "Gender : ['male', 'female']\n",
      "Age : ['24', '24']\n",
      "File has been added\n",
      "Done\n"
     ]
    }
   ],
   "source": [
    "profile = {\n",
    "    'Name': [],\n",
    "    'Gender': list(),\n",
    "    'Age': list()\n",
    "}\n",
    "i = 0\n",
    "amount = int(input('How many Student: '))\n",
    "while  i < amount:\n",
    "    students = input('Please enter your name: ')\n",
    "    profile['Name'].append(students)\n",
    "    gender = input('Please enter your gender: ')\n",
    "    profile['Gender'].append(gender)\n",
    "    age = input('Please enter your age: ')\n",
    "    profile['Age'].append(age)\n",
    "    i += 1\n",
    "\n",
    "for (key, value) in profile.items():\n",
    "    print(f'{key} : {value}')\n",
    "\n",
    "try:\n",
    "    file = open('./file/test1.txt',mode = 'w')\n",
    "    file.write(\"Name;Gender;Age\")\n",
    "    file.write(\"\\n\")\n",
    "    for j in range(i):\n",
    "        file.write(f\"{profile['Name'][j]};{profile['Gender'][j]};{profile['Age'][j]}\")\n",
    "        file.write('\\n')\n",
    "    print('File has been added')\n",
    "except IOError as e:\n",
    "    print(e)\n",
    "finally:\n",
    "    file.close()\n",
    "    print('Done')"
   ]
  },
  {
   "cell_type": "code",
   "execution_count": 10,
   "metadata": {},
   "outputs": [
    {
     "name": "stdout",
     "output_type": "stream",
     "text": [
      "Name;Gender;Age\n",
      "Thomas;male;24\n",
      "micheal;female;24\n",
      "\n",
      "File has read\n"
     ]
    }
   ],
   "source": [
    "def ReadFile(filename):\n",
    "    try:\n",
    "        file = open(f'./file/{filename}', mode = 'r')\n",
    "        print(file.read())\n",
    "    except IOError as e:\n",
    "        print(e)\n",
    "    finally:\n",
    "        file.close()\n",
    "        print('File has read')\n",
    "        \n",
    "ReadFile('test1.txt')"
   ]
  },
  {
   "cell_type": "code",
   "execution_count": 12,
   "metadata": {},
   "outputs": [
    {
     "data": {
      "text/html": [
       "<div>\n",
       "<style scoped>\n",
       "    .dataframe tbody tr th:only-of-type {\n",
       "        vertical-align: middle;\n",
       "    }\n",
       "\n",
       "    .dataframe tbody tr th {\n",
       "        vertical-align: top;\n",
       "    }\n",
       "\n",
       "    .dataframe thead th {\n",
       "        text-align: right;\n",
       "    }\n",
       "</style>\n",
       "<table border=\"1\" class=\"dataframe\">\n",
       "  <thead>\n",
       "    <tr style=\"text-align: right;\">\n",
       "      <th></th>\n",
       "      <th>Name</th>\n",
       "      <th>Gender</th>\n",
       "      <th>Age</th>\n",
       "    </tr>\n",
       "  </thead>\n",
       "  <tbody>\n",
       "    <tr>\n",
       "      <th>0</th>\n",
       "      <td>Thomas</td>\n",
       "      <td>male</td>\n",
       "      <td>24</td>\n",
       "    </tr>\n",
       "    <tr>\n",
       "      <th>1</th>\n",
       "      <td>micheal</td>\n",
       "      <td>female</td>\n",
       "      <td>24</td>\n",
       "    </tr>\n",
       "  </tbody>\n",
       "</table>\n",
       "</div>"
      ],
      "text/plain": [
       "      Name  Gender  Age\n",
       "0   Thomas    male   24\n",
       "1  micheal  female   24"
      ]
     },
     "execution_count": 12,
     "metadata": {},
     "output_type": "execute_result"
    }
   ],
   "source": [
    "# !pip install pandas \n",
    "import pandas as pd\n",
    "df = pd.read_csv('./file/test1.txt', sep=';')\n",
    "df.head()"
   ]
  },
  {
   "cell_type": "code",
   "execution_count": 4,
   "metadata": {},
   "outputs": [],
   "source": [
    "!python3 -m streamlit run user-streamlit-website.py"
   ]
  },
  {
   "attachments": {},
   "cell_type": "markdown",
   "metadata": {},
   "source": [
    "## Faker Library\n",
    "a Python package that generates fake data for you. \n",
    "\n",
    "Whether you need to bootstrap your database, create good-looking XML documents, \n",
    "\n",
    "fill-in your persistence to stress test it, or anonymize data taken from a production service, Faker is for you."
   ]
  },
  {
   "attachments": {},
   "cell_type": "markdown",
   "metadata": {},
   "source": [
    "Certainly! Here are 10 useful functions provided by the `Faker` library in Python for generating various types of fake data:\n",
    "\n",
    "1. **Name Generation:**\n",
    "   - `fake.name()` - Generate a random full name.\n",
    "   - `fake.first_name()` - Generate a random first name.\n",
    "   - `fake.last_name()` - Generate a random last name.\n",
    "\n",
    "2. **Address Generation:**\n",
    "   - `fake.address()` - Generate a random street address.\n",
    "   - `fake.city()` - Generate a random city name.\n",
    "   - `fake.country()` - Generate a random country name.\n",
    "\n",
    "3. **Text and Sentences:**\n",
    "   - `fake.text(max_nb_chars=200)` - Generate a random block of text.\n",
    "   - `fake.sentence()` - Generate a random sentence.\n",
    "\n",
    "4. **Numbers:**\n",
    "   - `fake.random_number(digits=5)` - Generate a random integer with a specified number of digits.\n",
    "   - `fake.random_int(min=0, max=100, step=1)` - Generate a random integer within a range.\n",
    "\n",
    "5. **Dates:**\n",
    "   - `fake.date_of_birth(minimum_age=18, maximum_age=65)` - Generate a random date of birth.\n",
    "   - `fake.date_this_century()` - Generate a random date within the current century.\n",
    "\n",
    "6. **Company Information:**\n",
    "   - `fake.company()` - Generate a random company name.\n",
    "   - `fake.catch_phrase()` - Generate a random company catchphrase.\n",
    "\n",
    "7. **Email and Internet Information:**\n",
    "   - `fake.email()` - Generate a random email address.\n",
    "   - `fake.url()` - Generate a random URL.\n",
    "\n",
    "8. **Usernames and User Profiles:**\n",
    "   - `fake.user_name()` - Generate a random username.\n",
    "   - `fake.user_agent()` - Generate a random user agent string.\n",
    "\n",
    "9. **Phone Numbers:**\n",
    "   - `fake.phone_number()` - Generate a random phone number.\n",
    "   - `fake.cellphone_number()` - Generate a random cellphone number.\n",
    "\n",
    "10. **Miscellaneous:**\n",
    "    - `fake.word(ext_word_list=[\"word1\", \"word2\"])` - Generate a random word from a custom word list.\n",
    "    - `fake.random_element(elements=[\"item1\", \"item2\"])` - Choose a random element from a list of provided elements.\n",
    "    - `fake.passport_number()` - Generate a passport number.\n",
    "\n",
    "These functions cover a wide range of data types and can be very useful for generating fake data for testing, development, and other purposes."
   ]
  },
  {
   "cell_type": "code",
   "execution_count": 23,
   "metadata": {},
   "outputs": [],
   "source": [
    "from faker import Faker\n",
    "\n",
    "fake = Faker()"
   ]
  },
  {
   "cell_type": "code",
   "execution_count": 17,
   "metadata": {},
   "outputs": [
    {
     "name": "stdout",
     "output_type": "stream",
     "text": [
      "Text data has been generated and saved to 'fake_test.txt'.\n"
     ]
    }
   ],
   "source": [
    "# Create or open a text file for writing\n",
    "with open(\"fake_test.txt\", \"w\") as f:\n",
    "    # Generate and write 1000 sentences\n",
    "    for _ in range(1000):\n",
    "        sentence = fake.sentence()\n",
    "        f.write(sentence + \"\\n\")\n",
    "\n",
    "print(\"Text data has been generated and saved to 'fake_test.txt'.\")"
   ]
  },
  {
   "attachments": {},
   "cell_type": "markdown",
   "metadata": {},
   "source": [
    "## Test 2 : Immigration Bureau\n",
    "Generating fake users information which contain `name, surname, passport number`."
   ]
  },
  {
   "cell_type": "code",
   "execution_count": 33,
   "metadata": {},
   "outputs": [],
   "source": [
    "from faker import Faker\n",
    "\n",
    "fake = Faker()\n",
    "\n",
    "with open('idk.txt', mode='w+') as f:\n",
    "    f.write('Name;Surname;Passport Number;Date of Birth\\n')\n",
    "    data_lines = []\n",
    "    \n",
    "    for _ in range(1000):\n",
    "        user = fake.name().split()\n",
    "        name = fake.first_name()\n",
    "        sur = fake.last_name()\n",
    "        pn = fake.unique.random_number(digits=9)\n",
    "        dob = fake.date_of_birth(minimum_age=18, maximum_age=70).strftime(\"%Y-%m-%d\")\n",
    "        #arrange format \n",
    "        data_line = f'{name};{sur};{pn};{dob}\\n'\n",
    "        data_lines.append(data_line)\n",
    "    \n",
    "    f.writelines(data_lines)"
   ]
  },
  {
   "cell_type": "code",
   "execution_count": 34,
   "metadata": {},
   "outputs": [
    {
     "data": {
      "text/html": [
       "<div>\n",
       "<style scoped>\n",
       "    .dataframe tbody tr th:only-of-type {\n",
       "        vertical-align: middle;\n",
       "    }\n",
       "\n",
       "    .dataframe tbody tr th {\n",
       "        vertical-align: top;\n",
       "    }\n",
       "\n",
       "    .dataframe thead th {\n",
       "        text-align: right;\n",
       "    }\n",
       "</style>\n",
       "<table border=\"1\" class=\"dataframe\">\n",
       "  <thead>\n",
       "    <tr style=\"text-align: right;\">\n",
       "      <th></th>\n",
       "      <th>Name</th>\n",
       "      <th>Surname</th>\n",
       "      <th>Passport Number</th>\n",
       "      <th>Date of Birth</th>\n",
       "    </tr>\n",
       "  </thead>\n",
       "  <tbody>\n",
       "    <tr>\n",
       "      <th>0</th>\n",
       "      <td>Kayla</td>\n",
       "      <td>Adams</td>\n",
       "      <td>603575426</td>\n",
       "      <td>1952-10-25</td>\n",
       "    </tr>\n",
       "    <tr>\n",
       "      <th>1</th>\n",
       "      <td>Brianna</td>\n",
       "      <td>Molina</td>\n",
       "      <td>628644082</td>\n",
       "      <td>1996-07-09</td>\n",
       "    </tr>\n",
       "    <tr>\n",
       "      <th>2</th>\n",
       "      <td>Tina</td>\n",
       "      <td>Garcia</td>\n",
       "      <td>190714369</td>\n",
       "      <td>2000-01-28</td>\n",
       "    </tr>\n",
       "    <tr>\n",
       "      <th>3</th>\n",
       "      <td>Laura</td>\n",
       "      <td>Patterson</td>\n",
       "      <td>484746649</td>\n",
       "      <td>1985-02-28</td>\n",
       "    </tr>\n",
       "    <tr>\n",
       "      <th>4</th>\n",
       "      <td>Wendy</td>\n",
       "      <td>Harrington</td>\n",
       "      <td>752732375</td>\n",
       "      <td>1957-03-08</td>\n",
       "    </tr>\n",
       "  </tbody>\n",
       "</table>\n",
       "</div>"
      ],
      "text/plain": [
       "      Name     Surname  Passport Number Date of Birth\n",
       "0    Kayla       Adams        603575426    1952-10-25\n",
       "1  Brianna      Molina        628644082    1996-07-09\n",
       "2     Tina      Garcia        190714369    2000-01-28\n",
       "3    Laura   Patterson        484746649    1985-02-28\n",
       "4    Wendy  Harrington        752732375    1957-03-08"
      ]
     },
     "execution_count": 34,
     "metadata": {},
     "output_type": "execute_result"
    }
   ],
   "source": [
    "# !pip install pandas \n",
    "import pandas as pd\n",
    "df = pd.read_csv('traveler_data.txt', sep=';')\n",
    "df.head()"
   ]
  },
  {
   "cell_type": "code",
   "execution_count": 10,
   "metadata": {},
   "outputs": [],
   "source": [
    "from faker import Faker\n",
    "\n",
    "# Create a Faker instance\n",
    "fake = Faker()\n",
    "# Create a header for the immigration data\n",
    "header = \"Full Name;Passport Number;Date of Birth;Nationality;Visa Type;Arrival Date;Departure Date;Immigration Status\\n\"\n",
    "# Generate fake information for 1000 immigration records\n",
    "immigration_data = []\n",
    "\n",
    "for _ in range(1000):\n",
    "    row = [\n",
    "        fake.name(),\n",
    "        str(fake.unique.random_number(digits=9)),  # Convert to string\n",
    "        fake.date_of_birth(minimum_age=18, maximum_age=70).strftime(\"%Y-%m-%d\"),\n",
    "        fake.country(),\n",
    "        fake.word(ext_word_list=[\"Tourist\", \"Student\", \"Work\", \"Diplomatic\"]),\n",
    "        fake.date_this_century().strftime(\"%Y-%m-%d\"),\n",
    "        fake.date_this_century().strftime(\"%Y-%m-%d\"),\n",
    "        fake.random_element(elements=[\"Valid\", \"Expired\", \"Pending\"])\n",
    "    ]\n",
    "    immigration_data.append(\";\".join(row) + \"\\n\")  # Add '\\n' to the end of each row\n",
    "\n",
    "# Combine the header and data\n",
    "immigration_data.insert(0, header)\n",
    "# Save the data to a text file\n",
    "with open(\"immigration_data.txt\", \"w\") as file:\n",
    "    file.writelines(immigration_data)"
   ]
  },
  {
   "cell_type": "code",
   "execution_count": 11,
   "metadata": {},
   "outputs": [
    {
     "data": {
      "text/html": [
       "<div>\n",
       "<style scoped>\n",
       "    .dataframe tbody tr th:only-of-type {\n",
       "        vertical-align: middle;\n",
       "    }\n",
       "\n",
       "    .dataframe tbody tr th {\n",
       "        vertical-align: top;\n",
       "    }\n",
       "\n",
       "    .dataframe thead th {\n",
       "        text-align: right;\n",
       "    }\n",
       "</style>\n",
       "<table border=\"1\" class=\"dataframe\">\n",
       "  <thead>\n",
       "    <tr style=\"text-align: right;\">\n",
       "      <th></th>\n",
       "      <th>Full Name</th>\n",
       "      <th>Passport Number</th>\n",
       "      <th>Date of Birth</th>\n",
       "      <th>Nationality</th>\n",
       "      <th>Visa Type</th>\n",
       "      <th>Arrival Date</th>\n",
       "      <th>Departure Date</th>\n",
       "      <th>Immigration Status</th>\n",
       "    </tr>\n",
       "  </thead>\n",
       "  <tbody>\n",
       "    <tr>\n",
       "      <th>0</th>\n",
       "      <td>Joshua Allen</td>\n",
       "      <td>710308912</td>\n",
       "      <td>1961-07-15</td>\n",
       "      <td>Korea</td>\n",
       "      <td>Tourist</td>\n",
       "      <td>2012-06-14</td>\n",
       "      <td>2001-05-06</td>\n",
       "      <td>Expired</td>\n",
       "    </tr>\n",
       "    <tr>\n",
       "      <th>1</th>\n",
       "      <td>Julian Gregory</td>\n",
       "      <td>548681454</td>\n",
       "      <td>1968-08-18</td>\n",
       "      <td>Uzbekistan</td>\n",
       "      <td>Diplomatic</td>\n",
       "      <td>2021-11-19</td>\n",
       "      <td>2017-09-28</td>\n",
       "      <td>Expired</td>\n",
       "    </tr>\n",
       "    <tr>\n",
       "      <th>2</th>\n",
       "      <td>Jessica Guzman</td>\n",
       "      <td>382552715</td>\n",
       "      <td>1952-11-21</td>\n",
       "      <td>Ireland</td>\n",
       "      <td>Tourist</td>\n",
       "      <td>2009-04-18</td>\n",
       "      <td>2010-04-14</td>\n",
       "      <td>Expired</td>\n",
       "    </tr>\n",
       "    <tr>\n",
       "      <th>3</th>\n",
       "      <td>Scott Mccarthy</td>\n",
       "      <td>892034665</td>\n",
       "      <td>1999-12-07</td>\n",
       "      <td>Guernsey</td>\n",
       "      <td>Diplomatic</td>\n",
       "      <td>2019-07-04</td>\n",
       "      <td>2020-04-21</td>\n",
       "      <td>Pending</td>\n",
       "    </tr>\n",
       "    <tr>\n",
       "      <th>4</th>\n",
       "      <td>Ryan Howard</td>\n",
       "      <td>936811248</td>\n",
       "      <td>1960-08-21</td>\n",
       "      <td>Czech Republic</td>\n",
       "      <td>Diplomatic</td>\n",
       "      <td>2003-11-26</td>\n",
       "      <td>2001-09-03</td>\n",
       "      <td>Pending</td>\n",
       "    </tr>\n",
       "  </tbody>\n",
       "</table>\n",
       "</div>"
      ],
      "text/plain": [
       "        Full Name  Passport Number Date of Birth     Nationality   Visa Type  \\\n",
       "0    Joshua Allen        710308912    1961-07-15           Korea     Tourist   \n",
       "1  Julian Gregory        548681454    1968-08-18      Uzbekistan  Diplomatic   \n",
       "2  Jessica Guzman        382552715    1952-11-21         Ireland     Tourist   \n",
       "3  Scott Mccarthy        892034665    1999-12-07        Guernsey  Diplomatic   \n",
       "4     Ryan Howard        936811248    1960-08-21  Czech Republic  Diplomatic   \n",
       "\n",
       "  Arrival Date Departure Date Immigration Status  \n",
       "0   2012-06-14     2001-05-06            Expired  \n",
       "1   2021-11-19     2017-09-28            Expired  \n",
       "2   2009-04-18     2010-04-14            Expired  \n",
       "3   2019-07-04     2020-04-21            Pending  \n",
       "4   2003-11-26     2001-09-03            Pending  "
      ]
     },
     "execution_count": 11,
     "metadata": {},
     "output_type": "execute_result"
    }
   ],
   "source": [
    "# !pip install pandas \n",
    "import pandas as pd\n",
    "df = pd.read_csv('immigration_data.txt', sep=';')\n",
    "df.head()"
   ]
  },
  {
   "attachments": {},
   "cell_type": "markdown",
   "metadata": {},
   "source": [
    "# OS (operating system) Module\n",
    "\n",
    "Consider Current Working Directory (cwd) as a folder, where the Python is operating. \n",
    "\n",
    "Whenever the files are called only by their name, Python assumes that it starts in the CWD which means that name-only reference will be successful only if the file is in the Python’s CWD. \n",
    "\n",
    "`Note: The folder where the Python script is running is known as the Current Directory. This is not the path where the Python script is located.`"
   ]
  },
  {
   "attachments": {},
   "cell_type": "markdown",
   "metadata": {},
   "source": [
    "## Current Working Directory"
   ]
  },
  {
   "cell_type": "code",
   "execution_count": 35,
   "metadata": {},
   "outputs": [
    {
     "name": "stdout",
     "output_type": "stream",
     "text": [
      "Current working directory: /Users/guntsv/Documents/GitHub/Kiddeelab/general-python-1/lecture\n"
     ]
    }
   ],
   "source": [
    "# importing os module \n",
    "import os \n",
    "# Get the current working : directory (CWD) \n",
    "cwd = os.getcwd() \n",
    "# Print the current working : directory (CWD) \n",
    "print(\"Current working directory:\", cwd) "
   ]
  },
  {
   "cell_type": "code",
   "execution_count": 36,
   "metadata": {},
   "outputs": [
    {
     "name": "stdout",
     "output_type": "stream",
     "text": [
      "Current working directory before\n",
      "/Users/guntsv/Documents/GitHub/Kiddeelab/general-python-1/lecture\n",
      "\n",
      "Current working directory before\n",
      "/Users/guntsv/Documents/GitHub/Kiddeelab/general-python-1\n",
      "\n"
     ]
    }
   ],
   "source": [
    "import os \n",
    "# Function to Get the current  \n",
    "# working directory \n",
    "def current_path(): \n",
    "    print(\"Current working directory before\") \n",
    "    print(os.getcwd()) \n",
    "    print() \n",
    "    \n",
    "# Driver's code \n",
    "# Printing CWD before \n",
    "current_path() \n",
    "    \n",
    "# Changing the CWD \n",
    "os.chdir('../') \n",
    "    \n",
    "# Printing CWD after \n",
    "current_path() "
   ]
  },
  {
   "attachments": {},
   "cell_type": "markdown",
   "metadata": {},
   "source": [
    "## Creating a Directory\n",
    "\n",
    "`os.mkdir()` method in Python is used to create a directory named path with the specified numeric mode. This method raises FileExistsError if the directory to be created already exists.\n",
    "\n",
    "`os.makedirs()` method in Python is used to create a directory recursively. That means while making leaf directory if any intermediate-level directory is missing, os.makedirs() method will create them all.\n"
   ]
  },
  {
   "cell_type": "code",
   "execution_count": null,
   "metadata": {},
   "outputs": [],
   "source": [
    "import os \n",
    "# Directory \n",
    "directory = \"KiddeeLabPython2_1\"\n",
    "# Parent Directory path \n",
    "parent_dir = \"../GeneralPython2/\"\n",
    "# Path \n",
    "path = os.path.join(parent_dir, directory) \n",
    "print(path)\n",
    "# Create the directory \n",
    "# 'KiddeeLabPython2' in \n",
    "# 'C:/Users/Guntsv/Documents/GitHub/Kiddeelab/GeneralPython2/' \n",
    "os.mkdir(path) \n",
    "print(\"Directory '% s' created\" % directory) "
   ]
  },
  {
   "cell_type": "code",
   "execution_count": null,
   "metadata": {},
   "outputs": [],
   "source": [
    "# importing os module \n",
    "import os \n",
    "      \n",
    "# Leaf directory \n",
    "directory = \"KiddeeLabPython2_2\"\n",
    "      \n",
    "# Parent Directories \n",
    "parent_dir = \"../GeneralPython2/\"\n",
    "      \n",
    "# Path \n",
    "path = os.path.join(parent_dir, directory) \n",
    "print(path)\n",
    "\n",
    "# Create the directory \n",
    "# 'KiddeeLabPython2' \n",
    "os.makedirs(path) \n",
    "print(\"Directory '% s' created\" % directory) "
   ]
  },
  {
   "attachments": {},
   "cell_type": "markdown",
   "metadata": {},
   "source": [
    "## Listing out Files and Directories with Python"
   ]
  },
  {
   "cell_type": "code",
   "execution_count": 38,
   "metadata": {},
   "outputs": [],
   "source": [
    "# importing os module \n",
    "import os \n",
    "  \n",
    "# Get the list of all files and directories \n",
    "# in the root directory \n",
    "path = \"C:/Users/Guntsv/Documents/GitHub/Kiddeelab/GeneralPython2/file\"\n",
    "dir_list = os.listdir(path) \n",
    "  \n",
    "print(\"Files and directories in '\", path, \"' :\") \n",
    "# print the list \n",
    "print(dir_list) "
   ]
  },
  {
   "attachments": {},
   "cell_type": "markdown",
   "metadata": {},
   "source": [
    "## Common pathname manipulations\n",
    "`os.path.exist(path)` Return True if path refers to an *existing path* or an open file descriptor otherwise False.\n",
    "\n",
    "`os.path.isfile(path)` Return True if path is an *existing regular file* otherwise False."
   ]
  },
  {
   "cell_type": "code",
   "execution_count": null,
   "metadata": {},
   "outputs": [],
   "source": [
    "path = \"C:/Users/Guntsv/Documents/GitHub/Kiddeelab/GeneralPython2/file\"\n",
    "os.path.exists(path)"
   ]
  },
  {
   "cell_type": "code",
   "execution_count": null,
   "metadata": {},
   "outputs": [],
   "source": [
    "path = \"C:/Users/Guntsv/Documents/GitHub/Kiddeelab/GeneralPython2/file/KiddeeLab\"\n",
    "os.path.exists(path)"
   ]
  },
  {
   "cell_type": "code",
   "execution_count": null,
   "metadata": {},
   "outputs": [],
   "source": [
    "path = \"./Kiddeelab/GeneralPython2/02-Numpy.ipynb\"\n",
    "os.path.isfile(path)"
   ]
  },
  {
   "attachments": {},
   "cell_type": "markdown",
   "metadata": {},
   "source": [
    "## Case Study 1 : Streamlit Deployment\n",
    "- you are employed at the Immigration Bureau, responsible for inspecting travelers entering your country.\n",
    "- Using text file generating fake data as your database\n",
    "- create strealit UI to text_input for only travelers and button to submit\n",
    "- it have to information as table"
   ]
  },
  {
   "cell_type": "code",
   "execution_count": 17,
   "metadata": {},
   "outputs": [
    {
     "name": "stdout",
     "output_type": "stream",
     "text": [
      "\u001b[0m\n",
      "\u001b[34m\u001b[1m  You can now view your Streamlit app in your browser.\u001b[0m\n",
      "\u001b[0m\n",
      "\u001b[34m  Local URL: \u001b[0m\u001b[1mhttp://localhost:8501\u001b[0m\n",
      "\u001b[34m  Network URL: \u001b[0m\u001b[1mhttp://192.168.2.42:8501\u001b[0m\n",
      "\u001b[0m\n",
      "\u001b[34m\u001b[1m  For better performance, install the Watchdog module:\u001b[0m\n",
      "\n",
      "  $ xcode-select --install\n",
      "  $ pip install watchdog\n",
      "            \u001b[0m\n",
      "^C\n",
      "\u001b[34m  Stopping...\u001b[0m\n"
     ]
    }
   ],
   "source": [
    "!python3 -m streamlit run immigration-bureau-alert.py"
   ]
  },
  {
   "attachments": {},
   "cell_type": "markdown",
   "metadata": {},
   "source": [
    "# RegEx : Regular Expression\n",
    "\n",
    "a sequence of characters that forms a search pattern.\n",
    "\n",
    "RegEx can be used to check if a string contains the specified search pattern."
   ]
  }
 ],
 "metadata": {
  "kernelspec": {
   "display_name": "Python 3",
   "language": "python",
   "name": "python3"
  },
  "language_info": {
   "codemirror_mode": {
    "name": "ipython",
    "version": 3
   },
   "file_extension": ".py",
   "mimetype": "text/x-python",
   "name": "python",
   "nbconvert_exporter": "python",
   "pygments_lexer": "ipython3",
   "version": "3.9.6"
  },
  "orig_nbformat": 4
 },
 "nbformat": 4,
 "nbformat_minor": 2
}
