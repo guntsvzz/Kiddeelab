{
 "cells": [
  {
   "attachments": {},
   "cell_type": "markdown",
   "metadata": {},
   "source": [
    "# Try except\n",
    "\n",
    "<img src = '../figures/try-except.png' width=400>"
   ]
  },
  {
   "cell_type": "code",
   "execution_count": null,
   "metadata": {},
   "outputs": [],
   "source": [
    "try:\n",
    "    num1 = int(input(\"Enter a number: \"))\n",
    "    num2 = int(input(\"Enter another number: \"))\n",
    "    result = num1 / num2\n",
    "except ValueError:\n",
    "    print(\"Error: Please enter valid numbers.\")\n",
    "except ZeroDivisionError:\n",
    "    print(\"Error: Division by zero is not allowed.\")\n",
    "finally:\n",
    "    print(\"Execution completed.\")\n"
   ]
  },
  {
   "attachments": {},
   "cell_type": "markdown",
   "metadata": {},
   "source": [
    "# File Handling\n",
    "\n",
    "mode selection\n",
    "\n",
    "\"r\" - Read - Default value. Opens a file for reading, error if the file does not exist\n",
    "\n",
    "\"a\" - Append - Opens a file for appending, creates the file if it does not exist\n",
    "\n",
    "\"w\" - Write - Opens a file for writing, creates the file if it does not exist\n",
    "\n",
    "\"x\" - Create - Creates the specified file, returns an error if the file exists\n",
    "\n",
    "\"t\" - Text - Default value. Text mode\n",
    "\n",
    "\"b\" - Binary - Binary mode (e.g. images)"
   ]
  },
  {
   "attachments": {},
   "cell_type": "markdown",
   "metadata": {},
   "source": [
    "## 1. Write & Append\n",
    "\n",
    "Method \n",
    "1. `write()` - write a string to the file \n",
    "2. `writelines()` - write a list of string to the file"
   ]
  },
  {
   "cell_type": "code",
   "execution_count": 3,
   "metadata": {},
   "outputs": [
    {
     "name": "stdout",
     "output_type": "stream",
     "text": [
      "File has been rewrited\n"
     ]
    }
   ],
   "source": [
    "#Write\n",
    "try:\n",
    "    file = open('./file/Example6_1.txt',mode='w')\n",
    "    file.write('One\\n')\n",
    "    file.write('Two\\n')\n",
    "    file.write('Three\\n')\n",
    "    file.write('Four\\n')\n",
    "    file.write('Five\\n')\n",
    "    # file.close()\n",
    "except IOError as e:\n",
    "    print(e)\n",
    "finally:\n",
    "    file.close()\n",
    "    print('File has been rewrited')"
   ]
  },
  {
   "cell_type": "code",
   "execution_count": 4,
   "metadata": {},
   "outputs": [
    {
     "name": "stdout",
     "output_type": "stream",
     "text": [
      "File has been rewrited\n"
     ]
    }
   ],
   "source": [
    "#Writelines\n",
    "try:\n",
    "    file = open('./file/Example6_2.txt',mode='w')\n",
    "    file.writelines(['One\\n','Two\\n','Three\\n','Four\\n','Five\\n'])\n",
    "    file.close()\n",
    "except IOError as e:\n",
    "    print(e)\n",
    "finally:\n",
    "    file.close()\n",
    "    print('File has been rewrited')"
   ]
  },
  {
   "cell_type": "code",
   "execution_count": null,
   "metadata": {},
   "outputs": [],
   "source": [
    "#Append\n",
    "try:\n",
    "    file = open('./file/Example6_1.txt',mode='a')\n",
    "    file.write('1\\n')\n",
    "    file.write('2\\n')\n",
    "    file.write('3\\n')\n",
    "    file.write('4\\n')\n",
    "    file.write('5\\n')\n",
    "    file.close()\n",
    "except IOError as e:\n",
    "    print(e)\n",
    "finally:\n",
    "    file.close()\n",
    "    print('File has been appended')"
   ]
  },
  {
   "attachments": {},
   "cell_type": "markdown",
   "metadata": {},
   "source": [
    "## 2. Read\n",
    "\n",
    "Method\n",
    "1. `read()` - read content of the file \n",
    "2. `readline()` - read the first line of the file \n",
    "3. `readlines()` - read all lines in the list of the file"
   ]
  },
  {
   "cell_type": "code",
   "execution_count": 5,
   "metadata": {},
   "outputs": [
    {
     "name": "stdout",
     "output_type": "stream",
     "text": [
      "One\n",
      "Two\n",
      "Three\n",
      "Four\n",
      "Five\n",
      "\n",
      "File has read\n"
     ]
    }
   ],
   "source": [
    "#Return all\n",
    "try:\n",
    "    file = open('./file/Example6_1.txt', mode = 'r')\n",
    "    print(file.read())\n",
    "except IOError as e:\n",
    "    print(e)\n",
    "finally:\n",
    "    file.close()\n",
    "    print('File has read')"
   ]
  },
  {
   "cell_type": "code",
   "execution_count": 6,
   "metadata": {},
   "outputs": [
    {
     "name": "stdout",
     "output_type": "stream",
     "text": [
      "One\n",
      "\n",
      "File has read\n"
     ]
    }
   ],
   "source": [
    "#Return only one line\n",
    "try:\n",
    "    file = open('./file/Example6_1.txt', mode = 'r')\n",
    "    print(file.readline())\n",
    "except IOError as e:\n",
    "    print(e)\n",
    "finally:\n",
    "    file.close()\n",
    "    print('File has read')"
   ]
  },
  {
   "cell_type": "code",
   "execution_count": 7,
   "metadata": {},
   "outputs": [
    {
     "name": "stdout",
     "output_type": "stream",
     "text": [
      "['One\\n', 'Two\\n', 'Three\\n', 'Four\\n', 'Five\\n']\n",
      "File has read\n"
     ]
    }
   ],
   "source": [
    "#Return as list\n",
    "import re\n",
    "try:\n",
    "    file = open('./file/Example6_1.txt', mode = 'r')\n",
    "    file_list = file.readlines()\n",
    "    print(file_list)\n",
    "except IOError as e:\n",
    "    print(e)\n",
    "finally:\n",
    "    file.close()\n",
    "    print('File has read')"
   ]
  },
  {
   "attachments": {},
   "cell_type": "markdown",
   "metadata": {},
   "source": [
    "## Test 1 : Creating a dictionary then put each data into the textfile\n",
    "\n",
    "`profile = {\n",
    "    'Name': [],\n",
    "    'Gender': list(),\n",
    "    'Age': list()\n",
    "}`\n",
    "\n",
    "```\n",
    "How many Student: 2\n",
    "Please enter your name: Thomas\n",
    "Please enter your gender: male\n",
    "Please enter your age: 24\n",
    "Please enter your name: Micheal\n",
    "Please enter your gender: female\n",
    "Please enter your age: 24\n",
    "Name : ['Thomas', 'micheal']\n",
    "Gender : ['male', 'female']\n",
    "Age : ['24', '24']\n",
    "File has been added\n",
    "Done\n",
    "```"
   ]
  },
  {
   "cell_type": "code",
   "execution_count": 8,
   "metadata": {},
   "outputs": [
    {
     "name": "stdout",
     "output_type": "stream",
     "text": [
      "Name : ['Thomas', 'micheal']\n",
      "Gender : ['male', 'female']\n",
      "Age : ['24', '24']\n",
      "File has been added\n",
      "Done\n"
     ]
    }
   ],
   "source": [
    "profile = {\n",
    "    'Name': [],\n",
    "    'Gender': list(),\n",
    "    'Age': list()\n",
    "}\n",
    "i = 0\n",
    "amount = int(input('How many Student: '))\n",
    "while  i < amount:\n",
    "    students = input('Please enter your name: ')\n",
    "    profile['Name'].append(students)\n",
    "    gender = input('Please enter your gender: ')\n",
    "    profile['Gender'].append(gender)\n",
    "    age = input('Please enter your age: ')\n",
    "    profile['Age'].append(age)\n",
    "    i += 1\n",
    "\n",
    "for (key, value) in profile.items():\n",
    "    print(f'{key} : {value}')\n",
    "\n",
    "try:\n",
    "    file = open('./file/test1.txt',mode = 'w')\n",
    "    file.write(\"Name;Gender;Age\")\n",
    "    file.write(\"\\n\")\n",
    "    for j in range(i):\n",
    "        file.write(f\"{profile['Name'][j]};{profile['Gender'][j]};{profile['Age'][j]}\")\n",
    "        file.write('\\n')\n",
    "    print('File has been added')\n",
    "except IOError as e:\n",
    "    print(e)\n",
    "finally:\n",
    "    file.close()\n",
    "    print('Done')"
   ]
  },
  {
   "cell_type": "code",
   "execution_count": 10,
   "metadata": {},
   "outputs": [
    {
     "name": "stdout",
     "output_type": "stream",
     "text": [
      "Name;Gender;Age\n",
      "Thomas;male;24\n",
      "micheal;female;24\n",
      "\n",
      "File has read\n"
     ]
    }
   ],
   "source": [
    "def ReadFile(filename):\n",
    "    try:\n",
    "        file = open(f'./file/{filename}', mode = 'r')\n",
    "        print(file.read())\n",
    "    except IOError as e:\n",
    "        print(e)\n",
    "    finally:\n",
    "        file.close()\n",
    "        print('File has read')\n",
    "        \n",
    "ReadFile('test1.txt')"
   ]
  },
  {
   "cell_type": "code",
   "execution_count": 12,
   "metadata": {},
   "outputs": [
    {
     "data": {
      "text/html": [
       "<div>\n",
       "<style scoped>\n",
       "    .dataframe tbody tr th:only-of-type {\n",
       "        vertical-align: middle;\n",
       "    }\n",
       "\n",
       "    .dataframe tbody tr th {\n",
       "        vertical-align: top;\n",
       "    }\n",
       "\n",
       "    .dataframe thead th {\n",
       "        text-align: right;\n",
       "    }\n",
       "</style>\n",
       "<table border=\"1\" class=\"dataframe\">\n",
       "  <thead>\n",
       "    <tr style=\"text-align: right;\">\n",
       "      <th></th>\n",
       "      <th>Name</th>\n",
       "      <th>Gender</th>\n",
       "      <th>Age</th>\n",
       "    </tr>\n",
       "  </thead>\n",
       "  <tbody>\n",
       "    <tr>\n",
       "      <th>0</th>\n",
       "      <td>Thomas</td>\n",
       "      <td>male</td>\n",
       "      <td>24</td>\n",
       "    </tr>\n",
       "    <tr>\n",
       "      <th>1</th>\n",
       "      <td>micheal</td>\n",
       "      <td>female</td>\n",
       "      <td>24</td>\n",
       "    </tr>\n",
       "  </tbody>\n",
       "</table>\n",
       "</div>"
      ],
      "text/plain": [
       "      Name  Gender  Age\n",
       "0   Thomas    male   24\n",
       "1  micheal  female   24"
      ]
     },
     "execution_count": 12,
     "metadata": {},
     "output_type": "execute_result"
    }
   ],
   "source": [
    "# !pip install pandas \n",
    "import pandas as pd\n",
    "df = pd.read_csv('./file/test1.txt', sep=';')\n",
    "df.head()"
   ]
  },
  {
   "attachments": {},
   "cell_type": "markdown",
   "metadata": {},
   "source": [
    "# OS (operating system) Module\n",
    "\n",
    "Consider Current Working Directory (cwd) as a folder, where the Python is operating. \n",
    "\n",
    "Whenever the files are called only by their name, Python assumes that it starts in the CWD which means that name-only reference will be successful only if the file is in the Python’s CWD. \n",
    "\n",
    "`Note: The folder where the Python script is running is known as the Current Directory. This is not the path where the Python script is located.`"
   ]
  },
  {
   "attachments": {},
   "cell_type": "markdown",
   "metadata": {},
   "source": [
    "# RegEx : Regular Expression\n",
    "\n",
    "a sequence of characters that forms a search pattern.\n",
    "\n",
    "RegEx can be used to check if a string contains the specified search pattern."
   ]
  }
 ],
 "metadata": {
  "kernelspec": {
   "display_name": "Python 3",
   "language": "python",
   "name": "python3"
  },
  "language_info": {
   "codemirror_mode": {
    "name": "ipython",
    "version": 3
   },
   "file_extension": ".py",
   "mimetype": "text/x-python",
   "name": "python",
   "nbconvert_exporter": "python",
   "pygments_lexer": "ipython3",
   "version": "3.9.6"
  },
  "orig_nbformat": 4
 },
 "nbformat": 4,
 "nbformat_minor": 2
}
