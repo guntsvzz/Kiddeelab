{
 "cells": [
  {
   "attachments": {},
   "cell_type": "markdown",
   "metadata": {},
   "source": [
    "# Class"
   ]
  },
  {
   "cell_type": "code",
   "execution_count": 13,
   "metadata": {},
   "outputs": [
    {
     "data": {
      "text/plain": [
       "400"
      ]
     },
     "execution_count": 13,
     "metadata": {},
     "output_type": "execute_result"
    }
   ],
   "source": [
    "class Human:\n",
    "    #properties\n",
    "    #class variables\n",
    "    species = 'Homo Sapiens'\n",
    "    #instance variables\n",
    "    def __init__(self, name, age):\n",
    "        self.name = name \n",
    "        self.age = age\n",
    "    #method\n",
    "    def workout(self, hr, type='walking'):\n",
    "        if type == 'walking':\n",
    "            calories = 50\n",
    "        elif type == 'swim':\n",
    "            calories = 200\n",
    "        elif type == 'running':\n",
    "            calories = 200\n",
    "        return hr*calories\n",
    "    \n",
    "gun = Human('Gun', 23)\n",
    "benz = Human('Benz', 26)\n",
    "benz.workout(hr=2, type='swim')"
   ]
  },
  {
   "cell_type": "code",
   "execution_count": 41,
   "metadata": {},
   "outputs": [],
   "source": [
    "class Animal: #parent\n",
    "    def __init__(self, name, sound):\n",
    "        self.name = name     #public varaible\n",
    "        self.__sound = sound #private variable\n",
    "        self.hunger = 0      #public varaible\n",
    "\n",
    "    def make_sound(self):\n",
    "        return self.__sound\n",
    "    \n",
    "    def eat(self, food):\n",
    "        print(f'{self.name} is eating {food}')\n",
    "        self.hunger -= 1\n",
    "\n",
    "class Dog(Animal):\n",
    "    pass\n",
    "\n",
    "# You can create a subclass which inherits all of the features of a superclass\n",
    "class Cat(Animal):\n",
    "    def __init__(self, name, sound, age):\n",
    "        super().__init__(name, sound) #inheritance\n",
    "        self.age = age #new instance variable\n",
    "\n",
    "    def chase_mice(self): #creating new function\n",
    "        print(f'{self.name} is chasing mice!')"
   ]
  },
  {
   "cell_type": "code",
   "execution_count": 27,
   "metadata": {},
   "outputs": [
    {
     "data": {
      "text/plain": [
       "'Woof'"
      ]
     },
     "execution_count": 27,
     "metadata": {},
     "output_type": "execute_result"
    }
   ],
   "source": [
    "bubi = Animal('Bubi', 'Woof')\n",
    "bubi.make_sound() #, bubi.__sound"
   ]
  },
  {
   "cell_type": "code",
   "execution_count": 43,
   "metadata": {},
   "outputs": [
    {
     "data": {
      "text/plain": [
       "0"
      ]
     },
     "execution_count": 43,
     "metadata": {},
     "output_type": "execute_result"
    }
   ],
   "source": [
    "bb = Dog('bobo','woof')\n",
    "bb.make_sound()\n",
    "bb.hunger"
   ]
  },
  {
   "cell_type": "code",
   "execution_count": 46,
   "metadata": {},
   "outputs": [
    {
     "name": "stdout",
     "output_type": "stream",
     "text": [
      "bobo is eating cake\n"
     ]
    },
    {
     "data": {
      "text/plain": [
       "-3"
      ]
     },
     "execution_count": 46,
     "metadata": {},
     "output_type": "execute_result"
    }
   ],
   "source": [
    "bb.eat('cake')\n",
    "bb.hunger"
   ]
  },
  {
   "cell_type": "code",
   "execution_count": 47,
   "metadata": {},
   "outputs": [
    {
     "name": "stdout",
     "output_type": "stream",
     "text": [
      "Jeejee is chasing mice!\n"
     ]
    }
   ],
   "source": [
    "jj = Cat('Jeejee','meow', 3)\n",
    "jj.chase_mice()"
   ]
  },
  {
   "attachments": {},
   "cell_type": "markdown",
   "metadata": {},
   "source": [
    "# Example "
   ]
  },
  {
   "cell_type": "code",
   "execution_count": 1,
   "metadata": {},
   "outputs": [],
   "source": [
    "class BankAccount:\n",
    "    def __init__(self, name, account_number, balance) -> None:\n",
    "        self.name = name  # public\n",
    "        self.__account_number = account_number  # private\n",
    "        self.__balance = balance  # private\n",
    "\n",
    "    def get_account_number(self):\n",
    "        return self.__account_number\n",
    "    \n",
    "    def get_balance(self):\n",
    "        return self.__balance\n",
    "    \n",
    "    def deposit(self, money):\n",
    "        self.__balance += money\n",
    "\n",
    "    def withdraw(self, money):\n",
    "        if money > self.__balance:\n",
    "            print(f'Account balance is not available\\nRemain: {self.__balance}')\n",
    "        else:\n",
    "            self.__balance -= money\n",
    "            print(f'Withdraw: {money}\\nRemain: {self.__balance}')\n",
    "    \n",
    "    def __str__(self):\n",
    "        return f'Account Holder: {self.name}\\nAccount Number: {self.__account_number}\\nBalance: {self.__balance}'\n",
    "\n",
    "    def __len__(self):\n",
    "        return len(str(self.__balance))"
   ]
  },
  {
   "cell_type": "code",
   "execution_count": 2,
   "metadata": {},
   "outputs": [
    {
     "name": "stdout",
     "output_type": "stream",
     "text": [
      "Account Holder: John Doe\n",
      "Account Number: 123456789\n",
      "Balance: 1000\n",
      "4\n"
     ]
    }
   ],
   "source": [
    "# Example usage\n",
    "account = BankAccount(\"John Doe\", \"123456789\", 1000)\n",
    "print(account)  # This will now use the __str__ method\n",
    "print(len(account))  # This will now use the __len__ method"
   ]
  },
  {
   "cell_type": "code",
   "execution_count": 70,
   "metadata": {},
   "outputs": [
    {
     "data": {
      "text/plain": [
       "('123-456-7890', 1000)"
      ]
     },
     "execution_count": 70,
     "metadata": {},
     "output_type": "execute_result"
    }
   ],
   "source": [
    "acc_gun = BankAccount('Gun', '123-456-7890', 1000)\n",
    "acc_gun.get_account_number(), acc_gun.get_balance()"
   ]
  },
  {
   "cell_type": "code",
   "execution_count": 71,
   "metadata": {},
   "outputs": [
    {
     "name": "stdout",
     "output_type": "stream",
     "text": [
      "Withdraw :500\n",
      "Remain :500\n"
     ]
    }
   ],
   "source": [
    "acc_gun.withdraw(500)"
   ]
  },
  {
   "cell_type": "code",
   "execution_count": 1,
   "metadata": {},
   "outputs": [
    {
     "name": "stdout",
     "output_type": "stream",
     "text": [
      "Hi, I'm Alice and I'm 25 years old.\n",
      "Person: Alice, Age: 25\n",
      "Name length: 5\n"
     ]
    }
   ],
   "source": [
    "class Person:\n",
    "    def __init__(self, name, age):\n",
    "        self.name = name\n",
    "        self.age = age\n",
    "    \n",
    "    def introduce(self):\n",
    "        print(f\"Hi, I'm {self.name} and I'm {self.age} years old.\")\n",
    "    \n",
    "    def __str__(self):\n",
    "        return f\"Person: {self.name}, Age: {self.age}\"\n",
    "    \n",
    "    def __len__(self):\n",
    "        return len(self.name)\n",
    "\n",
    "# Create an instance of the class\n",
    "person1 = Person(\"Alice\", 25)\n",
    "person1.introduce()\n",
    "print(str(person1))\n",
    "print(\"Name length:\", len(person1))  # Output: Name length: 5"
   ]
  },
  {
   "cell_type": "code",
   "execution_count": 2,
   "metadata": {},
   "outputs": [
    {
     "name": "stdout",
     "output_type": "stream",
     "text": [
      "Hi, I'm Bob and I'm 18 years old.\n",
      "My student ID is 123456.\n",
      "Student: Bob, Age: 18, ID: 123456\n",
      "Name length: 3\n"
     ]
    }
   ],
   "source": [
    "class Student(Person):\n",
    "    def __init__(self, name, age, student_id):\n",
    "        super().__init__(name, age)\n",
    "        self.student_id = student_id\n",
    "    \n",
    "    def introduce(self):\n",
    "        super().introduce()\n",
    "        print(f\"My student ID is {self.student_id}.\")\n",
    "    \n",
    "    def __str__(self):\n",
    "        return f\"Student: {self.name}, Age: {self.age}, ID: {self.student_id}\"\n",
    "    \n",
    "    def __len__(self):\n",
    "        return len(self.name)\n",
    "\n",
    "# Create an instance of the subclass\n",
    "student1 = Student(\"Bob\", 18, \"123456\")\n",
    "student1.introduce()\n",
    "print(str(student1))\n",
    "print(\"Name length:\", len(student1))  # Output: Name length: 3\n"
   ]
  },
  {
   "cell_type": "code",
   "execution_count": 3,
   "metadata": {},
   "outputs": [
    {
     "name": "stdout",
     "output_type": "stream",
     "text": [
      "Apple Inc. (AAPL): $150.23\n",
      "Alphabet Inc. (GOOGL): $2780.55\n",
      "Apple Inc. (AAPL): $155.78\n",
      "Length of company name: 13\n"
     ]
    }
   ],
   "source": [
    "class Stock:\n",
    "    def __init__(self, symbol, company_name, current_price):\n",
    "        self.symbol = symbol\n",
    "        self.company_name = company_name\n",
    "        self.current_price = current_price\n",
    "    \n",
    "    def update_price(self, new_price):\n",
    "        self.current_price = new_price\n",
    "    \n",
    "    def __str__(self):\n",
    "        return f\"{self.company_name} ({self.symbol}): ${self.current_price}\"\n",
    "    \n",
    "    def __len__(self):\n",
    "        return len(self.company_name)\n",
    "\n",
    "# Create instances of the Stock class\n",
    "stock1 = Stock(\"AAPL\", \"Apple Inc.\", 150.23)\n",
    "stock2 = Stock(\"GOOGL\", \"Alphabet Inc.\", 2780.55)\n",
    "\n",
    "# Display stock information\n",
    "print(stock1)  # Output: Apple Inc. (AAPL): $150.23\n",
    "print(stock2)  # Output: Alphabet Inc. (GOOGL): $2780.55\n",
    "\n",
    "# Update stock price and display again\n",
    "stock1.update_price(155.78)\n",
    "print(stock1)  # Output: Apple Inc. (AAPL): $155.78\n",
    "\n",
    "# Get length of company name\n",
    "print(\"Length of company name:\", len(stock2))  # Output: Length of company name: 13\n"
   ]
  },
  {
   "cell_type": "code",
   "execution_count": null,
   "metadata": {},
   "outputs": [],
   "source": []
  }
 ],
 "metadata": {
  "kernelspec": {
   "display_name": "Python 3",
   "language": "python",
   "name": "python3"
  },
  "language_info": {
   "codemirror_mode": {
    "name": "ipython",
    "version": 3
   },
   "file_extension": ".py",
   "mimetype": "text/x-python",
   "name": "python",
   "nbconvert_exporter": "python",
   "pygments_lexer": "ipython3",
   "version": "3.9.6"
  },
  "orig_nbformat": 4
 },
 "nbformat": 4,
 "nbformat_minor": 2
}
