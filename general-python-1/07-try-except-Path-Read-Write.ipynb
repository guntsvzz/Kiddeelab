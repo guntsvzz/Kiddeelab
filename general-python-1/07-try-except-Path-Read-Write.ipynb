{
 "cells": [
  {
   "cell_type": "code",
   "execution_count": null,
   "metadata": {},
   "outputs": [],
   "source": [
    "!pip install numpy\n",
    "!pip install pandas\n",
    "!pip install streamlit\n",
    "!pip install faker"
   ]
  },
  {
   "attachments": {},
   "cell_type": "markdown",
   "metadata": {},
   "source": [
    "# Try except\n",
    "\n",
    "<img src = './figures/try-except.png' width=400>"
   ]
  },
  {
   "cell_type": "code",
   "execution_count": null,
   "metadata": {},
   "outputs": [],
   "source": [
    "try:\n",
    "    num1 = int(input(\"Enter a number: \"))\n",
    "    num2 = int(input(\"Enter another number: \"))\n",
    "    result = num1 / num2\n",
    "except ValueError:\n",
    "    print(\"Error: Please enter valid numbers.\")\n",
    "except ZeroDivisionError:\n",
    "    print(\"Error: Division by zero is not allowed.\")\n",
    "finally:\n",
    "    print(\"Execution completed.\")\n"
   ]
  },
  {
   "attachments": {},
   "cell_type": "markdown",
   "metadata": {},
   "source": [
    "# File Handling\n",
    "\n",
    "mode selection\n",
    "\n",
    "\"r\" - Read - Default value. Opens a file for reading, error if the file does not exist\n",
    "\n",
    "\"a\" - Append - Opens a file for appending, creates the file if it does not exist\n",
    "\n",
    "\"w\" - Write - Opens a file for writing, creates the file if it does not exist\n",
    "\n",
    "\"x\" - Create - Creates the specified file, returns an error if the file exists\n",
    "\n",
    "\"t\" - Text - Default value. Text mode\n",
    "\n",
    "\"b\" - Binary - Binary mode (e.g. images)\n",
    "\n",
    "\n",
    "```\n",
    "with open('file.txt', 'r') as f:\n",
    "    data = f.read()\n",
    "# File is automatically closed when you exit the 'with' block\n",
    "```\n",
    "\n",
    "```\n",
    "f = open('file.txt', 'r')\n",
    "data = f.read()\n",
    "f.close()  # You are responsible for closing the file\n",
    "```"
   ]
  },
  {
   "attachments": {},
   "cell_type": "markdown",
   "metadata": {},
   "source": [
    "## 1. Write & Append\n",
    "\n",
    "Method \n",
    "1. `write()` - write a string to the file \n",
    "2. `writelines()` - write a list of string to the file"
   ]
  },
  {
   "cell_type": "code",
   "execution_count": 10,
   "metadata": {},
   "outputs": [
    {
     "name": "stdout",
     "output_type": "stream",
     "text": [
      "File has been rewrited\n"
     ]
    }
   ],
   "source": [
    "#Write & wrtielines\n",
    "try:\n",
    "    file = open('./file/writing-file.txt', mode='w')\n",
    "    file.write('One\\n')\n",
    "    file.write('Two\\n')\n",
    "    file.write('Three\\n')\n",
    "    file.writelines(['Four\\n','Five\\n','Six\\n'])\n",
    "    # file.close()\n",
    "except IOError as e:\n",
    "    print(e)\n",
    "finally:\n",
    "    file.close()\n",
    "    print('File has been rewrited')"
   ]
  },
  {
   "cell_type": "code",
   "execution_count": 11,
   "metadata": {},
   "outputs": [
    {
     "name": "stdout",
     "output_type": "stream",
     "text": [
      "File has been appended\n"
     ]
    }
   ],
   "source": [
    "#Append\n",
    "try:\n",
    "    file = open('./file/writing-file.txt',mode='a')\n",
    "    file.write('1\\n')\n",
    "    file.write('2\\n')\n",
    "    file.write('3\\n')\n",
    "    file.write('4\\n')\n",
    "    file.write('5\\n')\n",
    "    file.close()\n",
    "except IOError as e:\n",
    "    print(e)\n",
    "finally:\n",
    "    file.close()\n",
    "    print('File has been appended')"
   ]
  },
  {
   "attachments": {},
   "cell_type": "markdown",
   "metadata": {},
   "source": [
    "## 2. Read\n",
    "\n",
    "Method\n",
    "1. `read()` - read content of the file \n",
    "2. `readline()` - read the first line of the file \n",
    "3. `readlines()` - read all lines in the list of the file"
   ]
  },
  {
   "cell_type": "code",
   "execution_count": 12,
   "metadata": {},
   "outputs": [
    {
     "name": "stdout",
     "output_type": "stream",
     "text": [
      "One\n",
      "Two\n",
      "Three\n",
      "Four\n",
      "Five\n",
      "Six\n",
      "1\n",
      "2\n",
      "3\n",
      "4\n",
      "5\n",
      "\n",
      "File has read\n"
     ]
    }
   ],
   "source": [
    "#Return all\n",
    "try:\n",
    "    file = open('./file/writing-file.txt', mode = 'r')\n",
    "    print(file.read())\n",
    "except IOError as e:\n",
    "    print(e)\n",
    "finally:\n",
    "    file.close()\n",
    "    print('File has read')"
   ]
  },
  {
   "cell_type": "code",
   "execution_count": 14,
   "metadata": {},
   "outputs": [
    {
     "name": "stdout",
     "output_type": "stream",
     "text": [
      "One\n",
      "\n",
      "File has read\n"
     ]
    }
   ],
   "source": [
    "#Return only one line\n",
    "try:\n",
    "    file = open('./file/writing-file.txt', mode = 'r')\n",
    "    print(file.readline())\n",
    "except IOError as e:\n",
    "    print(e)\n",
    "finally:\n",
    "    file.close()\n",
    "    print('File has read')"
   ]
  },
  {
   "cell_type": "code",
   "execution_count": 15,
   "metadata": {},
   "outputs": [
    {
     "name": "stdout",
     "output_type": "stream",
     "text": [
      "['One\\n', 'Two\\n', 'Three\\n', 'Four\\n', 'Five\\n', 'Six\\n', '1\\n', '2\\n', '3\\n', '4\\n', '5\\n']\n",
      "File has read\n"
     ]
    }
   ],
   "source": [
    "#Return as list\n",
    "import re\n",
    "try:\n",
    "    file = open('./file/writing-file.txt', mode = 'r')\n",
    "    file_list = file.readlines()\n",
    "    print(file_list)\n",
    "except IOError as e:\n",
    "    print(e)\n",
    "finally:\n",
    "    file.close()\n",
    "    print('File has read')"
   ]
  },
  {
   "attachments": {},
   "cell_type": "markdown",
   "metadata": {},
   "source": [
    "## Test 1 : Creating a dictionary then put each data into the textfile\n",
    "\n",
    "`profile = {\n",
    "    'Name': [],\n",
    "    'Gender': list(),\n",
    "    'Age': list()\n",
    "}`\n",
    "\n",
    "```\n",
    "How many Student: 2\n",
    "Please enter your name: Thomas\n",
    "Please enter your gender: male\n",
    "Please enter your age: 24\n",
    "Please enter your name: Micheal\n",
    "Please enter your gender: female\n",
    "Please enter your age: 24\n",
    "Name : ['Thomas', 'micheal']\n",
    "Gender : ['male', 'female']\n",
    "Age : ['24', '24']\n",
    "File has been added\n",
    "Done\n",
    "```"
   ]
  },
  {
   "cell_type": "code",
   "execution_count": 8,
   "metadata": {},
   "outputs": [
    {
     "name": "stdout",
     "output_type": "stream",
     "text": [
      "Name : ['Gun']\n",
      "Gender : ['male']\n",
      "Age : ['24']\n",
      "File has been added\n",
      "Done\n"
     ]
    }
   ],
   "source": [
    "profile = {\n",
    "    'Name': [],\n",
    "    'Gender': list(),\n",
    "    'Age': list()\n",
    "}\n",
    "i = 0\n",
    "amount = int(input('How many Student: '))\n",
    "while  i < amount:\n",
    "    students = input('Please enter your name: ')\n",
    "    profile['Name'].append(students)\n",
    "    gender = input('Please enter your gender: ')\n",
    "    profile['Gender'].append(gender)\n",
    "    age = input('Please enter your age: ')\n",
    "    profile['Age'].append(age)\n",
    "    i += 1\n",
    "\n",
    "for (key, value) in profile.items():\n",
    "    print(f'{key} : {value}')\n",
    "\n",
    "try:\n",
    "    file = open('./file/test1-information.txt',mode = 'w')\n",
    "    file.write(\"Name;Gender;Age\")\n",
    "    file.write(\"\\n\")\n",
    "    for j in range(i):\n",
    "        file.write(f\"{profile['Name'][j]};{profile['Gender'][j]};{profile['Age'][j]}\\n\")\n",
    "    print('File has been added')\n",
    "except IOError as e:\n",
    "    print(e)\n",
    "finally:\n",
    "    file.close()\n",
    "    print('Done')"
   ]
  },
  {
   "cell_type": "code",
   "execution_count": 16,
   "metadata": {},
   "outputs": [
    {
     "name": "stdout",
     "output_type": "stream",
     "text": [
      "Name;Gender;Age\n",
      "Gun;male;24\n",
      "\n",
      "File has read\n"
     ]
    }
   ],
   "source": [
    "def ReadFile(filename):\n",
    "    try:\n",
    "        file = open(f'./file/{filename}', mode = 'r')\n",
    "        print(file.read())\n",
    "    except IOError as e:\n",
    "        print(e)\n",
    "    finally:\n",
    "        file.close()\n",
    "        print('File has read')\n",
    "        \n",
    "ReadFile('test1-information.txt')"
   ]
  },
  {
   "cell_type": "code",
   "execution_count": 8,
   "metadata": {},
   "outputs": [
    {
     "data": {
      "text/html": [
       "<div>\n",
       "<style scoped>\n",
       "    .dataframe tbody tr th:only-of-type {\n",
       "        vertical-align: middle;\n",
       "    }\n",
       "\n",
       "    .dataframe tbody tr th {\n",
       "        vertical-align: top;\n",
       "    }\n",
       "\n",
       "    .dataframe thead th {\n",
       "        text-align: right;\n",
       "    }\n",
       "</style>\n",
       "<table border=\"1\" class=\"dataframe\">\n",
       "  <thead>\n",
       "    <tr style=\"text-align: right;\">\n",
       "      <th></th>\n",
       "      <th>Name</th>\n",
       "      <th>Gender</th>\n",
       "      <th>Age</th>\n",
       "    </tr>\n",
       "  </thead>\n",
       "  <tbody>\n",
       "    <tr>\n",
       "      <th>0</th>\n",
       "      <td>Gun</td>\n",
       "      <td>male</td>\n",
       "      <td>24</td>\n",
       "    </tr>\n",
       "  </tbody>\n",
       "</table>\n",
       "</div>"
      ],
      "text/plain": [
       "  Name Gender  Age\n",
       "0  Gun   male   24"
      ]
     },
     "execution_count": 8,
     "metadata": {},
     "output_type": "execute_result"
    }
   ],
   "source": [
    "# !pip install pandas \n",
    "import pandas as pd\n",
    "df = pd.read_csv('./file/test1-information.txt', sep=';')\n",
    "df.head()"
   ]
  },
  {
   "attachments": {},
   "cell_type": "markdown",
   "metadata": {},
   "source": [
    "## Streamlit \n",
    "an open-source app framework for Machine Learning and Data Science teams. Create beautiful web apps in minutes.\n",
    "\n",
    "### Display text in title formatting.\n",
    "\n",
    "`st.title(body, anchor=None, *, help=None)`\n",
    "### Write arguments to the app.\n",
    "\n",
    "`st.write(*args, unsafe_allow_html=False, **kwargs)`\n",
    "### Display a dataframe as an interactive table.\n",
    "\n",
    "`st.dataframe(data=None, width=None, height=None, *, use_container_width=False, hide_index=None, column_order=None, column_config=None)`\n",
    "### Display a static table.\n",
    "\n",
    "`st.table(data=None)`\n",
    "### Display a single-line text input widget.\n",
    "\n",
    "`st.text_input(label, value=\"\", max_chars=None, key=None, type=\"default\", help=None, autocomplete=None, on_change=None, args=None, kwargs=None, *, placeholder=None, disabled=False, label_visibility=\"visible\")`\n",
    "### Display a slider widget\n",
    "\n",
    "`st.slider(label, min_value=None, max_value=None, value=None, step=None, format=None, key=None, help=None, on_change=None, args=None, kwargs=None, *, disabled=False, label_visibility=\"visible\")` \n",
    "### Display a select widget.\n",
    "\n",
    "`st.selectbox(label, options, index=0, format_func=special_internal_function, key=None, help=None, on_change=None, args=None, kwargs=None, *, placeholder=\"Choose an option\", disabled=False, label_visibility=\"visible\")`\n",
    "### Display a button widget.\n",
    "\n",
    "`st.button(label, key=None, help=None, on_click=None, args=None, kwargs=None, *, type=\"secondary\", disabled=False, use_container_width=False)`"
   ]
  },
  {
   "cell_type": "code",
   "execution_count": 13,
   "metadata": {},
   "outputs": [
    {
     "name": "stdout",
     "output_type": "stream",
     "text": [
      "\u001b[0m\n",
      "\u001b[34m\u001b[1m  You can now view your Streamlit app in your browser.\u001b[0m\n",
      "\u001b[0m\n",
      "\u001b[34m  Local URL: \u001b[0m\u001b[1mhttp://localhost:8501\u001b[0m\n",
      "\u001b[34m  Network URL: \u001b[0m\u001b[1mhttp://192.168.0.100:8501\u001b[0m\n",
      "\u001b[0m\n",
      "\u001b[34m\u001b[1m  For better performance, install the Watchdog module:\u001b[0m\n",
      "\n",
      "  $ xcode-select --install\n",
      "  $ pip install watchdog\n",
      "            \u001b[0m\n",
      "^C\n",
      "\u001b[34m  Stopping...\u001b[0m\n"
     ]
    }
   ],
   "source": [
    "!python3 -m streamlit run user-streamlit-website.py"
   ]
  },
  {
   "attachments": {},
   "cell_type": "markdown",
   "metadata": {},
   "source": [
    "## Faker Library\n",
    "a Python package that generates fake data for you. \n",
    "\n",
    "Whether you need to bootstrap your database, create good-looking XML documents, \n",
    "\n",
    "fill-in your persistence to stress test it, or anonymize data taken from a production service, Faker is for you."
   ]
  },
  {
   "attachments": {},
   "cell_type": "markdown",
   "metadata": {},
   "source": [
    "Certainly! Here are 10 useful functions provided by the `Faker` library in Python for generating various types of fake data:\n",
    "\n",
    "1. **Name Generation:**\n",
    "   - `fake.name()` - Generate a random full name.\n",
    "   - `fake.first_name()` - Generate a random first name.\n",
    "   - `fake.last_name()` - Generate a random last name.\n",
    "\n",
    "2. **Address Generation:**\n",
    "   - `fake.address()` - Generate a random street address.\n",
    "   - `fake.city()` - Generate a random city name.\n",
    "   - `fake.country()` - Generate a random country name.\n",
    "\n",
    "3. **Text and Sentences:**\n",
    "   - `fake.text(max_nb_chars=200)` - Generate a random block of text.\n",
    "   - `fake.sentence()` - Generate a random sentence.\n",
    "\n",
    "4. **Numbers:**\n",
    "   - `fake.random_number(digits=5)` - Generate a random integer with a specified number of digits.\n",
    "   - `fake.random_int(min=0, max=100, step=1)` - Generate a random integer within a range.\n",
    "\n",
    "5. **Dates:**\n",
    "   - `fake.date_of_birth(minimum_age=18, maximum_age=65)` - Generate a random date of birth.\n",
    "   - `fake.date_this_century()` - Generate a random date within the current century.\n",
    "\n",
    "6. **Company Information:**\n",
    "   - `fake.company()` - Generate a random company name.\n",
    "   - `fake.catch_phrase()` - Generate a random company catchphrase.\n",
    "\n",
    "7. **Email and Internet Information:**\n",
    "   - `fake.email()` - Generate a random email address.\n",
    "   - `fake.url()` - Generate a random URL.\n",
    "\n",
    "8. **Usernames and User Profiles:**\n",
    "   - `fake.user_name()` - Generate a random username.\n",
    "   - `fake.user_agent()` - Generate a random user agent string.\n",
    "\n",
    "9. **Phone Numbers:**\n",
    "   - `fake.phone_number()` - Generate a random phone number.\n",
    "   - `fake.cellphone_number()` - Generate a random cellphone number.\n",
    "\n",
    "10. **Miscellaneous:**\n",
    "    - `fake.word(ext_word_list=[\"word1\", \"word2\"])` - Generate a random word from a custom word list.\n",
    "    - `fake.random_element(elements=[\"item1\", \"item2\"])` - Choose a random element from a list of provided elements.\n",
    "    - `fake.passport_number()` - Generate a passport number.\n",
    "\n",
    "These functions cover a wide range of data types and can be very useful for generating fake data for testing, development, and other purposes."
   ]
  },
  {
   "cell_type": "code",
   "execution_count": 23,
   "metadata": {},
   "outputs": [],
   "source": [
    "from faker import Faker\n",
    "\n",
    "fake = Faker()"
   ]
  },
  {
   "cell_type": "code",
   "execution_count": 17,
   "metadata": {},
   "outputs": [
    {
     "name": "stdout",
     "output_type": "stream",
     "text": [
      "Text data has been generated and saved to 'fake_test.txt'.\n"
     ]
    }
   ],
   "source": [
    "# Create or open a text file for writing\n",
    "with open(\"./file/fake_test.txt\", \"w\") as f:\n",
    "    # Generate and write 1000 sentences\n",
    "    for _ in range(1000):\n",
    "        sentence = fake.sentence()\n",
    "        f.write(sentence + \"\\n\")\n",
    "\n",
    "print(\"Text data has been generated and saved to 'fake_test.txt'.\")"
   ]
  },
  {
   "attachments": {},
   "cell_type": "markdown",
   "metadata": {},
   "source": [
    "## Test 2 : Immigration Bureau\n",
    "Generating fake users information which contain `name, surname, passport number`."
   ]
  },
  {
   "cell_type": "code",
   "execution_count": 33,
   "metadata": {},
   "outputs": [],
   "source": [
    "from faker import Faker\n",
    "\n",
    "fake = Faker()\n",
    "\n",
    "with open('./file/traveler_data.txt', mode='w+') as f:\n",
    "    f.write('Name;Surname;Passport Number;Date of Birth\\n')\n",
    "    data_lines = []\n",
    "    \n",
    "    for _ in range(1000):\n",
    "        user = fake.name().split()\n",
    "        name = fake.first_name()\n",
    "        sur = fake.last_name()\n",
    "        pn = fake.unique.random_number(digits=9)\n",
    "        dob = fake.date_of_birth(minimum_age=18, maximum_age=70).strftime(\"%Y-%m-%d\")\n",
    "        #arrange format \n",
    "        data_line = f'{name};{sur};{pn};{dob}\\n'\n",
    "        data_lines.append(data_line)\n",
    "    \n",
    "    f.writelines(data_lines)"
   ]
  },
  {
   "cell_type": "code",
   "execution_count": 11,
   "metadata": {},
   "outputs": [
    {
     "data": {
      "text/html": [
       "<div>\n",
       "<style scoped>\n",
       "    .dataframe tbody tr th:only-of-type {\n",
       "        vertical-align: middle;\n",
       "    }\n",
       "\n",
       "    .dataframe tbody tr th {\n",
       "        vertical-align: top;\n",
       "    }\n",
       "\n",
       "    .dataframe thead th {\n",
       "        text-align: right;\n",
       "    }\n",
       "</style>\n",
       "<table border=\"1\" class=\"dataframe\">\n",
       "  <thead>\n",
       "    <tr style=\"text-align: right;\">\n",
       "      <th></th>\n",
       "      <th>Name</th>\n",
       "      <th>Surname</th>\n",
       "      <th>Passport Number</th>\n",
       "      <th>Date of Birth</th>\n",
       "    </tr>\n",
       "  </thead>\n",
       "  <tbody>\n",
       "    <tr>\n",
       "      <th>0</th>\n",
       "      <td>Kayla</td>\n",
       "      <td>Adams</td>\n",
       "      <td>603575426</td>\n",
       "      <td>1952-10-25</td>\n",
       "    </tr>\n",
       "    <tr>\n",
       "      <th>1</th>\n",
       "      <td>Brianna</td>\n",
       "      <td>Molina</td>\n",
       "      <td>628644082</td>\n",
       "      <td>1996-07-09</td>\n",
       "    </tr>\n",
       "    <tr>\n",
       "      <th>2</th>\n",
       "      <td>Tina</td>\n",
       "      <td>Garcia</td>\n",
       "      <td>190714369</td>\n",
       "      <td>2000-01-28</td>\n",
       "    </tr>\n",
       "    <tr>\n",
       "      <th>3</th>\n",
       "      <td>Laura</td>\n",
       "      <td>Patterson</td>\n",
       "      <td>484746649</td>\n",
       "      <td>1985-02-28</td>\n",
       "    </tr>\n",
       "    <tr>\n",
       "      <th>4</th>\n",
       "      <td>Wendy</td>\n",
       "      <td>Harrington</td>\n",
       "      <td>752732375</td>\n",
       "      <td>1957-03-08</td>\n",
       "    </tr>\n",
       "  </tbody>\n",
       "</table>\n",
       "</div>"
      ],
      "text/plain": [
       "      Name     Surname  Passport Number Date of Birth\n",
       "0    Kayla       Adams        603575426    1952-10-25\n",
       "1  Brianna      Molina        628644082    1996-07-09\n",
       "2     Tina      Garcia        190714369    2000-01-28\n",
       "3    Laura   Patterson        484746649    1985-02-28\n",
       "4    Wendy  Harrington        752732375    1957-03-08"
      ]
     },
     "execution_count": 11,
     "metadata": {},
     "output_type": "execute_result"
    }
   ],
   "source": [
    "# !pip install pandas \n",
    "import pandas as pd\n",
    "df = pd.read_csv('./file/traveler_data.txt', sep=';')\n",
    "df.head()"
   ]
  },
  {
   "cell_type": "code",
   "execution_count": 10,
   "metadata": {},
   "outputs": [],
   "source": [
    "from faker import Faker\n",
    "\n",
    "# Create a Faker instance\n",
    "fake = Faker()\n",
    "# Create a header for the immigration data\n",
    "header = \"Full Name;Passport Number;Date of Birth;Nationality;Visa Type;Arrival Date;Departure Date;Immigration Status\\n\"\n",
    "# Generate fake information for 1000 immigration records\n",
    "immigration_data = []\n",
    "\n",
    "for _ in range(1000):\n",
    "    row = [\n",
    "        fake.name(),\n",
    "        str(fake.unique.random_number(digits=9)),  # Convert to string\n",
    "        fake.date_of_birth(minimum_age=18, maximum_age=70).strftime(\"%Y-%m-%d\"),\n",
    "        fake.country(),\n",
    "        fake.word(ext_word_list=[\"Tourist\", \"Student\", \"Work\", \"Diplomatic\"]),\n",
    "        fake.date_this_century().strftime(\"%Y-%m-%d\"),\n",
    "        fake.date_this_century().strftime(\"%Y-%m-%d\"),\n",
    "        fake.random_element(elements=[\"Valid\", \"Expired\", \"Pending\"])\n",
    "    ]\n",
    "    immigration_data.append(\";\".join(row) + \"\\n\")  # Add '\\n' to the end of each row\n",
    "\n",
    "# Combine the header and data\n",
    "immigration_data.insert(0, header)\n",
    "# Save the data to a text file\n",
    "with open(\"./file/immigration_data.txt\", \"w\") as file:\n",
    "    file.writelines(immigration_data)"
   ]
  },
  {
   "cell_type": "code",
   "execution_count": 11,
   "metadata": {},
   "outputs": [
    {
     "data": {
      "text/html": [
       "<div>\n",
       "<style scoped>\n",
       "    .dataframe tbody tr th:only-of-type {\n",
       "        vertical-align: middle;\n",
       "    }\n",
       "\n",
       "    .dataframe tbody tr th {\n",
       "        vertical-align: top;\n",
       "    }\n",
       "\n",
       "    .dataframe thead th {\n",
       "        text-align: right;\n",
       "    }\n",
       "</style>\n",
       "<table border=\"1\" class=\"dataframe\">\n",
       "  <thead>\n",
       "    <tr style=\"text-align: right;\">\n",
       "      <th></th>\n",
       "      <th>Full Name</th>\n",
       "      <th>Passport Number</th>\n",
       "      <th>Date of Birth</th>\n",
       "      <th>Nationality</th>\n",
       "      <th>Visa Type</th>\n",
       "      <th>Arrival Date</th>\n",
       "      <th>Departure Date</th>\n",
       "      <th>Immigration Status</th>\n",
       "    </tr>\n",
       "  </thead>\n",
       "  <tbody>\n",
       "    <tr>\n",
       "      <th>0</th>\n",
       "      <td>Joshua Allen</td>\n",
       "      <td>710308912</td>\n",
       "      <td>1961-07-15</td>\n",
       "      <td>Korea</td>\n",
       "      <td>Tourist</td>\n",
       "      <td>2012-06-14</td>\n",
       "      <td>2001-05-06</td>\n",
       "      <td>Expired</td>\n",
       "    </tr>\n",
       "    <tr>\n",
       "      <th>1</th>\n",
       "      <td>Julian Gregory</td>\n",
       "      <td>548681454</td>\n",
       "      <td>1968-08-18</td>\n",
       "      <td>Uzbekistan</td>\n",
       "      <td>Diplomatic</td>\n",
       "      <td>2021-11-19</td>\n",
       "      <td>2017-09-28</td>\n",
       "      <td>Expired</td>\n",
       "    </tr>\n",
       "    <tr>\n",
       "      <th>2</th>\n",
       "      <td>Jessica Guzman</td>\n",
       "      <td>382552715</td>\n",
       "      <td>1952-11-21</td>\n",
       "      <td>Ireland</td>\n",
       "      <td>Tourist</td>\n",
       "      <td>2009-04-18</td>\n",
       "      <td>2010-04-14</td>\n",
       "      <td>Expired</td>\n",
       "    </tr>\n",
       "    <tr>\n",
       "      <th>3</th>\n",
       "      <td>Scott Mccarthy</td>\n",
       "      <td>892034665</td>\n",
       "      <td>1999-12-07</td>\n",
       "      <td>Guernsey</td>\n",
       "      <td>Diplomatic</td>\n",
       "      <td>2019-07-04</td>\n",
       "      <td>2020-04-21</td>\n",
       "      <td>Pending</td>\n",
       "    </tr>\n",
       "    <tr>\n",
       "      <th>4</th>\n",
       "      <td>Ryan Howard</td>\n",
       "      <td>936811248</td>\n",
       "      <td>1960-08-21</td>\n",
       "      <td>Czech Republic</td>\n",
       "      <td>Diplomatic</td>\n",
       "      <td>2003-11-26</td>\n",
       "      <td>2001-09-03</td>\n",
       "      <td>Pending</td>\n",
       "    </tr>\n",
       "  </tbody>\n",
       "</table>\n",
       "</div>"
      ],
      "text/plain": [
       "        Full Name  Passport Number Date of Birth     Nationality   Visa Type  \\\n",
       "0    Joshua Allen        710308912    1961-07-15           Korea     Tourist   \n",
       "1  Julian Gregory        548681454    1968-08-18      Uzbekistan  Diplomatic   \n",
       "2  Jessica Guzman        382552715    1952-11-21         Ireland     Tourist   \n",
       "3  Scott Mccarthy        892034665    1999-12-07        Guernsey  Diplomatic   \n",
       "4     Ryan Howard        936811248    1960-08-21  Czech Republic  Diplomatic   \n",
       "\n",
       "  Arrival Date Departure Date Immigration Status  \n",
       "0   2012-06-14     2001-05-06            Expired  \n",
       "1   2021-11-19     2017-09-28            Expired  \n",
       "2   2009-04-18     2010-04-14            Expired  \n",
       "3   2019-07-04     2020-04-21            Pending  \n",
       "4   2003-11-26     2001-09-03            Pending  "
      ]
     },
     "execution_count": 11,
     "metadata": {},
     "output_type": "execute_result"
    }
   ],
   "source": [
    "# !pip install pandas \n",
    "import pandas as pd\n",
    "df = pd.read_csv('./file/immigration_data.txt', sep=';')\n",
    "df.head()"
   ]
  },
  {
   "attachments": {},
   "cell_type": "markdown",
   "metadata": {},
   "source": [
    "# OS (operating system) Module\n",
    "\n",
    "Consider Current Working Directory (cwd) as a folder, where the Python is operating. \n",
    "\n",
    "Whenever the files are called only by their name, Python assumes that it starts in the CWD which means that name-only reference will be successful only if the file is in the Python’s CWD. \n",
    "\n",
    "`Note: The folder where the Python script is running is known as the Current Directory. This is not the path where the Python script is located.`"
   ]
  },
  {
   "attachments": {},
   "cell_type": "markdown",
   "metadata": {},
   "source": [
    "## Current Working Directory"
   ]
  },
  {
   "cell_type": "code",
   "execution_count": 2,
   "metadata": {},
   "outputs": [
    {
     "name": "stdout",
     "output_type": "stream",
     "text": [
      "Current working directory: /Users/guntsv/Documents/GitHub/Kiddeelab/general-python-1/lecture\n"
     ]
    }
   ],
   "source": [
    "# importing os module \n",
    "import os \n",
    "# Get the current working : directory (CWD) \n",
    "cwd = os.getcwd() \n",
    "# Print the current working : directory (CWD) \n",
    "print(\"Current working directory:\", cwd) "
   ]
  },
  {
   "cell_type": "code",
   "execution_count": 7,
   "metadata": {},
   "outputs": [
    {
     "name": "stdout",
     "output_type": "stream",
     "text": [
      "Current working directory before\n",
      "/Users/guntsv/Documents\n",
      "\n",
      "Current working directory before\n",
      "/Users/guntsv\n",
      "\n"
     ]
    }
   ],
   "source": [
    "import os \n",
    "# Function to Get the current  \n",
    "# working directory \n",
    "def current_path(): \n",
    "    print(\"Current working directory before\") \n",
    "    print(os.getcwd()) \n",
    "    print() \n",
    "    \n",
    "# Driver's code \n",
    "# Printing CWD before \n",
    "current_path() \n",
    "    \n",
    "# Changing the CWD \n",
    "os.chdir('../') \n",
    "    \n",
    "# Printing CWD after \n",
    "current_path() "
   ]
  },
  {
   "attachments": {},
   "cell_type": "markdown",
   "metadata": {},
   "source": [
    "## Creating a Directory\n",
    "\n",
    "`os.mkdir()` method in Python is used to create a directory named path with the specified numeric mode. This method raises FileExistsError if the directory to be created already exists.\n",
    "\n",
    "`os.makedirs()` method in Python is used to create a directory recursively. That means while making leaf directory if any intermediate-level directory is missing, os.makedirs() method will create them all.\n"
   ]
  },
  {
   "cell_type": "code",
   "execution_count": 20,
   "metadata": {},
   "outputs": [],
   "source": [
    "import os \n",
    "# Directory \n",
    "directory = \"KiddeeLabPython2_1\"\n",
    "# Parent Directory path \n",
    "parent_dir = \"../GeneralPython2/\"\n",
    "# Path \n",
    "path = os.path.join(parent_dir, directory) \n",
    "print(path)\n",
    "# Create the directory \n",
    "# 'KiddeeLabPython2' in \n",
    "# 'C:/Users/Guntsv/Documents/GitHub/Kiddeelab/GeneralPython2/' \n",
    "os.mkdir(path) \n",
    "print(\"Directory '% s' created\" % directory) "
   ]
  },
  {
   "cell_type": "code",
   "execution_count": null,
   "metadata": {},
   "outputs": [],
   "source": [
    "# importing os module \n",
    "import os \n",
    "      \n",
    "# Leaf directory \n",
    "directory = \"KiddeeLabPython2_2\"\n",
    "      \n",
    "# Parent Directories \n",
    "parent_dir = \"../GeneralPython2/\"\n",
    "      \n",
    "# Path \n",
    "path = os.path.join(parent_dir, directory) \n",
    "print(path)\n",
    "\n",
    "# Create the directory \n",
    "# 'KiddeeLabPython2' \n",
    "os.makedirs(path) \n",
    "print(\"Directory '% s' created\" % directory) "
   ]
  },
  {
   "attachments": {},
   "cell_type": "markdown",
   "metadata": {},
   "source": [
    "## Listing out Files and Directories with Python"
   ]
  },
  {
   "cell_type": "code",
   "execution_count": 1,
   "metadata": {},
   "outputs": [
    {
     "name": "stdout",
     "output_type": "stream",
     "text": [
      "Files and directories in ' ./ ' :\n",
      "['6-Tkinter.py', '7-Try-except-Path-Read-Write.ipynb', 'traveler_data.txt', 'file', '6-Tkinter.ipynb', '.streamlit', '9-Pandas.ipynb', '4-method-while-for-if.ipynb', '3-class-Inheritance.ipynb', '8-Numpy.ipynb', '5-casestudy-1.ipynb', 'user-streamlit-website.py', '2-argument-lambda.ipynb', 'fake_test.txt', 'immigration-bureau-alert.py', 'draft.ipynb', 'immigration_data.txt', '1-datatyoe-operation.ipynb']\n"
     ]
    }
   ],
   "source": [
    "# importing os module \n",
    "import os \n",
    "  \n",
    "# Get the list of all files and directories \n",
    "# in the root directory \n",
    "path = \"./\"\n",
    "dir_list = os.listdir(path) \n",
    "  \n",
    "print(\"Files and directories in '\", path, \"' :\") \n",
    "# print the list \n",
    "print(dir_list) "
   ]
  },
  {
   "attachments": {},
   "cell_type": "markdown",
   "metadata": {},
   "source": [
    "## Common pathname manipulations\n",
    "`os.path.exist(path)` Return True if path refers to an *existing path* or an open file descriptor otherwise False.\n",
    "\n",
    "`os.path.isfile(path)` Return True if path is an *existing regular file* otherwise False."
   ]
  },
  {
   "cell_type": "code",
   "execution_count": 3,
   "metadata": {},
   "outputs": [
    {
     "data": {
      "text/plain": [
       "True"
      ]
     },
     "execution_count": 3,
     "metadata": {},
     "output_type": "execute_result"
    }
   ],
   "source": [
    "path = \"./file\"\n",
    "os.path.exists(path)"
   ]
  },
  {
   "cell_type": "code",
   "execution_count": 4,
   "metadata": {},
   "outputs": [
    {
     "data": {
      "text/plain": [
       "True"
      ]
     },
     "execution_count": 4,
     "metadata": {},
     "output_type": "execute_result"
    }
   ],
   "source": [
    "path = \"./file/Example6_1.txt\"\n",
    "os.path.isfile(path)"
   ]
  },
  {
   "attachments": {},
   "cell_type": "markdown",
   "metadata": {},
   "source": [
    "## Case Study 1 : Streamlit Deployment\n",
    "- you are employed at the Immigration Bureau, responsible for inspecting travelers entering your country.\n",
    "- Using text file generating fake data as your database\n",
    "- create strealit UI to text_input for only travelers and button to submit\n",
    "- it have to information as table"
   ]
  },
  {
   "cell_type": "code",
   "execution_count": 17,
   "metadata": {},
   "outputs": [
    {
     "name": "stdout",
     "output_type": "stream",
     "text": [
      "\u001b[0m\n",
      "\u001b[34m\u001b[1m  You can now view your Streamlit app in your browser.\u001b[0m\n",
      "\u001b[0m\n",
      "\u001b[34m  Local URL: \u001b[0m\u001b[1mhttp://localhost:8501\u001b[0m\n",
      "\u001b[34m  Network URL: \u001b[0m\u001b[1mhttp://192.168.2.42:8501\u001b[0m\n",
      "\u001b[0m\n",
      "\u001b[34m\u001b[1m  For better performance, install the Watchdog module:\u001b[0m\n",
      "\n",
      "  $ xcode-select --install\n",
      "  $ pip install watchdog\n",
      "            \u001b[0m\n",
      "^C\n",
      "\u001b[34m  Stopping...\u001b[0m\n"
     ]
    }
   ],
   "source": [
    "!python3 -m streamlit run immigration-bureau-alert.py"
   ]
  },
  {
   "attachments": {},
   "cell_type": "markdown",
   "metadata": {},
   "source": [
    "# RegEx : Regular Expression\n",
    "\n",
    "a sequence of characters that forms a search pattern.\n",
    "\n",
    "RegEx can be used to check if a string contains the specified search pattern.\n",
    "\n",
    "`import re`\n",
    "\n",
    "The re module offers a set of functions that allows us to search a string for a match:\n",
    "\n",
    "| Function | Description                                                       |\n",
    "|----------|-------------------------------------------------------------------|\n",
    "| findall  | Returns a list containing all matches                             |\n",
    "| search   | Returns a Match object if there is a match anywhere in the string |\n",
    "| split    | Returns a list where the string has been split at each match      |\n",
    "| sub      | Replaces one or many matches with a string                        |"
   ]
  },
  {
   "attachments": {},
   "cell_type": "markdown",
   "metadata": {},
   "source": [
    "## Metacharacters\n",
    "\n",
    "| Character | Description                                                                | Example        |\n",
    "|-----------|----------------------------------------------------------------------------|----------------|\n",
    "| []        | A set of characters                                                        | \"[a-m]\"        |\n",
    "| \\         | Signals a special sequence (can also be used to escape special characters) | \"\\d\"           |\n",
    "| .         | Any character (except newline character)                                   | \"he..o\"        |\n",
    "| ^         | Starts with                                                                | \"^hello\"       |\n",
    "| $         | Ends with                                                                  | \"planet$\"      |\n",
    "| *         | Zero or more occurrences                                                   | \"he.*o\"        |\n",
    "| +         | One or more occurrences                                                    | \"he.+o\"        |\n",
    "| ?         | Zero or one occurrences                                                    | \"he.?o\"        |\n",
    "| {}        | Exactly the specified number of occurrences                                | \"he.{2}o\"      |\n",
    "| \\|        | Either or                                                                  | \"falls\\|stays\" |\n",
    "| ()        | Capture and group                                                          |                |"
   ]
  },
  {
   "attachments": {},
   "cell_type": "markdown",
   "metadata": {},
   "source": [
    "### The search() Function\n",
    "The search() function searches the string for a match, and returns a Match object if there is a match.\n",
    "\n",
    "If there is more than one match, only the first occurrence of the match will be returned:"
   ]
  },
  {
   "cell_type": "code",
   "execution_count": 15,
   "metadata": {},
   "outputs": [
    {
     "data": {
      "text/plain": [
       "<re.Match object; span=(0, 17), match='The rain in Spain'>"
      ]
     },
     "execution_count": 15,
     "metadata": {},
     "output_type": "execute_result"
    }
   ],
   "source": [
    "import re\n",
    "\n",
    "txt = \"The rain in Spain\"\n",
    "x = re.search(\"^The.*Spain$\", txt)\n",
    "x"
   ]
  },
  {
   "cell_type": "code",
   "execution_count": 16,
   "metadata": {},
   "outputs": [
    {
     "name": "stdout",
     "output_type": "stream",
     "text": [
      "The first white-space character is located in position: 3\n"
     ]
    }
   ],
   "source": [
    "import re\n",
    "\n",
    "txt = \"The rain in Spain\"\n",
    "x = re.search(\"\\s\", txt)\n",
    "\n",
    "print(\"The first white-space character is located in position:\", x.start())"
   ]
  },
  {
   "attachments": {},
   "cell_type": "markdown",
   "metadata": {},
   "source": [
    "### The findall() Function\n",
    "The findall() function returns a list containing all matches."
   ]
  },
  {
   "cell_type": "code",
   "execution_count": 17,
   "metadata": {},
   "outputs": [
    {
     "data": {
      "text/plain": [
       "['ai', 'ai']"
      ]
     },
     "execution_count": 17,
     "metadata": {},
     "output_type": "execute_result"
    }
   ],
   "source": [
    "import re\n",
    "\n",
    "#Return a list containing every occurrence of \"ai\":\n",
    "\n",
    "txt = \"The rain in Spain\"\n",
    "x = re.findall(\"ai\", txt)\n",
    "x"
   ]
  },
  {
   "cell_type": "code",
   "execution_count": 18,
   "metadata": {},
   "outputs": [
    {
     "data": {
      "text/plain": [
       "[]"
      ]
     },
     "execution_count": 18,
     "metadata": {},
     "output_type": "execute_result"
    }
   ],
   "source": [
    "import re\n",
    "\n",
    "txt = \"The rain in Spain\"\n",
    "x = re.findall(\"Portugal\", txt)\n",
    "x"
   ]
  },
  {
   "attachments": {},
   "cell_type": "markdown",
   "metadata": {},
   "source": [
    "### The split() Function\n",
    "The split() function returns a list where the string has been split at each match:"
   ]
  },
  {
   "cell_type": "code",
   "execution_count": 5,
   "metadata": {},
   "outputs": [
    {
     "name": "stdout",
     "output_type": "stream",
     "text": [
      "['The', 'rain', 'in', 'Spain']\n"
     ]
    }
   ],
   "source": [
    "import re\n",
    "\n",
    "txt = \"The rain in Spain\"\n",
    "x = re.split(\"\\s\", txt) #split white space\n",
    "print(x)"
   ]
  },
  {
   "attachments": {},
   "cell_type": "markdown",
   "metadata": {},
   "source": [
    "### The sub() Function\n",
    "The sub() function replaces the matches with the text of your choice:"
   ]
  },
  {
   "cell_type": "code",
   "execution_count": 6,
   "metadata": {},
   "outputs": [
    {
     "name": "stdout",
     "output_type": "stream",
     "text": [
      "The9rain9in9Spain\n"
     ]
    }
   ],
   "source": [
    "import re\n",
    "\n",
    "txt = \"The rain in Spain\"\n",
    "x = re.sub(\"\\s\", \"9\", txt) #replace white space as 9 number instead\n",
    "print(x)"
   ]
  },
  {
   "attachments": {},
   "cell_type": "markdown",
   "metadata": {},
   "source": [
    "## Special Sequences\n",
    "A special sequence is a \\ followed by one of the characters in the list below, and has a special meaning:\n",
    "\n",
    "| Character | Description                                                                                                                                                                                                 | Example           |\n",
    "|-----------|-------------------------------------------------------------------------------------------------------------------------------------------------------------------------------------------------------------|-------------------|\n",
    "| \\A        | Returns a match if the specified characters are at the beginning of the string                                                                                                                              | \"\\AThe\"           |\n",
    "| \\b        | Returns a match where the specified characters are at the beginning or at the end of a word (the \"r\" in the beginning is making sure that the string is being treated as a \"raw string\")                    | r\"\\bain\" r\"ain\\b\" |\n",
    "| \\B        | Returns a match where the specified characters are present, but NOT at the beginning (or at the end) of a word (the \"r\" in the beginning is making sure that the string is being treated as a \"raw string\") | r\"\\Bain\" r\"ain\\B\" |\n",
    "| \\d        | Returns a match where the string contains digits (numbers from 0-9)                                                                                                                                         | \"\\d\"              |\n",
    "| \\D        | Returns a match where the string DOES NOT contain digits                                                                                                                                                    | \"\\D\"              |\n",
    "| \\s        | Returns a match where the string contains a white space character                                                                                                                                           | \"\\s\"              |\n",
    "| \\S        | Returns a match where the string DOES NOT contain a white space character                                                                                                                                   | \"\\S\"              |\n",
    "| \\w        | Returns a match where the string contains any word characters (characters from a to Z, digits from 0-9, and the underscore _ character)                                                                     | \"\\w\"              |\n",
    "| \\W        | Returns a match where the string DOES NOT contain any word characters                                                                                                                                       | \"\\W\"              |\n",
    "| \\Z        | Returns a match if the specified characters are at the end of the string                                                                                                                                    | \"Spain\\Z\"         |\n",
    "| ()        | Capture and group                                                                                                                                                                                           |                   |\n",
    "\n",
    "## Sets\n",
    "A set is a set of characters inside a pair of square brackets [] with a special meaning:\n",
    "\n",
    "| Set        | Description                                                                                                           |\n",
    "|------------|-----------------------------------------------------------------------------------------------------------------------|\n",
    "| [arn]      | Returns a match where one of the specified characters (a, r, or n) is present                                         |\n",
    "| [a-n]      | Returns a match for any lower case character, alphabetically between a and n                                          |\n",
    "| [^arn]     | Returns a match for any character EXCEPT a, r, and n                                                                  |\n",
    "| [0123]     | Returns a match where any of the specified digits (0, 1, 2, or 3) are present                                         |\n",
    "| [0-9]      | Returns a match for any digit between 0 and 9                                                                         |\n",
    "| [0-5][0-9] | Returns a match for any two-digit numbers from 00 and 59                                                              |\n",
    "| [a-zA-Z]   | Returns a match for any character alphabetically between a and z, lower case OR upper case                            |\n",
    "| [+]        | In sets, +, *, ., \\|, (), $,{} has no special meaning, so [+] means: return a match for any + character in the string |\n",
    "| \\W         | Returns a match where the string DOES NOT contain any word characters                                                 |\n",
    "| \\Z         | Returns a match if the specified characters are at the end of the string                                              |\n",
    "| ()         | Capture and group                                                                                                     |"
   ]
  },
  {
   "cell_type": "code",
   "execution_count": 7,
   "metadata": {},
   "outputs": [
    {
     "name": "stdout",
     "output_type": "stream",
     "text": [
      "Cleaned text: Hello Bonjour How are you\n"
     ]
    }
   ],
   "source": [
    "import re\n",
    "\n",
    "def remove_non_english(text):\n",
    "    english_words = re.findall(r'\\b[a-zA-Z]+\\b', text)\n",
    "    return ' '.join(english_words)\n",
    "\n",
    "text = \"Hello, 你好, Bonjour, How are you?\"\n",
    "cleaned_text = remove_non_english(text)\n",
    "print(\"Cleaned text:\", cleaned_text)"
   ]
  },
  {
   "cell_type": "code",
   "execution_count": 8,
   "metadata": {},
   "outputs": [
    {
     "name": "stdout",
     "output_type": "stream",
     "text": [
      "Hello, my name is Alice.\n"
     ]
    }
   ],
   "source": [
    "import re\n",
    "\n",
    "text = \"Hello, my name is John.\"\n",
    "new_text = re.sub(r\"John\", \"Alice\", text)\n",
    "print(new_text)"
   ]
  },
  {
   "attachments": {},
   "cell_type": "markdown",
   "metadata": {},
   "source": [
    "## Hashing"
   ]
  },
  {
   "cell_type": "code",
   "execution_count": 10,
   "metadata": {},
   "outputs": [
    {
     "data": {
      "text/plain": [
       "b'QPf81Rf7Jq02Vg9mycdxkWMqURBQIMZVfHc8p6mKepM='"
      ]
     },
     "execution_count": 10,
     "metadata": {},
     "output_type": "execute_result"
    }
   ],
   "source": [
    "from cryptography.fernet import Fernet\n",
    "# Put this somewhere safe!\n",
    "key = Fernet.generate_key()\n",
    "f = Fernet(key)\n",
    "key"
   ]
  },
  {
   "cell_type": "code",
   "execution_count": 12,
   "metadata": {},
   "outputs": [
    {
     "data": {
      "text/plain": [
       "b'gAAAAABlUIJgUCFu6veaE0f0pD-0YA3JRCpnPpHTmb_v-WG0y_YZaqLwtdUWeHJrLIW4FDsRj5XnvBu5tYtm0huJjwatWihRKpi82cqdImU-TnDyY3h8do6IGlAcC58ojJBarr5kL5Ls'"
      ]
     },
     "execution_count": 12,
     "metadata": {},
     "output_type": "execute_result"
    }
   ],
   "source": [
    "token = f.encrypt(b\"A really secret message. Not for prying eyes.\")\n",
    "token"
   ]
  },
  {
   "cell_type": "code",
   "execution_count": 13,
   "metadata": {},
   "outputs": [
    {
     "data": {
      "text/plain": [
       "b'A really secret message. Not for prying eyes.'"
      ]
     },
     "execution_count": 13,
     "metadata": {},
     "output_type": "execute_result"
    }
   ],
   "source": [
    "f.decrypt(token)"
   ]
  },
  {
   "cell_type": "code",
   "execution_count": 1,
   "metadata": {},
   "outputs": [],
   "source": [
    "# to get a string like this run:\n",
    "# openssl rand -hex 32\n",
    "SECRET_KEY = \"09d25e094faa6ca2556c818166b7a9563b93f7099f6f0f4caa6cf63b88e8d3e7\"\n",
    "ALGORITHM = \"HS256\"\n",
    "ACCESS_TOKEN_EXPIRE_MINUTES = 30"
   ]
  },
  {
   "cell_type": "code",
   "execution_count": 3,
   "metadata": {},
   "outputs": [
    {
     "ename": "InvalidToken",
     "evalue": "",
     "output_type": "error",
     "traceback": [
      "\u001b[0;31m---------------------------------------------------------------------------\u001b[0m",
      "\u001b[0;31mError\u001b[0m                                     Traceback (most recent call last)",
      "File \u001b[0;32m~/Library/Python/3.9/lib/python/site-packages/cryptography/fernet.py:117\u001b[0m, in \u001b[0;36mFernet._get_unverified_token_data\u001b[0;34m(token)\u001b[0m\n\u001b[1;32m    116\u001b[0m \u001b[39mtry\u001b[39;00m:\n\u001b[0;32m--> 117\u001b[0m     data \u001b[39m=\u001b[39m base64\u001b[39m.\u001b[39;49murlsafe_b64decode(token)\n\u001b[1;32m    118\u001b[0m \u001b[39mexcept\u001b[39;00m (\u001b[39mTypeError\u001b[39;00m, binascii\u001b[39m.\u001b[39mError):\n",
      "File \u001b[0;32m/Library/Developer/CommandLineTools/Library/Frameworks/Python3.framework/Versions/3.9/lib/python3.9/base64.py:133\u001b[0m, in \u001b[0;36murlsafe_b64decode\u001b[0;34m(s)\u001b[0m\n\u001b[1;32m    132\u001b[0m s \u001b[39m=\u001b[39m s\u001b[39m.\u001b[39mtranslate(_urlsafe_decode_translation)\n\u001b[0;32m--> 133\u001b[0m \u001b[39mreturn\u001b[39;00m b64decode(s)\n",
      "File \u001b[0;32m/Library/Developer/CommandLineTools/Library/Frameworks/Python3.framework/Versions/3.9/lib/python3.9/base64.py:87\u001b[0m, in \u001b[0;36mb64decode\u001b[0;34m(s, altchars, validate)\u001b[0m\n\u001b[1;32m     86\u001b[0m     \u001b[39mraise\u001b[39;00m binascii\u001b[39m.\u001b[39mError(\u001b[39m'\u001b[39m\u001b[39mNon-base64 digit found\u001b[39m\u001b[39m'\u001b[39m)\n\u001b[0;32m---> 87\u001b[0m \u001b[39mreturn\u001b[39;00m binascii\u001b[39m.\u001b[39;49ma2b_base64(s)\n",
      "\u001b[0;31mError\u001b[0m: Invalid base64-encoded string: number of data characters (57) cannot be 1 more than a multiple of 4",
      "\nDuring handling of the above exception, another exception occurred:\n",
      "\u001b[0;31mInvalidToken\u001b[0m                              Traceback (most recent call last)",
      "Cell \u001b[0;32mIn[3], line 7\u001b[0m\n\u001b[1;32m      3\u001b[0m f \u001b[39m=\u001b[39m Fernet(key)\n\u001b[1;32m      5\u001b[0m token \u001b[39m=\u001b[39m \u001b[39m\"\u001b[39m\u001b[39m$2b$12$EixZaYVK1fsbw1ZfbX3OXePaWxn96p36WQoeG6Lruj3vjPGga31lW\u001b[39m\u001b[39m\"\u001b[39m\n\u001b[0;32m----> 7\u001b[0m f\u001b[39m.\u001b[39;49mdecrypt(token)\n",
      "File \u001b[0;32m~/Library/Python/3.9/lib/python/site-packages/cryptography/fernet.py:86\u001b[0m, in \u001b[0;36mFernet.decrypt\u001b[0;34m(self, token, ttl)\u001b[0m\n\u001b[1;32m     83\u001b[0m \u001b[39mdef\u001b[39;00m \u001b[39mdecrypt\u001b[39m(\n\u001b[1;32m     84\u001b[0m     \u001b[39mself\u001b[39m, token: typing\u001b[39m.\u001b[39mUnion[\u001b[39mbytes\u001b[39m, \u001b[39mstr\u001b[39m], ttl: typing\u001b[39m.\u001b[39mOptional[\u001b[39mint\u001b[39m] \u001b[39m=\u001b[39m \u001b[39mNone\u001b[39;00m\n\u001b[1;32m     85\u001b[0m ) \u001b[39m-\u001b[39m\u001b[39m>\u001b[39m \u001b[39mbytes\u001b[39m:\n\u001b[0;32m---> 86\u001b[0m     timestamp, data \u001b[39m=\u001b[39m Fernet\u001b[39m.\u001b[39;49m_get_unverified_token_data(token)\n\u001b[1;32m     87\u001b[0m     \u001b[39mif\u001b[39;00m ttl \u001b[39mis\u001b[39;00m \u001b[39mNone\u001b[39;00m:\n\u001b[1;32m     88\u001b[0m         time_info \u001b[39m=\u001b[39m \u001b[39mNone\u001b[39;00m\n",
      "File \u001b[0;32m~/Library/Python/3.9/lib/python/site-packages/cryptography/fernet.py:119\u001b[0m, in \u001b[0;36mFernet._get_unverified_token_data\u001b[0;34m(token)\u001b[0m\n\u001b[1;32m    117\u001b[0m     data \u001b[39m=\u001b[39m base64\u001b[39m.\u001b[39murlsafe_b64decode(token)\n\u001b[1;32m    118\u001b[0m \u001b[39mexcept\u001b[39;00m (\u001b[39mTypeError\u001b[39;00m, binascii\u001b[39m.\u001b[39mError):\n\u001b[0;32m--> 119\u001b[0m     \u001b[39mraise\u001b[39;00m InvalidToken\n\u001b[1;32m    121\u001b[0m \u001b[39mif\u001b[39;00m \u001b[39mnot\u001b[39;00m data \u001b[39mor\u001b[39;00m data[\u001b[39m0\u001b[39m] \u001b[39m!=\u001b[39m \u001b[39m0x80\u001b[39m:\n\u001b[1;32m    122\u001b[0m     \u001b[39mraise\u001b[39;00m InvalidToken\n",
      "\u001b[0;31mInvalidToken\u001b[0m: "
     ]
    }
   ],
   "source": [
    "from cryptography.fernet import Fernet\n",
    "# Put this somewhere safe!\n",
    "f = Fernet(key)\n",
    "\n",
    "token = \"$2b$12$EixZaYVK1fsbw1ZfbX3OXePaWxn96p36WQoeG6Lruj3vjPGga31lW\"\n",
    "\n",
    "f.decrypt(token)"
   ]
  },
  {
   "attachments": {},
   "cell_type": "markdown",
   "metadata": {},
   "source": []
  }
 ],
 "metadata": {
  "kernelspec": {
   "display_name": "Python 3",
   "language": "python",
   "name": "python3"
  },
  "language_info": {
   "codemirror_mode": {
    "name": "ipython",
    "version": 3
   },
   "file_extension": ".py",
   "mimetype": "text/x-python",
   "name": "python",
   "nbconvert_exporter": "python",
   "pygments_lexer": "ipython3",
   "version": "3.9.6"
  },
  "orig_nbformat": 4
 },
 "nbformat": 4,
 "nbformat_minor": 2
}
