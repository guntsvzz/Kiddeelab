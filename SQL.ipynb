{
 "cells": [
  {
   "cell_type": "markdown",
   "metadata": {},
   "source": [
    "# SQL (Structured Query Language)\n",
    "\n",
    "SQL is a standard language for storing, manipulating and retrieving data in databases.\n",
    "\n",
    "SQLite is a software library SQL database engine which provides RDMS (Relational \n",
    "Database Management System)"
   ]
  },
  {
   "cell_type": "markdown",
   "metadata": {},
   "source": [
    "### Some of The Most Important SQL Commands\n",
    "- CREATE TABLE - creates a new table\n",
    "- INSERT INTO - inserts new data into a database\n",
    "- UPDATE - updates data in a database\n",
    "- SELECT - extracts data from a database"
   ]
  },
  {
   "cell_type": "markdown",
   "metadata": {},
   "source": [
    "## Import sqlite3 Module\n",
    "\n",
    "    import sqlite3\n",
    "## Connect to sqlite3\n",
    "\n",
    "    sqlite3.connect\n",
    "\n",
    "    connection.execute(sql)\n",
    "\n",
    "    connection.commit()"
   ]
  },
  {
   "cell_type": "code",
   "execution_count": 1,
   "metadata": {},
   "outputs": [
    {
     "data": {
      "text/plain": [
       "'SELECT * FROM filename;'"
      ]
     },
     "execution_count": 1,
     "metadata": {},
     "output_type": "execute_result"
    }
   ],
   "source": [
    "#Create Table\n",
    "'''\n",
    "CREATE TABLE IF NOT EXISTS FileName\n",
    "(ID INTEGER PRIMARY KEY AUTOINCREMENT,\n",
    "Name TEXT NOT NULL,\n",
    "Gender TEXT NOT NULL,\n",
    "Phone TEXT) \n",
    "'''\n",
    "#Insert Table\n",
    "'''\n",
    "INSERT INTO FileName (ID,Name,Gender,Phone)\n",
    "VALUES (NULL, 'Name', 'Gender', 'Telephone Number'); \n",
    "'''\n",
    "#Update Table\n",
    "'''\n",
    "UPDATE filename set Name = 'New Name'\n",
    "where ID = Desire row;\n",
    "'''\n",
    "#Select Table\n",
    "'''SELECT * FROM filename;'''"
   ]
  },
  {
   "cell_type": "code",
   "execution_count": 3,
   "metadata": {},
   "outputs": [],
   "source": [
    "import sqlite3"
   ]
  },
  {
   "cell_type": "markdown",
   "metadata": {},
   "source": [
    "#### Example10 : Create Table & Add Data to SQL"
   ]
  },
  {
   "cell_type": "code",
   "execution_count": 7,
   "metadata": {},
   "outputs": [],
   "source": [
    "def Create(filename):\n",
    "    try:\n",
    "        connection = sqlite3.connect(filename)\n",
    "        sql = '''CREATE TABLE IF NOT EXISTS Student\n",
    "                (id INTEGER PRIMARY KEY AUTOINCREMENT,\n",
    "                name TEXT NOT NULL,\n",
    "                gender TEXT,\n",
    "                phone TEXT);'''\n",
    "        connection.execute(sql)\n",
    "        connection.commit()\n",
    "        connection.close()\n",
    "    except connection.Error as e:\n",
    "        print(e)\n",
    "    finally:\n",
    "        print('Database has been created')"
   ]
  },
  {
   "cell_type": "code",
   "execution_count": 8,
   "metadata": {},
   "outputs": [
    {
     "name": "stdout",
     "output_type": "stream",
     "text": [
      "Database has been created\n"
     ]
    }
   ],
   "source": [
    "Create('Example10.db')"
   ]
  },
  {
   "cell_type": "code",
   "execution_count": 9,
   "metadata": {},
   "outputs": [],
   "source": [
    "def Add(filename):\n",
    "    try:\n",
    "        connection = sqlite3.connect(filename)\n",
    "        connection.execute(\"INSERT INTO student(id,name,gender,phone) VALUES (NULL,?,?,?)\",\n",
    "                           ('Gun','Male','0846541717'))\n",
    "        sql = '''INSERT INTO student(id,name,gender,phone)\n",
    "                VALUES (NULL,'Sammy','Feale','080843462272');'''\n",
    "        connection.execute(sql)\n",
    "        sql = '''INSERT INTO student(id,name,gender,phone)\n",
    "                VALUES (NULL,'Nott','Male','0842345676');'''\n",
    "        connection.execute(sql)\n",
    "        connection.commit()\n",
    "    except connection.Error as e:\n",
    "        print(e)\n",
    "        connection.close()\n",
    "    finally:\n",
    "        print('Adding has been created')"
   ]
  },
  {
   "cell_type": "code",
   "execution_count": 10,
   "metadata": {},
   "outputs": [
    {
     "name": "stdout",
     "output_type": "stream",
     "text": [
      "Adding has been created\n"
     ]
    }
   ],
   "source": [
    "Add('Example10.db')"
   ]
  },
  {
   "cell_type": "markdown",
   "metadata": {},
   "source": [
    "#### Example11 : Update Data to SQL"
   ]
  },
  {
   "cell_type": "code",
   "execution_count": 20,
   "metadata": {},
   "outputs": [],
   "source": [
    "def UpdateSQL(filename): \n",
    "    try:\n",
    "        connection = sqlite3.connect(filename)\n",
    "        sql = '''UPDATE Student set NAME = 'Ninja' where ID=1;'''\n",
    "        connection.execute(sql)\n",
    "        connection.commit()\n",
    "        print(\"Update at row :\", connection.total_changes)\n",
    "    except connection.Error as e:\n",
    "        print(e)\n",
    "    finally:\n",
    "        connection.close()\n",
    "        print(\"Data Base has added\")"
   ]
  },
  {
   "cell_type": "code",
   "execution_count": 21,
   "metadata": {},
   "outputs": [
    {
     "name": "stdout",
     "output_type": "stream",
     "text": [
      "Update at row : 1\n",
      "Data Base has added\n"
     ]
    }
   ],
   "source": [
    "UpdateSQL('Example10.db')"
   ]
  },
  {
   "cell_type": "markdown",
   "metadata": {},
   "source": [
    "#### Example 12 : Read data from SQL"
   ]
  },
  {
   "cell_type": "code",
   "execution_count": 25,
   "metadata": {},
   "outputs": [
    {
     "name": "stdout",
     "output_type": "stream",
     "text": [
      "(1, 'Ninja', 'Male', '0846541717')\n",
      "(2, 'Sammy', 'Feale', '080843462272')\n",
      "(3, 'Nott', 'Male', '0842345676')\n",
      "Database has read\n"
     ]
    }
   ],
   "source": [
    "import sqlite3\n",
    "\n",
    "try:\n",
    "    connection = sqlite3.connect('Example10.db')\n",
    "    sql = '''SELECT * FROM Student;'''\n",
    "    DataDone = connection.execute(sql)\n",
    "    for row in DataDone:\n",
    "        print(row)\n",
    "except connection.Error as e:\n",
    "    print(e)\n",
    "finally :\n",
    "    print(\"Database has read\")\n",
    "    connection.close()"
   ]
  },
  {
   "cell_type": "markdown",
   "metadata": {},
   "source": [
    "#### optional Pandas"
   ]
  },
  {
   "cell_type": "code",
   "execution_count": 23,
   "metadata": {},
   "outputs": [
    {
     "data": {
      "text/html": [
       "<div>\n",
       "<style scoped>\n",
       "    .dataframe tbody tr th:only-of-type {\n",
       "        vertical-align: middle;\n",
       "    }\n",
       "\n",
       "    .dataframe tbody tr th {\n",
       "        vertical-align: top;\n",
       "    }\n",
       "\n",
       "    .dataframe thead th {\n",
       "        text-align: right;\n",
       "    }\n",
       "</style>\n",
       "<table border=\"1\" class=\"dataframe\">\n",
       "  <thead>\n",
       "    <tr style=\"text-align: right;\">\n",
       "      <th></th>\n",
       "      <th>id</th>\n",
       "      <th>name</th>\n",
       "      <th>gender</th>\n",
       "      <th>phone</th>\n",
       "    </tr>\n",
       "  </thead>\n",
       "  <tbody>\n",
       "    <tr>\n",
       "      <th>0</th>\n",
       "      <td>1</td>\n",
       "      <td>Ninja</td>\n",
       "      <td>Male</td>\n",
       "      <td>0846541717</td>\n",
       "    </tr>\n",
       "    <tr>\n",
       "      <th>1</th>\n",
       "      <td>2</td>\n",
       "      <td>Sammy</td>\n",
       "      <td>Feale</td>\n",
       "      <td>080843462272</td>\n",
       "    </tr>\n",
       "    <tr>\n",
       "      <th>2</th>\n",
       "      <td>3</td>\n",
       "      <td>Nott</td>\n",
       "      <td>Male</td>\n",
       "      <td>0842345676</td>\n",
       "    </tr>\n",
       "  </tbody>\n",
       "</table>\n",
       "</div>"
      ],
      "text/plain": [
       "   id   name gender         phone\n",
       "0   1  Ninja   Male    0846541717\n",
       "1   2  Sammy  Feale  080843462272\n",
       "2   3   Nott   Male    0842345676"
      ]
     },
     "execution_count": 23,
     "metadata": {},
     "output_type": "execute_result"
    }
   ],
   "source": [
    "import pandas as pd\n",
    "def ReadSQL(filename):\n",
    "    connection = sqlite3.connect(filename)\n",
    "    data = pd.read_sql(\"SELECT * from Student\",connection)\n",
    "    return data\n",
    "\n",
    "ReadSQL('Example10.db')"
   ]
  },
  {
   "cell_type": "markdown",
   "metadata": {},
   "source": [
    "#### Test3 : GUI + SQL"
   ]
  },
  {
   "cell_type": "code",
   "execution_count": null,
   "metadata": {},
   "outputs": [],
   "source": [
    "import sqlite3\n",
    "from tkinter import *\n",
    "from tkinter import messagebox\n",
    "def write():\n",
    "    def createdb():\n",
    "        try:\n",
    "            connection = sqlite3.connect('Test3.db')\n",
    "            print('Database has been created')\n",
    "            sql = '''CREATE TABLE IF NOT EXISTS Student\n",
    "                    (id INTEGER PRIMARY KEY AUTOINCREMENT,\n",
    "                    name TEXT NOT NULL,\n",
    "                    gender TEXT,\n",
    "                    phone TEXT\n",
    "                    age TEXT NOT NULL);'''\n",
    "            connection.execute(sql)\n",
    "            connection.commit()\n",
    "            connection.close()\n",
    "        except connection as e:\n",
    "            print(e)\n",
    "\n",
    "    def insertdb():\n",
    "        try:\n",
    "            connection = sqlite3.connect('Test3.db')\n",
    "            print('Database has been added')\n",
    "            connection.execute('INSERT INTO student(name,gender,phone,age) VALUES (?,?,?,?)',\n",
    "                               (fullName.get(), gender.get(), phone.get(),age.get()))\n",
    "            connection.commit()\n",
    "            connection.close()\n",
    "        except connection.Error as e:\n",
    "            print(e)\n",
    "    global fullName, phone, gender\n",
    "    window = Tk()\n",
    "    window.title('Test3')\n",
    "    window.geometry('500x300+500+200')\n",
    "    window.resizable(False, False)\n",
    "    # StringVar\n",
    "    fullName = StringVar()\n",
    "    phone = StringVar()\n",
    "    gender = StringVar()\n",
    "    age = StringVar()\n",
    "    gender.set(0)\n",
    "    # Name\n",
    "    NameLabel = Label(window, text='First Name')  # label\n",
    "    NameLabel.place(x=80, y=40)\n",
    "    NameEntry = Entry(window, textvariable=fullName, width=30)  # entry\n",
    "    NameEntry.place(x=220, y=40)\n",
    "    # Gender\n",
    "    GenderLabel = Label(window, text='Gender')  # label\n",
    "    GenderLabel.place(x=80, y=80)\n",
    "    GenderButton = Radiobutton(window, text='Male', variable=gender, value='Male')  # radio male\n",
    "    GenderButton.place(x=220, y=80)\n",
    "    GenderButton = Radiobutton(window, text='Female', variable=gender, value='Female')  # radio female\n",
    "    GenderButton.place(x=300, y=80)\n",
    "    # Phone\n",
    "    PhoneLabel = Label(window, text='Phone Number')  # label\n",
    "    PhoneLabel.place(x=80, y=120)\n",
    "    PhoneEntry = Entry(window, textvariable=phone, width=30)  # entry\n",
    "    PhoneEntry.place(x=220, y=120)\n",
    "\n",
    "    #Age\n",
    "    AgeLabel = Label(window, text='Age')  # label\n",
    "    AgeLabel.place(x=80, y=160)\n",
    "    AgeEntry = Entry(window, textvariable=age, width=30)  # entry\n",
    "    AgeEntry.place(x=220, y=160)\n",
    "    # Confirm\n",
    "    ConfirmButton = Button(window, text='Confirm to Database', width=15,\n",
    "                           height=3, bg='brown', fg='white', command=insertdb)\n",
    "    ConfirmButton.place(x=250, y=220, anchor='center')\n",
    "    window.mainloop()\n",
    "    createdb()\n",
    "\n",
    "# write()\n"
   ]
  },
  {
   "cell_type": "markdown",
   "metadata": {},
   "source": [
    "#### Test4 : GUI + SQL"
   ]
  },
  {
   "cell_type": "code",
   "execution_count": null,
   "metadata": {},
   "outputs": [],
   "source": [
    "from tkinter import *\n",
    "from tkinter import messagebox\n",
    "import sqlite3\n",
    "import Test5\n",
    "def read():\n",
    "    def readdata():\n",
    "        try:\n",
    "            conn = sqlite3.connect('Test3.db')\n",
    "            list = conn.execute(\"SELECT * FROM Student WHERE id = ?\",(Var1.get()))\n",
    "            for column in list:\n",
    "                Var2.set(column[0])\n",
    "                Var3.set(column[1])\n",
    "                Var4.set(column[2])\n",
    "                Var5.set(column[3])\n",
    "            Etn1.delete(0, 'end')\n",
    "            conn.close()\n",
    "        except conn.Error as e:\n",
    "            print(e)\n",
    "\n",
    "    window = Tk()\n",
    "    window.title('Test4')\n",
    "    window.geometry('500x300+500+200')\n",
    "    window.resizable(False, False)\n",
    "    # StringVarFunction\n",
    "    Var1 = StringVar()\n",
    "    Var2 = StringVar()\n",
    "    Var3 = StringVar()\n",
    "    Var4 = StringVar()\n",
    "    Var5 = StringVar()\n",
    "    #FramePart\n",
    "    F1 = Frame(window,width=500,height=250,bg='orange')\n",
    "    F1.pack()\n",
    "    F2 = Frame(window,width=500,height=50,bg='gold')\n",
    "    F2.pack()\n",
    "    #LabelPart\n",
    "    idinsert = Label(F1,text='Insert ID: :',font=(None,20),bg='orange')\n",
    "    idinsert.place(x=120,y=20,anchor='w')\n",
    "    id = Label(F1,text='ID :',font=(None,20),bg='orange')\n",
    "    id.place(x=120,y=70,anchor='w')\n",
    "    name = Label(F1,text='Name :',font=(None,20),bg='orange')\n",
    "    name.place(x=120,y=120,anchor='w')\n",
    "    gender = Label(F1,text='Gender :',font=(None,20),bg='orange')\n",
    "    gender.place(x=120,y=170,anchor='w')\n",
    "    age = Label(F1, text='Age:', font=(None, 20), bg='orange')\n",
    "    age.place(x=120, y=220, anchor='w')\n",
    "    #EntryPart\n",
    "    Etn1 = Entry(F1,textvariable=Var1)\n",
    "    Etn1.place(x=300,y=20,anchor='center')\n",
    "    Etn2 = Entry(F1,textvariable=Var2,state=DISABLED)\n",
    "    Etn2.place(x=300,y=70,anchor='center')\n",
    "    Etn3 = Entry(F1,textvariable=Var3,state=DISABLED)\n",
    "    Etn3.place(x=300,y=120,anchor='center')\n",
    "    Etn4 = Entry(F1,textvariable=Var4,state=DISABLED)\n",
    "    Etn4.place(x=300,y=170,anchor='center')\n",
    "    Etn5 = Entry(F1, textvariable=Var5, state=DISABLED)\n",
    "    Etn5.place(x=300, y=220, anchor='center')\n",
    "    #ButtonPart\n",
    "    Read = Button(F2,text='Read Database',width=20,height=2,command=readdata)\n",
    "    Read.place(x=150,y=25,anchor='center')\n",
    "    Next = Button(F2, text='Next to Update data', width=20, height=2, command=Test5.updatedata)\n",
    "    Next.place(x=350, y=25, anchor='center')\n",
    "    #For Pycharm\n",
    "    window.mainloop()\n",
    "    \n",
    "# read()"
   ]
  },
  {
   "cell_type": "markdown",
   "metadata": {},
   "source": [
    "#### Case Study III : GUI Insert & Read SQL \n",
    "\n",
    "- Test3 + Test4"
   ]
  },
  {
   "cell_type": "code",
   "execution_count": 30,
   "metadata": {},
   "outputs": [],
   "source": [
    "from tkinter import *\n",
    "# import Test3\n",
    "# import Test4\n",
    "\n",
    "def Main():\n",
    "    def Quit():\n",
    "        window.destroy()\n",
    "        print('Window has been exited')\n",
    "    global window, KDL\n",
    "    window = Tk()\n",
    "    window.geometry('500x300+500+200')\n",
    "    window.title('Screen1 with Case Study2')\n",
    "    window.resizable(False,False)\n",
    "    #Frame1\n",
    "    Frame1 = Frame(window, width=250, height=300, bg = 'black')\n",
    "    Frame1.pack(side = LEFT)\n",
    "    # KDL = PhotoImage(file='Kiddee300.gif')\n",
    "    # CV = Canvas(Frame1,width=250, height=300)\n",
    "    # CV.create_image(125,150,anchor = 'c', image = KDL)\n",
    "    # CV.pack()\n",
    "    #Frame2\n",
    "    Frame2 = Frame(window, width=250, height=300, bg = 'royalblue4')\n",
    "    Frame2.pack(side = RIGHT)\n",
    "    WriteButton = Button(Frame2, text = 'Writing',width = 15,\n",
    "                         height = 3 ,bg = 'forestgreen',fg = 'white',command = Test3.write)\n",
    "    WriteButton.place(x=125,y=70, anchor = 'c')\n",
    "    ReadButton = Button(Frame2, text = 'Read',width = 15,\n",
    "                         height = 3 ,bg = 'deepskyblue',fg = 'white',command = Test4.read)\n",
    "    ReadButton.place(x=125,y=150, anchor = 'c')\n",
    "    QuitButton = Button(Frame2, text = 'Exit',width = 15,\n",
    "                         height = 3 ,bg = 'red3',fg = 'white',command = Quit)\n",
    "    QuitButton.place(x=125,y=230, anchor = 'c')\n",
    "    window.mainloop()\n",
    "\n",
    "#Calling Main\n",
    "Main()\n"
   ]
  },
  {
   "cell_type": "code",
   "execution_count": null,
   "metadata": {},
   "outputs": [],
   "source": []
  }
 ],
 "metadata": {
  "kernelspec": {
   "display_name": "Python 3.10.4 64-bit",
   "language": "python",
   "name": "python3"
  },
  "language_info": {
   "codemirror_mode": {
    "name": "ipython",
    "version": 3
   },
   "file_extension": ".py",
   "mimetype": "text/x-python",
   "name": "python",
   "nbconvert_exporter": "python",
   "pygments_lexer": "ipython3",
   "version": "3.10.4"
  },
  "orig_nbformat": 4,
  "vscode": {
   "interpreter": {
    "hash": "c81d839d3c4227cd770621df97fe8191838af02e7eef185a922d8250cb33d344"
   }
  }
 },
 "nbformat": 4,
 "nbformat_minor": 2
}
