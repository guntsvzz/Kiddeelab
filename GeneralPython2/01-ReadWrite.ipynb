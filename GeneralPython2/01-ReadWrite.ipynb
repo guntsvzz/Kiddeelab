{
 "cells": [
  {
   "attachments": {},
   "cell_type": "markdown",
   "metadata": {},
   "source": [
    "# File Handling\n",
    "\n",
    "mode selection\n",
    "\n",
    "\"r\" - Read - Default value. Opens a file for reading, error if the file does not exist\n",
    "\n",
    "\"a\" - Append - Opens a file for appending, creates the file if it does not exist\n",
    "\n",
    "\"w\" - Write - Opens a file for writing, creates the file if it does not exist\n",
    "\n",
    "\"x\" - Create - Creates the specified file, returns an error if the file exists\n",
    "\n",
    "\"t\" - Text - Default value. Text mode\n",
    "\n",
    "\"b\" - Binary - Binary mode (e.g. images)"
   ]
  },
  {
   "attachments": {},
   "cell_type": "markdown",
   "metadata": {},
   "source": [
    "- The open() function returns a file object. \n",
    "- The close() function is to close the opened file.\n",
    "\n",
    "`Format : open(\"filename.txt\",mode=\"mode_selection\")`"
   ]
  },
  {
   "attachments": {},
   "cell_type": "markdown",
   "metadata": {},
   "source": [
    "## 1. Write & Append\n",
    "\n",
    "Method \n",
    "1. `write()` - write a string to the file \n",
    "2. `writelines()` - write a list of string to the file"
   ]
  },
  {
   "attachments": {},
   "cell_type": "markdown",
   "metadata": {},
   "source": [
    "### 1.1. Write Mode"
   ]
  },
  {
   "cell_type": "code",
   "execution_count": 57,
   "metadata": {},
   "outputs": [
    {
     "name": "stdout",
     "output_type": "stream",
     "text": [
      "File has been rewrited\n"
     ]
    }
   ],
   "source": [
    "#Write\n",
    "try:\n",
    "    file = open('./file/Example6_1.txt',mode='w')\n",
    "    file.write('One\\n')\n",
    "    file.write('Two\\n')\n",
    "    file.write('Three\\n')\n",
    "    file.write('Four\\n')\n",
    "    file.write('Five\\n')\n",
    "    # file.close()\n",
    "except IOError as e:\n",
    "    print(e)\n",
    "finally:\n",
    "    file.close()\n",
    "    print('File has been rewrited')"
   ]
  },
  {
   "cell_type": "code",
   "execution_count": 3,
   "metadata": {},
   "outputs": [
    {
     "name": "stdout",
     "output_type": "stream",
     "text": [
      "File has been rewrited\n"
     ]
    }
   ],
   "source": [
    "#Writelines\n",
    "try:\n",
    "    file = open('./file/Example6_2.txt',mode='w')\n",
    "    file.writelines(['One\\n','Two\\n','Three\\n','Four\\n','Five\\n'])\n",
    "    file.close()\n",
    "except IOError as e:\n",
    "    print(e)\n",
    "finally:\n",
    "    file.close()\n",
    "    print('File has been rewrited')"
   ]
  },
  {
   "attachments": {},
   "cell_type": "markdown",
   "metadata": {},
   "source": [
    "### 1.2 Append Mode"
   ]
  },
  {
   "cell_type": "code",
   "execution_count": 56,
   "metadata": {},
   "outputs": [
    {
     "name": "stdout",
     "output_type": "stream",
     "text": [
      "File has been appended\n"
     ]
    }
   ],
   "source": [
    "#Append\n",
    "try:\n",
    "    file = open('./file/Example6_1.txt',mode='a')\n",
    "    file.write('1\\n')\n",
    "    file.write('2\\n')\n",
    "    file.write('3\\n')\n",
    "    file.write('4\\n')\n",
    "    file.write('5\\n')\n",
    "    file.close()\n",
    "except IOError as e:\n",
    "    print(e)\n",
    "finally:\n",
    "    file.close()\n",
    "    print('File has been appended')"
   ]
  },
  {
   "attachments": {},
   "cell_type": "markdown",
   "metadata": {},
   "source": [
    "## 2. Read\n",
    "\n",
    "Method\n",
    "1. `read()` - read content of the file \n",
    "2. `readline()` - read the first line of the file \n",
    "3. `readlines()` - read all lines in the list of the file"
   ]
  },
  {
   "attachments": {},
   "cell_type": "markdown",
   "metadata": {},
   "source": [
    "### 2.1. read()"
   ]
  },
  {
   "cell_type": "code",
   "execution_count": 67,
   "metadata": {},
   "outputs": [
    {
     "name": "stdout",
     "output_type": "stream",
     "text": [
      "['One', 'Two', 'Three', 'Four', 'Five']\n",
      "File has read\n"
     ]
    }
   ],
   "source": [
    "#Return all\n",
    "try:\n",
    "    file = open('./file/Example6_1.txt', mode = 'r')\n",
    "    print(file.read())\n",
    "except IOError as e:\n",
    "    print(e)\n",
    "finally:\n",
    "    file.close()\n",
    "    print('File has read')"
   ]
  },
  {
   "attachments": {},
   "cell_type": "markdown",
   "metadata": {},
   "source": [
    "### 2.2. readline()"
   ]
  },
  {
   "cell_type": "code",
   "execution_count": 59,
   "metadata": {},
   "outputs": [
    {
     "name": "stdout",
     "output_type": "stream",
     "text": [
      "One\n",
      "\n",
      "File has read\n"
     ]
    }
   ],
   "source": [
    "#Return only one line\n",
    "try:\n",
    "    file = open('./file/Example6_1.txt', mode = 'r')\n",
    "    print(file.readline())\n",
    "except IOError as e:\n",
    "    print(e)\n",
    "finally:\n",
    "    file.close()\n",
    "    print('File has read')"
   ]
  },
  {
   "attachments": {},
   "cell_type": "markdown",
   "metadata": {},
   "source": [
    "### 2.3. readlines()"
   ]
  },
  {
   "cell_type": "code",
   "execution_count": 71,
   "metadata": {},
   "outputs": [
    {
     "name": "stdout",
     "output_type": "stream",
     "text": [
      "['One\\n', 'Two\\n', 'Three\\n', 'Four\\n', 'Five\\n']\n",
      "File has read\n"
     ]
    }
   ],
   "source": [
    "#Return as list\n",
    "import re\n",
    "try:\n",
    "    file = open('./file/Example6_1.txt', mode = 'r')\n",
    "    file_list = file.readlines()\n",
    "    print(file_list)\n",
    "except IOError as e:\n",
    "    print(e)\n",
    "finally:\n",
    "    file.close()\n",
    "    print('File has read')"
   ]
  },
  {
   "cell_type": "code",
   "execution_count": 75,
   "metadata": {},
   "outputs": [
    {
     "name": "stdout",
     "output_type": "stream",
     "text": [
      "['One', 'Two', 'Three', 'Four', 'Five']\n",
      "File has read\n"
     ]
    }
   ],
   "source": [
    "#Return all\n",
    "try:\n",
    "    file = open('./file/Example6_1.txt', mode = 'r')\n",
    "    print(file.read().splitlines())\n",
    "except IOError as e:\n",
    "    print(e)\n",
    "finally:\n",
    "    file.close()\n",
    "    print('File has read')"
   ]
  },
  {
   "attachments": {},
   "cell_type": "markdown",
   "metadata": {},
   "source": [
    "## Test 1 : Creating a dictionary then put each data into the textfile"
   ]
  },
  {
   "cell_type": "code",
   "execution_count": 78,
   "metadata": {},
   "outputs": [
    {
     "name": "stdout",
     "output_type": "stream",
     "text": [
      "Name : ['Gun', 'Sea', 'Reef']\n",
      "Gender : ['m', 'f', 'm']\n",
      "Age : ['23', '23', '26']\n",
      "File has been added\n",
      "Done\n"
     ]
    }
   ],
   "source": [
    "profile = {\n",
    "    'Name': [],\n",
    "    'Gender': list(),\n",
    "    'Age': list()\n",
    "}\n",
    "i = 0\n",
    "amount = int(input('How many Student: '))\n",
    "while  i < amount:\n",
    "    students = input('Please enter your name: ')\n",
    "    profile['Name'].append(students)\n",
    "    gender = input('Please enter your gender: ')\n",
    "    profile['Gender'].append(gender)\n",
    "    age = input('Please enter your age: ')\n",
    "    profile['Age'].append(age)\n",
    "    i += 1\n",
    "\n",
    "for (key, value) in profile.items():\n",
    "    print(f'{key} : {value}')\n",
    "\n",
    "try:\n",
    "    file = open('./file/Example8.txt',mode = 'w')\n",
    "    file.write(\"Name;Gender;Age\")\n",
    "    file.write(\"\\n\")\n",
    "    for j in range(i):\n",
    "        file.write(f\"{profile['Name'][j]};{profile['Gender'][j]};{profile['Age'][j]}\")\n",
    "        file.write('\\n')\n",
    "    print('File has been added')\n",
    "except IOError as e:\n",
    "    print(e)\n",
    "finally:\n",
    "    file.close()\n",
    "    print('Done')"
   ]
  },
  {
   "cell_type": "code",
   "execution_count": 79,
   "metadata": {},
   "outputs": [
    {
     "name": "stdout",
     "output_type": "stream",
     "text": [
      "Name;Gender;Age\n",
      "Gun;m;23\n",
      "Sea;f;23\n",
      "Reef;m;26\n",
      "\n",
      "File has read\n"
     ]
    }
   ],
   "source": [
    "def ReadFile(filename):\n",
    "    try:\n",
    "        file = open(f'./file/{filename}', mode = 'r')\n",
    "        print(file.read())\n",
    "    except IOError as e:\n",
    "        print(e)\n",
    "    finally:\n",
    "        file.close()\n",
    "        print('File has read')\n",
    "        \n",
    "ReadFile('Example8.txt')"
   ]
  },
  {
   "cell_type": "code",
   "execution_count": 82,
   "metadata": {},
   "outputs": [
    {
     "data": {
      "text/html": [
       "<div>\n",
       "<style scoped>\n",
       "    .dataframe tbody tr th:only-of-type {\n",
       "        vertical-align: middle;\n",
       "    }\n",
       "\n",
       "    .dataframe tbody tr th {\n",
       "        vertical-align: top;\n",
       "    }\n",
       "\n",
       "    .dataframe thead th {\n",
       "        text-align: right;\n",
       "    }\n",
       "</style>\n",
       "<table border=\"1\" class=\"dataframe\">\n",
       "  <thead>\n",
       "    <tr style=\"text-align: right;\">\n",
       "      <th></th>\n",
       "      <th>Name</th>\n",
       "      <th>Gender</th>\n",
       "      <th>Age</th>\n",
       "    </tr>\n",
       "  </thead>\n",
       "  <tbody>\n",
       "    <tr>\n",
       "      <th>0</th>\n",
       "      <td>Gun</td>\n",
       "      <td>m</td>\n",
       "      <td>23</td>\n",
       "    </tr>\n",
       "    <tr>\n",
       "      <th>1</th>\n",
       "      <td>Sea</td>\n",
       "      <td>f</td>\n",
       "      <td>23</td>\n",
       "    </tr>\n",
       "    <tr>\n",
       "      <th>2</th>\n",
       "      <td>Reef</td>\n",
       "      <td>m</td>\n",
       "      <td>26</td>\n",
       "    </tr>\n",
       "  </tbody>\n",
       "</table>\n",
       "</div>"
      ],
      "text/plain": [
       "   Name Gender  Age\n",
       "0   Gun      m   23\n",
       "1   Sea      f   23\n",
       "2  Reef      m   26"
      ]
     },
     "execution_count": 82,
     "metadata": {},
     "output_type": "execute_result"
    }
   ],
   "source": [
    "import pandas as pd\n",
    "df = pd.read_csv('./file/Example8.txt', sep=';')\n",
    "df.head()"
   ]
  },
  {
   "attachments": {},
   "cell_type": "markdown",
   "metadata": {},
   "source": [
    "# OS Module\n",
    "\n",
    "Consider Current Working Directory(CWD) as a folder, where the Python is operating. Whenever the files are called only by their name, Python assumes that it starts in the CWD which means that name-only reference will be successful only if the file is in the Python’s CWD. Note: The folder where the Python script is running is known as the Current Directory. This is not the path where the Python script is located."
   ]
  },
  {
   "attachments": {},
   "cell_type": "markdown",
   "metadata": {},
   "source": [
    "### Current Working Directory"
   ]
  },
  {
   "cell_type": "code",
   "execution_count": 12,
   "metadata": {},
   "outputs": [
    {
     "name": "stdout",
     "output_type": "stream",
     "text": [
      "Current working directory: c:\\Users\\Guntsv\\Documents\\GitHub\\Kiddeelab\n"
     ]
    }
   ],
   "source": [
    "# importing os module \n",
    "import os \n",
    "# Get the current working : directory (CWD) \n",
    "cwd = os.getcwd() \n",
    "# Print the current working : directory (CWD) \n",
    "print(\"Current working directory:\", cwd) "
   ]
  },
  {
   "cell_type": "code",
   "execution_count": 13,
   "metadata": {},
   "outputs": [
    {
     "name": "stdout",
     "output_type": "stream",
     "text": [
      "Current working directory before\n",
      "c:\\Users\\Guntsv\\Documents\\GitHub\\Kiddeelab\n",
      "\n",
      "Current working directory before\n",
      "c:\\Users\\Guntsv\\Documents\\GitHub\n",
      "\n"
     ]
    }
   ],
   "source": [
    "import os \n",
    "# Function to Get the current  \n",
    "# working directory \n",
    "def current_path(): \n",
    "    print(\"Current working directory before\") \n",
    "    print(os.getcwd()) \n",
    "    print() \n",
    "    \n",
    "# Driver's code \n",
    "# Printing CWD before \n",
    "current_path() \n",
    "    \n",
    "# Changing the CWD \n",
    "os.chdir('../') \n",
    "    \n",
    "# Printing CWD after \n",
    "current_path() "
   ]
  },
  {
   "attachments": {},
   "cell_type": "markdown",
   "metadata": {},
   "source": [
    "### Creating a Directory\n",
    "\n",
    "`os.mkdir()` method in Python is used to create a directory named path with the specified numeric mode. This method raises FileExistsError if the directory to be created already exists.\n",
    "\n",
    "`os.makedirs()` method in Python is used to create a directory recursively. That means while making leaf directory if any intermediate-level directory is missing, os.makedirs() method will create them all."
   ]
  },
  {
   "cell_type": "code",
   "execution_count": 6,
   "metadata": {},
   "outputs": [
    {
     "name": "stdout",
     "output_type": "stream",
     "text": [
      "../GeneralPython2/KiddeeLabPython22\n",
      "Directory 'KiddeeLabPython22' created\n"
     ]
    }
   ],
   "source": [
    "import os \n",
    "# Directory \n",
    "directory = \"KiddeeLabPython2_1\"\n",
    "# Parent Directory path \n",
    "parent_dir = \"../GeneralPython2/\"\n",
    "# Path \n",
    "path = os.path.join(parent_dir, directory) \n",
    "print(path)\n",
    "# Create the directory \n",
    "# 'KiddeeLabPython2' in \n",
    "# 'C:/Users/Guntsv/Documents/GitHub/Kiddeelab/GeneralPython2/' \n",
    "os.mkdir(path) \n",
    "print(\"Directory '% s' created\" % directory) "
   ]
  },
  {
   "cell_type": "code",
   "execution_count": 7,
   "metadata": {},
   "outputs": [
    {
     "name": "stdout",
     "output_type": "stream",
     "text": [
      "../GeneralPython2/KiddeeLabPython2_2\n",
      "Directory 'KiddeeLabPython2_2' created\n"
     ]
    }
   ],
   "source": [
    "# importing os module \n",
    "import os \n",
    "      \n",
    "# Leaf directory \n",
    "directory = \"KiddeeLabPython2_2\"\n",
    "      \n",
    "# Parent Directories \n",
    "parent_dir = \"../GeneralPython2/\"\n",
    "      \n",
    "# Path \n",
    "path = os.path.join(parent_dir, directory) \n",
    "print(path)\n",
    "\n",
    "# Create the directory \n",
    "# 'KiddeeLabPython2' \n",
    "os.makedirs(path) \n",
    "print(\"Directory '% s' created\" % directory) "
   ]
  },
  {
   "attachments": {},
   "cell_type": "markdown",
   "metadata": {},
   "source": [
    "### Listing out Files and Directories with Python"
   ]
  },
  {
   "attachments": {},
   "cell_type": "markdown",
   "metadata": {},
   "source": [
    "`os.listdir()` method in Python is used to get the list of all files and directories in the specified directory. If we don’t specify any directory, then the list of files and directories in the current working directory will be returned.\n",
    " "
   ]
  },
  {
   "cell_type": "code",
   "execution_count": 11,
   "metadata": {},
   "outputs": [
    {
     "name": "stdout",
     "output_type": "stream",
     "text": [
      "Files and directories in ' C:/Users/Guntsv/Documents/GitHub/Kiddeelab/GeneralPython2/file ' :\n",
      "['case_study2.txt', 'Example6.txt', 'Example6_1.txt', 'Example6_2.txt', 'Example8.txt']\n"
     ]
    }
   ],
   "source": [
    "# importing os module \n",
    "import os \n",
    "  \n",
    "# Get the list of all files and directories \n",
    "# in the root directory \n",
    "path = \"C:/Users/Guntsv/Documents/GitHub/Kiddeelab/GeneralPython2/file\"\n",
    "dir_list = os.listdir(path) \n",
    "  \n",
    "print(\"Files and directories in '\", path, \"' :\") \n",
    "# print the list \n",
    "print(dir_list) "
   ]
  },
  {
   "attachments": {},
   "cell_type": "markdown",
   "metadata": {},
   "source": [
    "### Common pathname manipulations\n",
    "`os.path.exist(path)` Return True if path refers to an *existing path* or an open file descriptor otherwise False.\n",
    "\n",
    "`os.path.isfile(path)` Return True if path is an *existing regular file* otherwise False."
   ]
  },
  {
   "cell_type": "code",
   "execution_count": 16,
   "metadata": {},
   "outputs": [
    {
     "data": {
      "text/plain": [
       "True"
      ]
     },
     "execution_count": 16,
     "metadata": {},
     "output_type": "execute_result"
    }
   ],
   "source": [
    "path = \"C:/Users/Guntsv/Documents/GitHub/Kiddeelab/GeneralPython2/file\"\n",
    "os.path.exists(path)"
   ]
  },
  {
   "cell_type": "code",
   "execution_count": 17,
   "metadata": {},
   "outputs": [
    {
     "data": {
      "text/plain": [
       "False"
      ]
     },
     "execution_count": 17,
     "metadata": {},
     "output_type": "execute_result"
    }
   ],
   "source": [
    "path = \"C:/Users/Guntsv/Documents/GitHub/Kiddeelab/GeneralPython2/file/KiddeeLab\"\n",
    "os.path.exists(path)"
   ]
  },
  {
   "cell_type": "code",
   "execution_count": 25,
   "metadata": {},
   "outputs": [
    {
     "data": {
      "text/plain": [
       "True"
      ]
     },
     "execution_count": 25,
     "metadata": {},
     "output_type": "execute_result"
    }
   ],
   "source": [
    "path = \"./Kiddeelab/GeneralPython2/02-Numpy.ipynb\"\n",
    "os.path.isfile(path)"
   ]
  },
  {
   "attachments": {},
   "cell_type": "markdown",
   "metadata": {},
   "source": [
    "## Case Study 2 : Collect Data to textfile by using only Write & Read with GUI"
   ]
  },
  {
   "cell_type": "code",
   "execution_count": 83,
   "metadata": {},
   "outputs": [],
   "source": [
    "from tkinter import *\n",
    "from tkinter import messagebox\n",
    "import os.path\n",
    "studentlist = []\n",
    "genderlist = []\n",
    "agelist = []\n",
    "start = False\n",
    "def readlist():\n",
    "    try:\n",
    "        file = open('./file/case_study2.txt', mode='r')\n",
    "        list_file = file.readlines()\n",
    "        print('Old File :', list_file)\n",
    "    except IOError as e:\n",
    "        print(e)\n",
    "    return list_file\n",
    "\n",
    "def write(list_file):\n",
    "    try:\n",
    "        file = open('./file/case_study2.txt', mode='w')\n",
    "        file.write(\"\\n\")\n",
    "        if start == False:\n",
    "            # Writing the old\n",
    "            new_file_text = \"\".join(list_file) \n",
    "            # String join() method as list to be string\n",
    "            file.write(new_file_text)\n",
    "        # Writing the New\n",
    "        for j in range(len(profile['Name'])):\n",
    "            file.write(\"{};{};{}\".format(profile['Name'][j], profile['Gender'][j], profile['Age'][j]))\n",
    "            file.write('\\n')\n",
    "        file.close()\n",
    "    except IOError as e:\n",
    "        print(e)\n",
    "    print('File has been written')\n",
    "\n",
    "def readchekcing():\n",
    "    try:\n",
    "        file = open('./file/case_study2.txt', mode='r')\n",
    "        file_read = file.read()\n",
    "        print('New File :', file_read)\n",
    "    except IOError as e:\n",
    "        print(e)\n",
    "\n",
    "# Dictionary\n",
    "profile = {\n",
    "    'Name': studentlist,\n",
    "    'Gender': genderlist,\n",
    "    'Age': agelist\n",
    "}\n",
    "def Sumbit():\n",
    "    global NameVar,GenderVar,AgeVar\n",
    "    global start,list_file,profile\n",
    "    studentlist.append(NameVar.get())\n",
    "    genderlist.append(GenderVar.get())\n",
    "    agelist.append(AgeVar.get())\n",
    "    print('Name :',profile['Name'])\n",
    "    print('Gender :',profile['Gender'])\n",
    "    print('Age :',profile['Age'])\n",
    "    ##File exist???\n",
    "    if os.path.isfile('./file/case_study2.txt'):\n",
    "        print('File exist')\n",
    "        if start == False:\n",
    "            list_file = readlist()\n",
    "            write(list_file)\n",
    "            print('File has been added')\n",
    "        elif start == True:\n",
    "            write(list_file)\n",
    "            print('File has been added')\n",
    "        readchekcing()\n",
    "    else:\n",
    "        print('File does not exist')\n",
    "        # Force to write\n",
    "        try:\n",
    "            file = open('./file/case_study2.txt', mode='w')\n",
    "            file.write(\"Name;Gender;Age\\n\")\n",
    "            # New\n",
    "            for j in range(len(profile['Name'])):\n",
    "                file.write(\"{};{};{}\".format(profile['Name'][j], profile['Gender'][j], profile['Age'][j]))\n",
    "                file.write('\\n')\n",
    "            file.close()\n",
    "            start = True\n",
    "        except IOError as e:\n",
    "            print(e)\n",
    "        print('File has been written')\n",
    "        # read checking\n",
    "        readchekcing()\n",
    "\n",
    "def gui():\n",
    "    global NameVar, GenderVar, AgeVar\n",
    "    window = Tk()\n",
    "    window.title('case_study2')\n",
    "    window.geometry('500x300+520+350')\n",
    "    #StringVarFunction\n",
    "    NameVar = StringVar()\n",
    "    GenderVar = StringVar()\n",
    "    AgeVar = StringVar()\n",
    "    #FramePart\n",
    "    F1 = Frame(window,width=500,height=200,bg='orange')\n",
    "    F1.pack()\n",
    "    F2 = Frame(window,width=500,height=100,bg='gold')\n",
    "    F2.pack()\n",
    "    #LabelPart\n",
    "    name = Label(F1,text='name :',font=(None,20),bg='orange')\n",
    "    name.place(x=120,y=20,anchor='w')\n",
    "    gender = Label(F1,text='gender :',font=(None,20),bg='orange')\n",
    "    gender.place(x=120,y=70,anchor='w')\n",
    "    age = Label(F1,text='age :',font=(None,20),bg='orange')\n",
    "    age.place(x=120,y=120,anchor='w')\n",
    "    #EntryPart\n",
    "    Etn1 = Entry(F1,textvariable=NameVar)\n",
    "    Etn1.place(x=300,y=20,anchor='center')\n",
    "    Etn2 = Entry(F1,textvariable=GenderVar)\n",
    "    Etn2.place(x=300,y=70,anchor='center')\n",
    "    Etn3 = Entry(F1,textvariable=AgeVar)\n",
    "    Etn3.place(x=300,y=120,anchor='center')\n",
    "    #ButtonPart\n",
    "    sumbit = Button(F2,text='Sumbit',width=30,height=3,command=Sumbit)\n",
    "    sumbit.place(x=250,y=50,anchor='center')\n",
    "    #ForPycharm\n",
    "    window.mainloop()\n",
    "\n",
    "gui()"
   ]
  },
  {
   "cell_type": "code",
   "execution_count": 54,
   "metadata": {},
   "outputs": [
    {
     "data": {
      "text/html": [
       "<div>\n",
       "<style scoped>\n",
       "    .dataframe tbody tr th:only-of-type {\n",
       "        vertical-align: middle;\n",
       "    }\n",
       "\n",
       "    .dataframe tbody tr th {\n",
       "        vertical-align: top;\n",
       "    }\n",
       "\n",
       "    .dataframe thead th {\n",
       "        text-align: right;\n",
       "    }\n",
       "</style>\n",
       "<table border=\"1\" class=\"dataframe\">\n",
       "  <thead>\n",
       "    <tr style=\"text-align: right;\">\n",
       "      <th></th>\n",
       "      <th>Name</th>\n",
       "      <th>Gender</th>\n",
       "      <th>Age</th>\n",
       "    </tr>\n",
       "  </thead>\n",
       "  <tbody>\n",
       "    <tr>\n",
       "      <th>0</th>\n",
       "      <td>1</td>\n",
       "      <td>1</td>\n",
       "      <td>1</td>\n",
       "    </tr>\n",
       "    <tr>\n",
       "      <th>1</th>\n",
       "      <td>2</td>\n",
       "      <td>2</td>\n",
       "      <td>2</td>\n",
       "    </tr>\n",
       "    <tr>\n",
       "      <th>2</th>\n",
       "      <td>3</td>\n",
       "      <td>3</td>\n",
       "      <td>3</td>\n",
       "    </tr>\n",
       "  </tbody>\n",
       "</table>\n",
       "</div>"
      ],
      "text/plain": [
       "   Name  Gender  Age\n",
       "0     1       1    1\n",
       "1     2       2    2\n",
       "2     3       3    3"
      ]
     },
     "execution_count": 54,
     "metadata": {},
     "output_type": "execute_result"
    }
   ],
   "source": [
    "import pandas as pd\n",
    "df = pd.read_csv('./file/case_study2.txt', sep=';')\n",
    "df.head()"
   ]
  },
  {
   "cell_type": "code",
   "execution_count": null,
   "metadata": {},
   "outputs": [],
   "source": []
  }
 ],
 "metadata": {
  "kernelspec": {
   "display_name": "Python 3.10.4 64-bit",
   "language": "python",
   "name": "python3"
  },
  "language_info": {
   "codemirror_mode": {
    "name": "ipython",
    "version": 3
   },
   "file_extension": ".py",
   "mimetype": "text/x-python",
   "name": "python",
   "nbconvert_exporter": "python",
   "pygments_lexer": "ipython3",
   "version": "3.10.4"
  },
  "orig_nbformat": 4,
  "vscode": {
   "interpreter": {
    "hash": "c81d839d3c4227cd770621df97fe8191838af02e7eef185a922d8250cb33d344"
   }
  }
 },
 "nbformat": 4,
 "nbformat_minor": 2
}
