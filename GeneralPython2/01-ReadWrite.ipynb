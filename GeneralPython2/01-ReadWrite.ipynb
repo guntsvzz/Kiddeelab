{
 "cells": [
  {
   "attachments": {},
   "cell_type": "markdown",
   "metadata": {},
   "source": [
    "# File Handling\n",
    "\n",
    "mode selection\n",
    "\n",
    "\"r\" - Read - Default value. Opens a file for reading, error if the file does not exist\n",
    "\n",
    "\"a\" - Append - Opens a file for appending, creates the file if it does not exist\n",
    "\n",
    "\"w\" - Write - Opens a file for writing, creates the file if it does not exist\n",
    "\n",
    "\"x\" - Create - Creates the specified file, returns an error if the file exists\n",
    "\n",
    "\"t\" - Text - Default value. Text mode\n",
    "\n",
    "\"b\" - Binary - Binary mode (e.g. images)"
   ]
  },
  {
   "attachments": {},
   "cell_type": "markdown",
   "metadata": {},
   "source": [
    "- The open() function returns a file object. \n",
    "- The close() function is to close the opened file.\n",
    "\n",
    "Format : open(\"filename.txt\",mode=\"mode_selection\")"
   ]
  },
  {
   "attachments": {},
   "cell_type": "markdown",
   "metadata": {},
   "source": [
    "## 1. Write & Append\n",
    "\n",
    "Method \n",
    "1. write() - write a string to the file \n",
    "2. writelines() - write a list of string to the file"
   ]
  },
  {
   "attachments": {},
   "cell_type": "markdown",
   "metadata": {},
   "source": [
    "### 1.1. Write Mode"
   ]
  },
  {
   "cell_type": "code",
   "execution_count": 1,
   "metadata": {},
   "outputs": [
    {
     "name": "stdout",
     "output_type": "stream",
     "text": [
      "File has been rewrited\n"
     ]
    }
   ],
   "source": [
    "#Write\n",
    "try:\n",
    "    file = open('./file/Example6_1.txt',mode='w')\n",
    "    file.write('One\\n')\n",
    "    file.write('Two\\n')\n",
    "    file.write('Three\\n')\n",
    "    file.write('Four\\n')\n",
    "    file.write('Five\\n')\n",
    "    file.close()\n",
    "except IOError as e:\n",
    "    print(e)\n",
    "finally:\n",
    "    file.close()\n",
    "    print('File has been rewrited')"
   ]
  },
  {
   "cell_type": "code",
   "execution_count": 3,
   "metadata": {},
   "outputs": [
    {
     "name": "stdout",
     "output_type": "stream",
     "text": [
      "File has been rewrited\n"
     ]
    }
   ],
   "source": [
    "#Writelines\n",
    "try:\n",
    "    file = open('./file/Example6_2.txt',mode='w')\n",
    "    file.writelines(['One\\n','Two\\n','Three\\n','Four\\n','Five\\n'])\n",
    "    file.close()\n",
    "except IOError as e:\n",
    "    print(e)\n",
    "finally:\n",
    "    file.close()\n",
    "    print('File has been rewrited')"
   ]
  },
  {
   "attachments": {},
   "cell_type": "markdown",
   "metadata": {},
   "source": [
    "### 1.2 Append Mode"
   ]
  },
  {
   "cell_type": "code",
   "execution_count": 14,
   "metadata": {},
   "outputs": [
    {
     "name": "stdout",
     "output_type": "stream",
     "text": [
      "File has been appended\n"
     ]
    }
   ],
   "source": [
    "#Append\n",
    "try:\n",
    "    file = open('./file/Example6_1.txt',mode='a')\n",
    "    file.write('1\\n')\n",
    "    file.write('2\\n')\n",
    "    file.write('3\\n')\n",
    "    file.write('4\\n')\n",
    "    file.write('5\\n')\n",
    "    file.close()\n",
    "except IOError as e:\n",
    "    print(e)\n",
    "finally:\n",
    "    file.close()\n",
    "    print('File has been appended')"
   ]
  },
  {
   "attachments": {},
   "cell_type": "markdown",
   "metadata": {},
   "source": [
    "## 2. Read\n",
    "\n",
    "Method\n",
    "1. read() - read content of the file \n",
    "2. readline() - read the first line of the file \n",
    "3. readlines() - read all lines in the list of the file"
   ]
  },
  {
   "attachments": {},
   "cell_type": "markdown",
   "metadata": {},
   "source": [
    "### 2.1. read()"
   ]
  },
  {
   "cell_type": "code",
   "execution_count": 4,
   "metadata": {},
   "outputs": [
    {
     "name": "stdout",
     "output_type": "stream",
     "text": [
      "One\n",
      "Two\n",
      "Three\n",
      "Four\n",
      "Five\n",
      "\n",
      "File has read\n"
     ]
    }
   ],
   "source": [
    "#Return all\n",
    "try:\n",
    "    file = open('./file/Example6_1.txt', mode = 'r')\n",
    "    print(file.read())\n",
    "except IOError as e:\n",
    "    print(e)\n",
    "finally:\n",
    "    file.close()\n",
    "    print('File has read')"
   ]
  },
  {
   "attachments": {},
   "cell_type": "markdown",
   "metadata": {},
   "source": [
    "### 2.2. readline()"
   ]
  },
  {
   "cell_type": "code",
   "execution_count": 5,
   "metadata": {},
   "outputs": [
    {
     "name": "stdout",
     "output_type": "stream",
     "text": [
      "One\n",
      "\n",
      "File has read\n"
     ]
    }
   ],
   "source": [
    "#Return only one line\n",
    "try:\n",
    "    file = open('./file/Example6_1.txt', mode = 'r')\n",
    "    print(file.readline())\n",
    "except IOError as e:\n",
    "    print(e)\n",
    "finally:\n",
    "    file.close()\n",
    "    print('File has read')"
   ]
  },
  {
   "attachments": {},
   "cell_type": "markdown",
   "metadata": {},
   "source": [
    "### 2.3. readlines()"
   ]
  },
  {
   "cell_type": "code",
   "execution_count": 6,
   "metadata": {},
   "outputs": [
    {
     "name": "stdout",
     "output_type": "stream",
     "text": [
      "['One\\n', 'Two\\n', 'Three\\n', 'Four\\n', 'Five\\n']\n",
      "File has read\n"
     ]
    }
   ],
   "source": [
    "#Return as list\n",
    "try:\n",
    "    file = open('./file/Example6_1.txt', mode = 'r')\n",
    "    print(file.readlines())\n",
    "except IOError as e:\n",
    "    print(e)\n",
    "finally:\n",
    "    file.close()\n",
    "    print('File has read')"
   ]
  },
  {
   "attachments": {},
   "cell_type": "markdown",
   "metadata": {},
   "source": [
    "## Test 2 : Creating a dictionary then put each data into the textfile"
   ]
  },
  {
   "cell_type": "code",
   "execution_count": 19,
   "metadata": {},
   "outputs": [
    {
     "name": "stdout",
     "output_type": "stream",
     "text": [
      "Name : ['Gun', 'Sea', 'Reef']\n",
      "Gender : ['Male', 'Female', 'Male']\n",
      "Age : ['23', '22', '26']\n",
      "File has been added\n",
      "Done\n"
     ]
    }
   ],
   "source": [
    "profile = {\n",
    "    'Name': list(),\n",
    "    'Gender': list(),\n",
    "    'Age': list()\n",
    "}\n",
    "i = 0\n",
    "amount = int(input('How many Student: '))\n",
    "while  i < amount:\n",
    "    students = input('Please enter your name: ')\n",
    "    profile['Name'].append(students)\n",
    "    gender = input('Please enter your gender: ')\n",
    "    profile['Gender'].append(gender)\n",
    "    age = input('Please enter your age: ')\n",
    "    profile['Age'].append(age)\n",
    "    i += 1\n",
    "\n",
    "for (key, value) in profile.items():\n",
    "    print(f'{key} : {value}')\n",
    "\n",
    "try:\n",
    "    file = open('Example8.txt',mode = 'w')\n",
    "    file.write(\"Name;Gender;Age\")\n",
    "    file.write(\"\\n\")\n",
    "    for j in range(i):\n",
    "        file.write(\"{};{};{}\".format(profile['Name'][j],profile['Gender'][j],profile['Age'][j]))\n",
    "        file.write('\\n')\n",
    "    print('File has been added')\n",
    "except IOError as e:\n",
    "    print(e)\n",
    "finally:\n",
    "    file.close()\n",
    "    print('Done')"
   ]
  },
  {
   "cell_type": "code",
   "execution_count": 21,
   "metadata": {},
   "outputs": [
    {
     "name": "stdout",
     "output_type": "stream",
     "text": [
      "Name;Gender;Age\n",
      "Gun;Male;23\n",
      "Sea;Female;22\n",
      "Reef;Male;26\n",
      "\n",
      "File has read\n"
     ]
    }
   ],
   "source": [
    "def ReadFile(filename):\n",
    "    try:\n",
    "        file = open(f'./file/{filename}', mode = 'r')\n",
    "        print(file.read())\n",
    "    except IOError as e:\n",
    "        print(e)\n",
    "    finally:\n",
    "        file.close()\n",
    "        print('File has read')\n",
    "        \n",
    "ReadFile('Example8.txt')"
   ]
  },
  {
   "cell_type": "code",
   "execution_count": 9,
   "metadata": {},
   "outputs": [
    {
     "data": {
      "text/html": [
       "<div>\n",
       "<style scoped>\n",
       "    .dataframe tbody tr th:only-of-type {\n",
       "        vertical-align: middle;\n",
       "    }\n",
       "\n",
       "    .dataframe tbody tr th {\n",
       "        vertical-align: top;\n",
       "    }\n",
       "\n",
       "    .dataframe thead th {\n",
       "        text-align: right;\n",
       "    }\n",
       "</style>\n",
       "<table border=\"1\" class=\"dataframe\">\n",
       "  <thead>\n",
       "    <tr style=\"text-align: right;\">\n",
       "      <th></th>\n",
       "      <th>Name</th>\n",
       "      <th>Gender</th>\n",
       "      <th>Age</th>\n",
       "    </tr>\n",
       "  </thead>\n",
       "  <tbody>\n",
       "    <tr>\n",
       "      <th>0</th>\n",
       "      <td>Name</td>\n",
       "      <td>Gender</td>\n",
       "      <td>Age</td>\n",
       "    </tr>\n",
       "    <tr>\n",
       "      <th>1</th>\n",
       "      <td>Gun</td>\n",
       "      <td>Male</td>\n",
       "      <td>23</td>\n",
       "    </tr>\n",
       "    <tr>\n",
       "      <th>2</th>\n",
       "      <td>Sea</td>\n",
       "      <td>Female</td>\n",
       "      <td>22</td>\n",
       "    </tr>\n",
       "    <tr>\n",
       "      <th>3</th>\n",
       "      <td>Reef</td>\n",
       "      <td>Male</td>\n",
       "      <td>26</td>\n",
       "    </tr>\n",
       "  </tbody>\n",
       "</table>\n",
       "</div>"
      ],
      "text/plain": [
       "   Name  Gender  Age\n",
       "0  Name  Gender  Age\n",
       "1   Gun    Male   23\n",
       "2   Sea  Female   22\n",
       "3  Reef    Male   26"
      ]
     },
     "execution_count": 9,
     "metadata": {},
     "output_type": "execute_result"
    }
   ],
   "source": [
    "import pandas as pd\n",
    "df = pd.read_csv('./file/Example8.txt', sep=';', header=None, names=['Name', 'Gender', 'Age'])\n",
    "df.head()"
   ]
  },
  {
   "attachments": {},
   "cell_type": "markdown",
   "metadata": {},
   "source": [
    "## Case Study 2 : Collect Data to textfile by using only Write & Read"
   ]
  },
  {
   "cell_type": "code",
   "execution_count": 22,
   "metadata": {},
   "outputs": [],
   "source": [
    "from tkinter import *\n",
    "from tkinter import messagebox\n",
    "import os.path\n",
    "studentlist = []\n",
    "genderlist = []\n",
    "agelist = []\n",
    "start = False\n",
    "def readlist():\n",
    "    global list_file\n",
    "    try:\n",
    "        file = open('case_study2.txt', mode='r')\n",
    "        list_file = file.readlines()\n",
    "        print('Old File :', list_file)\n",
    "    except IOError as e:\n",
    "        print(e)\n",
    "\n",
    "def write():\n",
    "    try:\n",
    "        file = open('case_study2.txt', mode='w')\n",
    "        if start == False:\n",
    "            # Old\n",
    "            new_file_text = \"\".join(list_file)  # Not Working\n",
    "            # String join() method as list to be string\n",
    "            file.write(new_file_text)\n",
    "        # New\n",
    "        for j in range(len(profile['Name'])):\n",
    "            file.write(\"{};{};{}\".format(profile['Name'][j], profile['Gender'][j], profile['Age'][j]))\n",
    "            file.write('\\n')\n",
    "        file.close()\n",
    "    except IOError as e:\n",
    "        print(e)\n",
    "    print('File has been written')\n",
    "\n",
    "def readchekcing():\n",
    "    try:\n",
    "        file = open('case_study2.txt', mode='r')\n",
    "        file_read = file.read()\n",
    "        print('New File :', file_read)\n",
    "    except IOError as e:\n",
    "        print(e)\n",
    "\n",
    "def Sumbit():\n",
    "    global NameVar,GenderVar,AgeVar,loop,start,list_file,profile\n",
    "    # global Etn1,Etn2,Etn3\n",
    "    # StoreData\n",
    "    studentlist.append(NameVar.get())\n",
    "    genderlist.append(GenderVar.get())\n",
    "    agelist.append(AgeVar.get())\n",
    "    # Dictionary\n",
    "    profile = {\n",
    "        'Name': studentlist,\n",
    "        'Gender': genderlist,\n",
    "        'Age': agelist\n",
    "    }\n",
    "    print('Name :',profile['Name'])\n",
    "    print('Gender :',profile['Gender'])\n",
    "    print('Age :',profile['Age'])\n",
    "    if os.path.isfile('test2_hard.txt'):\n",
    "        print('File exist')\n",
    "        if start == False:\n",
    "            readlist()\n",
    "            write()\n",
    "            print('File has been added')\n",
    "        if start == True:\n",
    "            write()\n",
    "            print('File has been added')\n",
    "        readchekcing()\n",
    "    else:\n",
    "        print('File does not exist')\n",
    "        # write\n",
    "        try:\n",
    "            file = open('case_study2.txt', mode='w')\n",
    "            # New\n",
    "            for j in range(len(profile['Name'])):\n",
    "                file.write(\"{};{};{}\".format(profile['Name'][j], profile['Gender'][j], profile['Age'][j]))\n",
    "                file.write('\\n')\n",
    "            file.close()\n",
    "            start = True\n",
    "        except IOError as e:\n",
    "            print(e)\n",
    "        print('File has been written')\n",
    "        # read checking\n",
    "        readchekcing()\n",
    "\n",
    "def gui():\n",
    "    global NameVar, GenderVar, AgeVar\n",
    "    window = Tk()\n",
    "    window.title('case_study2')\n",
    "    window.geometry('500x300+520+350')\n",
    "    #StringVarFunction\n",
    "    NameVar = StringVar()\n",
    "    GenderVar = StringVar()\n",
    "    AgeVar = StringVar()\n",
    "    #FramePart\n",
    "    F1 = Frame(window,width=500,height=200,bg='orange')\n",
    "    F1.pack()\n",
    "    F2 = Frame(window,width=500,height=100,bg='gold')\n",
    "    F2.pack()\n",
    "    #LabelPart\n",
    "    name = Label(F1,text='name :',font=(None,20),bg='orange')\n",
    "    name.place(x=120,y=20,anchor='w')\n",
    "    gender = Label(F1,text='gender :',font=(None,20),bg='orange')\n",
    "    gender.place(x=120,y=70,anchor='w')\n",
    "    age = Label(F1,text='age :',font=(None,20),bg='orange')\n",
    "    age.place(x=120,y=120,anchor='w')\n",
    "    #EntryPart\n",
    "    Etn1 = Entry(F1,textvariable=NameVar)\n",
    "    Etn1.place(x=300,y=20,anchor='center')\n",
    "    Etn2 = Entry(F1,textvariable=GenderVar)\n",
    "    Etn2.place(x=300,y=70,anchor='center')\n",
    "    Etn3 = Entry(F1,textvariable=AgeVar)\n",
    "    Etn3.place(x=300,y=120,anchor='center')\n",
    "    #ButtonPart\n",
    "    sumbit = Button(F2,text='Sumbit',width=30,height=3,command=Sumbit)\n",
    "    sumbit.place(x=250,y=50,anchor='center')\n",
    "    #ForPycharm\n",
    "    window.mainloop()\n",
    "\n",
    "gui()"
   ]
  }
 ],
 "metadata": {
  "kernelspec": {
   "display_name": "Python 3.10.4 64-bit",
   "language": "python",
   "name": "python3"
  },
  "language_info": {
   "codemirror_mode": {
    "name": "ipython",
    "version": 3
   },
   "file_extension": ".py",
   "mimetype": "text/x-python",
   "name": "python",
   "nbconvert_exporter": "python",
   "pygments_lexer": "ipython3",
   "version": "3.10.4"
  },
  "orig_nbformat": 4,
  "vscode": {
   "interpreter": {
    "hash": "c81d839d3c4227cd770621df97fe8191838af02e7eef185a922d8250cb33d344"
   }
  }
 },
 "nbformat": 4,
 "nbformat_minor": 2
}
