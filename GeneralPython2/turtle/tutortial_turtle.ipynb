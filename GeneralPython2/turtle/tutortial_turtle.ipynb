{
 "cells": [
  {
   "cell_type": "code",
   "execution_count": 1,
   "metadata": {},
   "outputs": [],
   "source": [
    "import turtle as t\n",
    "t.bgcolor(\"blue\")\n",
    "t.title(\"My Turtle Program\")\n",
    "t.pensize(5)\n",
    "t.shapesize(3,3,3)\n",
    "t.fillcolor(\"red\")\n",
    "for i in range(4):\n",
    "    t.fd(100)\n",
    "    t.rt(90)\n",
    "\n",
    "t.circle(60)\n",
    "t.dot(20)"
   ]
  },
  {
   "cell_type": "code",
   "execution_count": 3,
   "metadata": {},
   "outputs": [],
   "source": [
    "n=10\n",
    "while n <= 40:\n",
    "    t.circle(n)\n",
    "    n = n+10"
   ]
  },
  {
   "cell_type": "code",
   "execution_count": 5,
   "metadata": {},
   "outputs": [
    {
     "ename": "",
     "evalue": "",
     "output_type": "error",
     "traceback": [
      "\u001b[1;31mThe Kernel crashed while executing code in the the current cell or a previous cell. Please review the code in the cell(s) to identify a possible cause of the failure. Click <a href='https://aka.ms/vscodeJupyterKernelCrash'>here</a> for more info. View Jupyter <a href='command:jupyter.viewOutput'>log</a> for further details."
     ]
    }
   ],
   "source": [
    "import turtle\n",
    "import random\n",
    "player_one = turtle.Turtle()\n",
    "player_one.color(\"green\")\n",
    "player_one.shape(\"turtle\")\n",
    "player_one.penup()\n",
    "player_one.goto(-200,100)\n",
    "player_two = player_one.clone()\n",
    "player_two.color(\"blue\")\n",
    "player_two.penup()\n",
    "player_two.goto(-200,-100)\n",
    "\n",
    "player_one.goto(300,60)\n",
    "player_one.pendown()\n",
    "player_one.circle(40)\n",
    "player_one.penup()\n",
    "player_one.goto(-200,100)\n",
    "player_two.goto(300,-140)\n",
    "player_two.pendown()\n",
    "player_two.circle(40)\n",
    "player_two.penup()\n",
    "player_two.goto(-200,-100)"
   ]
  },
  {
   "cell_type": "code",
   "execution_count": null,
   "metadata": {},
   "outputs": [],
   "source": []
  },
  {
   "cell_type": "code",
   "execution_count": null,
   "metadata": {},
   "outputs": [],
   "source": []
  }
 ],
 "metadata": {
  "kernelspec": {
   "display_name": "Python 3.10.4 64-bit",
   "language": "python",
   "name": "python3"
  },
  "language_info": {
   "codemirror_mode": {
    "name": "ipython",
    "version": 3
   },
   "file_extension": ".py",
   "mimetype": "text/x-python",
   "name": "python",
   "nbconvert_exporter": "python",
   "pygments_lexer": "ipython3",
   "version": "3.10.4"
  },
  "orig_nbformat": 4,
  "vscode": {
   "interpreter": {
    "hash": "c81d839d3c4227cd770621df97fe8191838af02e7eef185a922d8250cb33d344"
   }
  }
 },
 "nbformat": 4,
 "nbformat_minor": 2
}
